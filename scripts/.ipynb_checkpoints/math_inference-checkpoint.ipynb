{
 "cells": [
  {
   "cell_type": "code",
   "execution_count": 7,
   "id": "693f7777",
   "metadata": {},
   "outputs": [],
   "source": [
    "import numpy\n",
    "import pandas as pd\n",
    "\n",
    "import sympy\n",
    "### similar to mathematica\n",
    "\n",
    "from sympy import Symbol\n",
    "from sympy.vector import CoordSys3D\n",
    "from sympy import MatrixSymbol\n",
    "from sympy.vector import Vector"
   ]
  },
  {
   "cell_type": "code",
   "execution_count": 2,
   "id": "5f0cf3a4",
   "metadata": {},
   "outputs": [],
   "source": [
    "sympy.init_printing(use_latex=True)"
   ]
  },
  {
   "cell_type": "code",
   "execution_count": 12,
   "id": "316f04ed",
   "metadata": {},
   "outputs": [],
   "source": [
    "vec_s = Symbol('vec_s : 3')\n",
    "\n",
    "# coodr = CoordSys3D('vec_s')\n",
    "# vec_t = 2*N.i + 3*N.j - N.k\n",
    "# xyz_s = MatrixSymbol('xyz_s', 1, 3)\n",
    "# xyz_t = MatrixSymbol('xyz_t', 1, 3)\n",
    "# radius = sympy.Symbol('r', real=True)\n",
    "\n",
    "# N = CoordSys3D('N')\n",
    "# v1 = 2*N.i + 3*N.j - N.k\n",
    "# v2 = N.i - 4*N.j + N.k"
   ]
  },
  {
   "cell_type": "code",
   "execution_count": 14,
   "id": "32bcfe4b",
   "metadata": {},
   "outputs": [
    {
     "ename": "TypeError",
     "evalue": "'Symbol' object is not subscriptable",
     "output_type": "error",
     "traceback": [
      "\u001b[1;31m---------------------------------------------------------------------------\u001b[0m",
      "\u001b[1;31mTypeError\u001b[0m                                 Traceback (most recent call last)",
      "\u001b[1;32m~\\AppData\\Local\\Temp\\ipykernel_19068\\3541838646.py\u001b[0m in \u001b[0;36m<module>\u001b[1;34m\u001b[0m\n\u001b[1;32m----> 1\u001b[1;33m \u001b[0mvec_s\u001b[0m\u001b[1;33m[\u001b[0m\u001b[1;36m0\u001b[0m\u001b[1;33m]\u001b[0m\u001b[1;33m\u001b[0m\u001b[1;33m\u001b[0m\u001b[0m\n\u001b[0m",
      "\u001b[1;31mTypeError\u001b[0m: 'Symbol' object is not subscriptable"
     ]
    }
   ],
   "source": [
    "vec_s[0]"
   ]
  },
  {
   "cell_type": "code",
   "execution_count": null,
   "id": "32f2ed21",
   "metadata": {},
   "outputs": [],
   "source": []
  }
 ],
 "metadata": {
  "kernelspec": {
   "display_name": "Python 3 (ipykernel)",
   "language": "python",
   "name": "python3"
  },
  "language_info": {
   "codemirror_mode": {
    "name": "ipython",
    "version": 3
   },
   "file_extension": ".py",
   "mimetype": "text/x-python",
   "name": "python",
   "nbconvert_exporter": "python",
   "pygments_lexer": "ipython3",
   "version": "3.9.13"
  }
 },
 "nbformat": 4,
 "nbformat_minor": 5
}
