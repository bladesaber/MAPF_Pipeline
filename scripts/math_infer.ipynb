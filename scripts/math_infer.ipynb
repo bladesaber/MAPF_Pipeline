{
 "cells": [
  {
   "cell_type": "code",
   "execution_count": 1,
   "metadata": {},
   "outputs": [],
   "source": [
    "import math\n",
    "import numpy as np\n",
    "\n",
    "import sympy\n",
    "### similar to mathematica\n",
    "\n",
    "from sympy import symbols, Symbol\n",
    "\n",
    "sympy.init_printing(use_latex=True)"
   ]
  },
  {
   "attachments": {},
   "cell_type": "markdown",
   "metadata": {},
   "source": [
    "##### Dubins Auv Angle Solution"
   ]
  },
  {
   "cell_type": "code",
   "execution_count": 8,
   "metadata": {},
   "outputs": [],
   "source": [
    "x, y = symbols('x, y', is_positive=True)\n",
    "tan_theta = Symbol('tan_theta')"
   ]
  },
  {
   "cell_type": "code",
   "execution_count": 9,
   "metadata": {},
   "outputs": [],
   "source": [
    "expr1 = sympy.Equality(x**2 + y**2, 1)\n",
    "expr2 = sympy.Equality(y / (1.0 + x), tan_theta)"
   ]
  },
  {
   "cell_type": "code",
   "execution_count": 10,
   "metadata": {},
   "outputs": [
    {
     "data": {
      "image/png": "[encoded data removed]",
      "text/latex": [
       "$\\displaystyle \\left[ \\left\\{ x : \\frac{1.0 - tan_{\\theta}^{2}}{tan_{\\theta}^{2} + 1.0}, \\  y : \\frac{2.0 tan_{\\theta}}{tan_{\\theta}^{2} + 1.0}\\right\\}\\right]$"
      ],
      "text/plain": [
       "⎡⎧                 2                    ⎫⎤\n",
       "⎢⎪   1.0 - tanₜₕₑₜₐ        2.0⋅tanₜₕₑₜₐ ⎪⎥\n",
       "⎢⎨x: ───────────────, y: ───────────────⎬⎥\n",
       "⎢⎪           2                   2      ⎪⎥\n",
       "⎣⎩   tanₜₕₑₜₐ  + 1.0     tanₜₕₑₜₐ  + 1.0⎭⎦"
      ]
     },
     "execution_count": 10,
     "metadata": {},
     "output_type": "execute_result"
    }
   ],
   "source": [
    "res = sympy.solve([expr1, expr2], [x, y], dict=True)\n",
    "res"
   ]
  },
  {
   "cell_type": "code",
   "execution_count": 6,
   "metadata": {},
   "outputs": [],
   "source": [
    "def compute_angel(theta):\n",
    "    tan_theta_v = math.tan(theta)\n",
    "    x = (1.0 - tan_theta_v ** 2) / (1.0 + tan_theta_v**2)\n",
    "    y = 2.0 * tan_theta_v / (1.0 + tan_theta_v**2)\n",
    "    return x, y"
   ]
  },
  {
   "cell_type": "code",
   "execution_count": 11,
   "metadata": {},
   "outputs": [
    {
     "data": {
      "image/png": "[encoded data removed]",
      "text/latex": [
       "$\\displaystyle -48.5$"
      ],
      "text/plain": [
       "-48.5"
      ]
     },
     "execution_count": 11,
     "metadata": {},
     "output_type": "execute_result"
    }
   ],
   "source": [
    "theta = np.deg2rad(-48.5)\n",
    "x, y = compute_angel(theta)\n",
    "\n",
    "r = np.rad2deg(math.atan2(y, 1.0 + x))\n",
    "r"
   ]
  }
 ],
 "metadata": {
  "kernelspec": {
   "display_name": "torch-env",
   "language": "python",
   "name": "python3"
  },
  "language_info": {
   "codemirror_mode": {
    "name": "ipython",
    "version": 3
   },
   "file_extension": ".py",
   "mimetype": "text/x-python",
   "name": "python",
   "nbconvert_exporter": "python",
   "pygments_lexer": "ipython3",
   "version": "3.7.8"
  },
  "orig_nbformat": 4
 },
 "nbformat": 4,
 "nbformat_minor": 2
}
