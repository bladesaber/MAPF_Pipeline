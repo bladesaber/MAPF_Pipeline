{
 "cells": [
  {
   "cell_type": "code",
   "execution_count": 2,
   "metadata": {},
   "outputs": [],
   "source": [
    "import math\n",
    "import numpy as np\n",
    "\n",
    "import sympy\n",
    "### similar to mathematica\n",
    "\n",
    "from sympy import symbols, Symbol\n",
    "\n",
    "sympy.init_printing(use_latex=True)"
   ]
  },
  {
   "attachments": {},
   "cell_type": "markdown",
   "metadata": {},
   "source": [
    "##### Dubins Auv Angle Solution"
   ]
  },
  {
   "cell_type": "code",
   "execution_count": 8,
   "metadata": {},
   "outputs": [],
   "source": [
    "x, y = symbols('x, y', is_positive=True)\n",
    "tan_theta = Symbol('tan_theta')"
   ]
  },
  {
   "cell_type": "code",
   "execution_count": 9,
   "metadata": {},
   "outputs": [],
   "source": [
    "expr1 = sympy.Equality(x**2 + y**2, 1)\n",
    "expr2 = sympy.Equality(y / (1.0 + x), tan_theta)"
   ]
  },
  {
   "cell_type": "code",
   "execution_count": 10,
   "metadata": {},
   "outputs": [
    {
     "data": {
      "image/png": "[encoded data removed]",
      "text/latex": [
       "$\\displaystyle \\left[ \\left\\{ x : \\frac{1.0 - tan_{\\theta}^{2}}{tan_{\\theta}^{2} + 1.0}, \\  y : \\frac{2.0 tan_{\\theta}}{tan_{\\theta}^{2} + 1.0}\\right\\}\\right]$"
      ],
      "text/plain": [
       "⎡⎧                 2                    ⎫⎤\n",
       "⎢⎪   1.0 - tanₜₕₑₜₐ        2.0⋅tanₜₕₑₜₐ ⎪⎥\n",
       "⎢⎨x: ───────────────, y: ───────────────⎬⎥\n",
       "⎢⎪           2                   2      ⎪⎥\n",
       "⎣⎩   tanₜₕₑₜₐ  + 1.0     tanₜₕₑₜₐ  + 1.0⎭⎦"
      ]
     },
     "execution_count": 10,
     "metadata": {},
     "output_type": "execute_result"
    }
   ],
   "source": [
    "res = sympy.solve([expr1, expr2], [x, y], dict=True)\n",
    "res"
   ]
  },
  {
   "cell_type": "code",
   "execution_count": 6,
   "metadata": {},
   "outputs": [],
   "source": [
    "def compute_angel(theta):\n",
    "    tan_theta_v = math.tan(theta)\n",
    "    x = (1.0 - tan_theta_v ** 2) / (1.0 + tan_theta_v**2)\n",
    "    y = 2.0 * tan_theta_v / (1.0 + tan_theta_v**2)\n",
    "    return x, y"
   ]
  },
  {
   "cell_type": "code",
   "execution_count": 11,
   "metadata": {},
   "outputs": [
    {
     "data": {
      "image/png": "[encoded data removed]",
      "text/latex": [
       "$\\displaystyle -48.5$"
      ],
      "text/plain": [
       "-48.5"
      ]
     },
     "execution_count": 11,
     "metadata": {},
     "output_type": "execute_result"
    }
   ],
   "source": [
    "theta = np.deg2rad(-48.5)\n",
    "x, y = compute_angel(theta)\n",
    "\n",
    "r = np.rad2deg(math.atan2(y, 1.0 + x))\n",
    "r"
   ]
  },
  {
   "attachments": {},
   "cell_type": "markdown",
   "metadata": {},
   "source": [
    "##### Flexiable Gradient Compution"
   ]
  },
  {
   "attachments": {},
   "cell_type": "markdown",
   "metadata": {},
   "source": [
    "##### Smoothess"
   ]
  },
  {
   "cell_type": "code",
   "execution_count": 3,
   "metadata": {},
   "outputs": [],
   "source": [
    "x_t0, y_t0, z_t0 = symbols('x_t0, y_t0, z_t0', is_positive=True, is_real=True)\n",
    "x_t1, y_t1, z_t1 = symbols('x_t1, y_t1, z_t1', is_positive=True, is_real=True)\n",
    "x_t2, y_t2, z_t2 = symbols('x_t2, y_t2, z_t2', is_positive=True, is_real=True)"
   ]
  },
  {
   "cell_type": "code",
   "execution_count": 4,
   "metadata": {},
   "outputs": [
    {
     "data": {
      "image/png": "[encoded data removed]",
      "text/latex": [
       "$\\displaystyle \\left(- x_{t0} + x_{t1}\\right)^{2} + \\left(- x_{t1} + x_{t2}\\right)^{2}$"
      ],
      "text/plain": [
       "            2               2\n",
       "(-xₜ₀ + xₜ₁)  + (-xₜ₁ + xₜ₂) "
      ]
     },
     "execution_count": 4,
     "metadata": {},
     "output_type": "execute_result"
    }
   ],
   "source": [
    "f = sympy.Pow(x_t1-x_t0, 2) + sympy.Pow(x_t2-x_t1, 2)\n",
    "f"
   ]
  },
  {
   "cell_type": "code",
   "execution_count": 3,
   "metadata": {},
   "outputs": [],
   "source": [
    "loss0 = sympy.Pow(x_t1-x_t0, 2) + sympy.Pow(y_t1-y_t0, 2) + sympy.Pow(z_t1-z_t0, 2)\n",
    "loss1 = sympy.Pow(x_t2-x_t1, 2) + sympy.Pow(y_t2-y_t1, 2) + sympy.Pow(z_t2-z_t1, 2)\n",
    "loss = loss0 + loss1"
   ]
  },
  {
   "cell_type": "code",
   "execution_count": 7,
   "metadata": {},
   "outputs": [
    {
     "data": {
      "image/png": "[encoded data removed]",
      "text/latex": [
       "$\\displaystyle - 2 x_{t0} + 4 x_{t1} - 2 x_{t2}$"
      ],
      "text/plain": [
       "-2⋅xₜ₀ + 4⋅xₜ₁ - 2⋅xₜ₂"
      ]
     },
     "execution_count": 7,
     "metadata": {},
     "output_type": "execute_result"
    }
   ],
   "source": [
    "sympy.diff(loss, (x_t1, 1))"
   ]
  },
  {
   "cell_type": "code",
   "execution_count": 8,
   "metadata": {},
   "outputs": [
    {
     "data": {
      "image/png": "[encoded data removed]",
      "text/latex": [
       "$\\displaystyle - 2 y_{t0} + 4 y_{t1} - 2 y_{t2}$"
      ],
      "text/plain": [
       "-2⋅yₜ₀ + 4⋅yₜ₁ - 2⋅yₜ₂"
      ]
     },
     "execution_count": 8,
     "metadata": {},
     "output_type": "execute_result"
    }
   ],
   "source": [
    "sympy.diff(loss, (y_t1, 1))"
   ]
  },
  {
   "cell_type": "code",
   "execution_count": 9,
   "metadata": {},
   "outputs": [
    {
     "data": {
      "image/png": "[encoded data removed]",
      "text/latex": [
       "$\\displaystyle - 2 z_{t0} + 4 z_{t1} - 2 z_{t2}$"
      ],
      "text/plain": [
       "-2⋅zₜ₀ + 4⋅zₜ₁ - 2⋅zₜ₂"
      ]
     },
     "execution_count": 9,
     "metadata": {},
     "output_type": "execute_result"
    }
   ],
   "source": [
    "sympy.diff(loss, (z_t1, 1))"
   ]
  },
  {
   "attachments": {},
   "cell_type": "markdown",
   "metadata": {},
   "source": [
    "##### Conflict"
   ]
  },
  {
   "cell_type": "code",
   "execution_count": 2,
   "metadata": {},
   "outputs": [],
   "source": [
    "x_1, y_1, z_1 = symbols('x_1, y_1, z_1', is_positive=True, is_real=True)\n",
    "x_2, y_2, z_2 = symbols('x_2, y_2, z_2', is_positive=True, is_real=True)\n",
    "length_max = Symbol('length_max', is_positive=True, is_real=True)"
   ]
  },
  {
   "cell_type": "code",
   "execution_count": 3,
   "metadata": {},
   "outputs": [],
   "source": [
    "length = sympy.sqrt(sympy.Pow(x_1-x_2, 2) + sympy.Pow(y_1-y_2, 2) + sympy.Pow(z_1-z_2, 2))\n",
    "loss = sympy.Pow(length - length_max, 2)"
   ]
  },
  {
   "cell_type": "code",
   "execution_count": 4,
   "metadata": {},
   "outputs": [
    {
     "data": {
      "image/png": "[encoded data removed]",
      "text/latex": [
       "$\\displaystyle \\frac{2 \\left(- length_{max} + \\sqrt{\\left(x_{1} - x_{2}\\right)^{2} + \\left(y_{1} - y_{2}\\right)^{2} + \\left(z_{1} - z_{2}\\right)^{2}}\\right) \\left(x_{1} - x_{2}\\right)}{\\sqrt{\\left(x_{1} - x_{2}\\right)^{2} + \\left(y_{1} - y_{2}\\right)^{2} + \\left(z_{1} - z_{2}\\right)^{2}}}$"
      ],
      "text/plain": [
       "  ⎛                ______________________________________⎞          \n",
       "  ⎜               ╱          2            2            2 ⎟          \n",
       "2⋅⎝-lengthₘₐₓ + ╲╱  (x₁ - x₂)  + (y₁ - y₂)  + (z₁ - z₂)  ⎠⋅(x₁ - x₂)\n",
       "────────────────────────────────────────────────────────────────────\n",
       "                ______________________________________              \n",
       "               ╱          2            2            2               \n",
       "             ╲╱  (x₁ - x₂)  + (y₁ - y₂)  + (z₁ - z₂)                "
      ]
     },
     "execution_count": 4,
     "metadata": {},
     "output_type": "execute_result"
    }
   ],
   "source": [
    "sympy.diff(loss, x_1)"
   ]
  },
  {
   "cell_type": "code",
   "execution_count": 5,
   "metadata": {},
   "outputs": [
    {
     "data": {
      "image/png": "[encoded data removed]",
      "text/latex": [
       "$\\displaystyle \\frac{2 \\left(- length_{max} + \\sqrt{\\left(x_{1} - x_{2}\\right)^{2} + \\left(y_{1} - y_{2}\\right)^{2} + \\left(z_{1} - z_{2}\\right)^{2}}\\right) \\left(y_{1} - y_{2}\\right)}{\\sqrt{\\left(x_{1} - x_{2}\\right)^{2} + \\left(y_{1} - y_{2}\\right)^{2} + \\left(z_{1} - z_{2}\\right)^{2}}}$"
      ],
      "text/plain": [
       "  ⎛                ______________________________________⎞          \n",
       "  ⎜               ╱          2            2            2 ⎟          \n",
       "2⋅⎝-lengthₘₐₓ + ╲╱  (x₁ - x₂)  + (y₁ - y₂)  + (z₁ - z₂)  ⎠⋅(y₁ - y₂)\n",
       "────────────────────────────────────────────────────────────────────\n",
       "                ______________________________________              \n",
       "               ╱          2            2            2               \n",
       "             ╲╱  (x₁ - x₂)  + (y₁ - y₂)  + (z₁ - z₂)                "
      ]
     },
     "execution_count": 5,
     "metadata": {},
     "output_type": "execute_result"
    }
   ],
   "source": [
    "sympy.diff(loss, y_1)"
   ]
  },
  {
   "cell_type": "code",
   "execution_count": 6,
   "metadata": {},
   "outputs": [
    {
     "data": {
      "image/png": "[encoded data removed]",
      "text/latex": [
       "$\\displaystyle \\frac{2 \\left(- length_{max} + \\sqrt{\\left(x_{1} - x_{2}\\right)^{2} + \\left(y_{1} - y_{2}\\right)^{2} + \\left(z_{1} - z_{2}\\right)^{2}}\\right) \\left(z_{1} - z_{2}\\right)}{\\sqrt{\\left(x_{1} - x_{2}\\right)^{2} + \\left(y_{1} - y_{2}\\right)^{2} + \\left(z_{1} - z_{2}\\right)^{2}}}$"
      ],
      "text/plain": [
       "  ⎛                ______________________________________⎞          \n",
       "  ⎜               ╱          2            2            2 ⎟          \n",
       "2⋅⎝-lengthₘₐₓ + ╲╱  (x₁ - x₂)  + (y₁ - y₂)  + (z₁ - z₂)  ⎠⋅(z₁ - z₂)\n",
       "────────────────────────────────────────────────────────────────────\n",
       "                ______________________________________              \n",
       "               ╱          2            2            2               \n",
       "             ╲╱  (x₁ - x₂)  + (y₁ - y₂)  + (z₁ - z₂)                "
      ]
     },
     "execution_count": 6,
     "metadata": {},
     "output_type": "execute_result"
    }
   ],
   "source": [
    "sympy.diff(loss, z_1)"
   ]
  },
  {
   "attachments": {},
   "cell_type": "markdown",
   "metadata": {},
   "source": [
    "##### Curvature"
   ]
  },
  {
   "cell_type": "code",
   "execution_count": 3,
   "metadata": {},
   "outputs": [],
   "source": [
    "x_t0, y_t0, z_t0 = symbols('x_t0, y_t0, z_t0', is_positive=True, is_real=True)\n",
    "x_t1, y_t1, z_t1 = symbols('x_t1, y_t1, z_t1', is_positive=True, is_real=True)\n",
    "x_t2, y_t2, z_t2 = symbols('x_t2, y_t2, z_t2', is_positive=True, is_real=True)\n",
    "curvature_max = Symbol('curvature_max', is_positive=True, is_real=True)"
   ]
  },
  {
   "cell_type": "code",
   "execution_count": 4,
   "metadata": {},
   "outputs": [],
   "source": [
    "vecx_01 = x_t1 - x_t0\n",
    "vecy_01 = y_t1 - y_t0\n",
    "vecz_01 = z_t1 - z_t0\n",
    "\n",
    "vecx_12 = x_t2 - x_t1\n",
    "vecy_12 = y_t2 - y_t1\n",
    "vecz_12 = z_t2 - z_t1\n",
    "\n",
    "length_01 = sympy.sqrt(\n",
    "    sympy.Pow(vecx_01, 2) + sympy.Pow(vecy_01, 2) + sympy.Pow(vecz_01, 2)\n",
    ")\n",
    "length_12 = sympy.sqrt(\n",
    "    sympy.Pow(vecx_12, 2) + sympy.Pow(vecy_12, 2) + sympy.Pow(vecz_12, 2)\n",
    ")\n",
    "\n",
    "cos_theta = (vecx_01 * vecx_12 + vecy_01 * vecy_01 + vecz_01 * vecz_12) / (length_01 * length_12)\n",
    "theta = sympy.acos(cos_theta)\n",
    "\n",
    "loss = theta / length_12 - curvature_max"
   ]
  },
  {
   "cell_type": "code",
   "execution_count": 7,
   "metadata": {},
   "outputs": [
    {
     "data": {
      "image/png": "[encoded data removed]",
      "text/latex": [
       "$\\displaystyle \\frac{\\left(- x_{t1} + x_{t2}\\right) \\operatorname{acos}{\\left(\\frac{\\left(- x_{t0} + x_{t1}\\right) \\left(- x_{t1} + x_{t2}\\right) + \\left(- y_{t0} + y_{t1}\\right)^{2} + \\left(- z_{t0} + z_{t1}\\right) \\left(- z_{t1} + z_{t2}\\right)}{\\sqrt{\\left(- x_{t0} + x_{t1}\\right)^{2} + \\left(- y_{t0} + y_{t1}\\right)^{2} + \\left(- z_{t0} + z_{t1}\\right)^{2}} \\sqrt{\\left(- x_{t1} + x_{t2}\\right)^{2} + \\left(- y_{t1} + y_{t2}\\right)^{2} + \\left(- z_{t1} + z_{t2}\\right)^{2}}} \\right)}}{\\left(\\left(- x_{t1} + x_{t2}\\right)^{2} + \\left(- y_{t1} + y_{t2}\\right)^{2} + \\left(- z_{t1} + z_{t2}\\right)^{2}\\right)^{\\frac{3}{2}}} - \\frac{\\frac{\\left(x_{t0} - x_{t1}\\right) \\left(\\left(- x_{t0} + x_{t1}\\right) \\left(- x_{t1} + x_{t2}\\right) + \\left(- y_{t0} + y_{t1}\\right)^{2} + \\left(- z_{t0} + z_{t1}\\right) \\left(- z_{t1} + z_{t2}\\right)\\right)}{\\left(\\left(- x_{t0} + x_{t1}\\right)^{2} + \\left(- y_{t0} + y_{t1}\\right)^{2} + \\left(- z_{t0} + z_{t1}\\right)^{2}\\right)^{\\frac{3}{2}} \\sqrt{\\left(- x_{t1} + x_{t2}\\right)^{2} + \\left(- y_{t1} + y_{t2}\\right)^{2} + \\left(- z_{t1} + z_{t2}\\right)^{2}}} + \\frac{\\left(- x_{t1} + x_{t2}\\right) \\left(\\left(- x_{t0} + x_{t1}\\right) \\left(- x_{t1} + x_{t2}\\right) + \\left(- y_{t0} + y_{t1}\\right)^{2} + \\left(- z_{t0} + z_{t1}\\right) \\left(- z_{t1} + z_{t2}\\right)\\right)}{\\sqrt{\\left(- x_{t0} + x_{t1}\\right)^{2} + \\left(- y_{t0} + y_{t1}\\right)^{2} + \\left(- z_{t0} + z_{t1}\\right)^{2}} \\left(\\left(- x_{t1} + x_{t2}\\right)^{2} + \\left(- y_{t1} + y_{t2}\\right)^{2} + \\left(- z_{t1} + z_{t2}\\right)^{2}\\right)^{\\frac{3}{2}}} + \\frac{x_{t0} - 2 x_{t1} + x_{t2}}{\\sqrt{\\left(- x_{t0} + x_{t1}\\right)^{2} + \\left(- y_{t0} + y_{t1}\\right)^{2} + \\left(- z_{t0} + z_{t1}\\right)^{2}} \\sqrt{\\left(- x_{t1} + x_{t2}\\right)^{2} + \\left(- y_{t1} + y_{t2}\\right)^{2} + \\left(- z_{t1} + z_{t2}\\right)^{2}}}}{\\sqrt{- \\frac{\\left(\\left(- x_{t0} + x_{t1}\\right) \\left(- x_{t1} + x_{t2}\\right) + \\left(- y_{t0} + y_{t1}\\right)^{2} + \\left(- z_{t0} + z_{t1}\\right) \\left(- z_{t1} + z_{t2}\\right)\\right)^{2}}{\\left(\\left(- x_{t0} + x_{t1}\\right)^{2} + \\left(- y_{t0} + y_{t1}\\right)^{2} + \\left(- z_{t0} + z_{t1}\\right)^{2}\\right) \\left(\\left(- x_{t1} + x_{t2}\\right)^{2} + \\left(- y_{t1} + y_{t2}\\right)^{2} + \\left(- z_{t1} + z_{t2}\\right)^{2}\\right)} + 1} \\sqrt{\\left(- x_{t1} + x_{t2}\\right)^{2} + \\left(- y_{t1} + y_{t2}\\right)^{2} + \\left(- z_{t1} + z_{t2}\\right)^{2}}}$"
      ],
      "text/plain": [
       "                 ⎛                                                        2   \n",
       "                 ⎜                (-xₜ₀ + xₜ₁)⋅(-xₜ₁ + xₜ₂) + (-yₜ₀ + yₜ₁)  + \n",
       "(-xₜ₁ + xₜ₂)⋅acos⎜────────────────────────────────────────────────────────────\n",
       "                 ⎜   _______________________________________________    ______\n",
       "                 ⎜  ╱             2               2               2    ╱      \n",
       "                 ⎝╲╱  (-xₜ₀ + xₜ₁)  + (-yₜ₀ + yₜ₁)  + (-zₜ₀ + zₜ₁)  ⋅╲╱  (-xₜ₁\n",
       "──────────────────────────────────────────────────────────────────────────────\n",
       "                                                                              \n",
       "                                   ⎛            2               2             \n",
       "                                   ⎝(-xₜ₁ + xₜ₂)  + (-yₜ₁ + yₜ₂)  + (-zₜ₁ + zₜ\n",
       "                                                                              \n",
       "                                                                              \n",
       "                                                                              \n",
       "                                                                              \n",
       "\n",
       "                                         ⎞                        ⎛           \n",
       "(-zₜ₀ + zₜ₁)⋅(-zₜ₁ + zₜ₂)                ⎟            (xₜ₀ - xₜ₁)⋅⎝(-xₜ₀ + xₜ₁\n",
       "─────────────────────────────────────────⎟   ─────────────────────────────────\n",
       "_________________________________________⎟                                    \n",
       "       2               2               2 ⎟   ⎛            2               2   \n",
       " + xₜ₂)  + (-yₜ₁ + yₜ₂)  + (-zₜ₁ + zₜ₂)  ⎠   ⎝(-xₜ₀ + xₜ₁)  + (-yₜ₀ + yₜ₁)  + \n",
       "────────────────────────────────────────── - ─────────────────────────────────\n",
       "    3/2                                                                       \n",
       "  2⎞                                                                          \n",
       "₂) ⎠                                                                          \n",
       "                                                                              \n",
       "                                                                              \n",
       "                                                                              \n",
       "                                                                              \n",
       "\n",
       "                             2                            ⎞                   \n",
       ")⋅(-xₜ₁ + xₜ₂) + (-yₜ₀ + yₜ₁)  + (-zₜ₀ + zₜ₁)⋅(-zₜ₁ + zₜ₂)⎠                   \n",
       "──────────────────────────────────────────────────────────────────── + ───────\n",
       "              3/2    _______________________________________________      ____\n",
       "            2⎞      ╱             2               2               2      ╱    \n",
       "(-zₜ₀ + zₜ₁) ⎠   ⋅╲╱  (-xₜ₁ + xₜ₂)  + (-yₜ₁ + yₜ₂)  + (-zₜ₁ + zₜ₂)     ╲╱  (-x\n",
       "──────────────────────────────────────────────────────────────────────────────\n",
       "                                                ______________________________\n",
       "                                               ╱                              \n",
       "                                              ╱                ⎛              \n",
       "                                             ╱                 ⎝(-xₜ₀ + xₜ₁)⋅(\n",
       "                                            ╱    - ───────────────────────────\n",
       "                                           ╱       ⎛            2             \n",
       "                                         ╲╱        ⎝(-xₜ₀ + xₜ₁)  + (-yₜ₀ + yₜ\n",
       "\n",
       "               ⎛                                        2                     \n",
       "  (-xₜ₁ + xₜ₂)⋅⎝(-xₜ₀ + xₜ₁)⋅(-xₜ₁ + xₜ₂) + (-yₜ₀ + yₜ₁)  + (-zₜ₀ + zₜ₁)⋅(-zₜ₁\n",
       "──────────────────────────────────────────────────────────────────────────────\n",
       "___________________________________________                                   \n",
       "         2               2               2  ⎛            2               2    \n",
       "ₜ₀ + xₜ₁)  + (-yₜ₀ + yₜ₁)  + (-zₜ₀ + zₜ₁)  ⋅⎝(-xₜ₁ + xₜ₂)  + (-yₜ₁ + yₜ₂)  + (\n",
       "──────────────────────────────────────────────────────────────────────────────\n",
       "_________________________________________________________________________     \n",
       "                                                        2                     \n",
       "                          2                            ⎞                     _\n",
       "-xₜ₁ + xₜ₂) + (-yₜ₀ + yₜ₁)  + (-zₜ₀ + zₜ₁)⋅(-zₜ₁ + zₜ₂)⎠                    ╱ \n",
       "──────────────────────────────────────────────────────────────────── + 1 ⋅╲╱  \n",
       "  2               2⎞ ⎛            2               2               2⎞          \n",
       "₁)  + (-zₜ₀ + zₜ₁) ⎠⋅⎝(-xₜ₁ + xₜ₂)  + (-yₜ₁ + yₜ₂)  + (-zₜ₁ + zₜ₂) ⎠          \n",
       "\n",
       "       ⎞                                                                      \n",
       " + zₜ₂)⎠                                                     xₜ₀ - 2⋅xₜ₁ + xₜ₂\n",
       "──────────────── + ───────────────────────────────────────────────────────────\n",
       "             3/2      _______________________________________________    _____\n",
       "           2⎞        ╱             2               2               2    ╱     \n",
       "-zₜ₁ + zₜ₂) ⎠      ╲╱  (-xₜ₀ + xₜ₁)  + (-yₜ₀ + yₜ₁)  + (-zₜ₀ + zₜ₁)  ⋅╲╱  (-xₜ\n",
       "──────────────────────────────────────────────────────────────────────────────\n",
       "                                                                              \n",
       "                                                                              \n",
       "______________________________________________                                \n",
       "            2               2               2                                 \n",
       "(-xₜ₁ + xₜ₂)  + (-yₜ₁ + yₜ₂)  + (-zₜ₁ + zₜ₂)                                  \n",
       "                                                                              \n",
       "                                                                              \n",
       "\n",
       "                                          \n",
       "                                          \n",
       "──────────────────────────────────────────\n",
       "__________________________________________\n",
       "        2               2               2 \n",
       "₁ + xₜ₂)  + (-yₜ₁ + yₜ₂)  + (-zₜ₁ + zₜ₂)  \n",
       "──────────────────────────────────────────\n",
       "                                          \n",
       "                                          \n",
       "                                          \n",
       "                                          \n",
       "                                          \n",
       "                                          \n",
       "                                          "
      ]
     },
     "execution_count": 7,
     "metadata": {},
     "output_type": "execute_result"
    }
   ],
   "source": [
    "sympy.diff(loss, x_t1)"
   ]
  }
 ],
 "metadata": {
  "kernelspec": {
   "display_name": "torch-env",
   "language": "python",
   "name": "python3"
  },
  "language_info": {
   "codemirror_mode": {
    "name": "ipython",
    "version": 3
   },
   "file_extension": ".py",
   "mimetype": "text/x-python",
   "name": "python",
   "nbconvert_exporter": "python",
   "pygments_lexer": "ipython3",
   "version": "3.7.8"
  },
  "orig_nbformat": 4
 },
 "nbformat": 4,
 "nbformat_minor": 2
}
