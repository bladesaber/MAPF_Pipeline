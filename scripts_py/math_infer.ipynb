{
 "cells": [
  {
   "cell_type": "code",
   "execution_count": 1,
   "metadata": {},
   "outputs": [],
   "source": [
    "import math\n",
    "import numpy as np\n",
    "\n",
    "import sympy\n",
    "### similar to mathematica\n",
    "\n",
    "from sympy import symbols, Symbol\n",
    "\n",
    "sympy.init_printing(use_latex=True)"
   ]
  },
  {
   "attachments": {},
   "cell_type": "markdown",
   "metadata": {},
   "source": [
    "##### Dubins Auv Angle Solution"
   ]
  },
  {
   "cell_type": "code",
   "execution_count": 8,
   "metadata": {},
   "outputs": [],
   "source": [
    "x, y = symbols('x, y', is_positive=True)\n",
    "tan_theta = Symbol('tan_theta')"
   ]
  },
  {
   "cell_type": "code",
   "execution_count": 9,
   "metadata": {},
   "outputs": [],
   "source": [
    "expr1 = sympy.Equality(x**2 + y**2, 1)\n",
    "expr2 = sympy.Equality(y / (1.0 + x), tan_theta)"
   ]
  },
  {
   "cell_type": "code",
   "execution_count": 10,
   "metadata": {},
   "outputs": [
    {
     "data": {
      "image/png": "[encoded data removed]",
      "text/latex": [
       "$\\displaystyle \\left[ \\left\\{ x : \\frac{1.0 - tan_{\\theta}^{2}}{tan_{\\theta}^{2} + 1.0}, \\  y : \\frac{2.0 tan_{\\theta}}{tan_{\\theta}^{2} + 1.0}\\right\\}\\right]$"
      ],
      "text/plain": [
       "⎡⎧                 2                    ⎫⎤\n",
       "⎢⎪   1.0 - tanₜₕₑₜₐ        2.0⋅tanₜₕₑₜₐ ⎪⎥\n",
       "⎢⎨x: ───────────────, y: ───────────────⎬⎥\n",
       "⎢⎪           2                   2      ⎪⎥\n",
       "⎣⎩   tanₜₕₑₜₐ  + 1.0     tanₜₕₑₜₐ  + 1.0⎭⎦"
      ]
     },
     "execution_count": 10,
     "metadata": {},
     "output_type": "execute_result"
    }
   ],
   "source": [
    "res = sympy.solve([expr1, expr2], [x, y], dict=True)\n",
    "res"
   ]
  },
  {
   "cell_type": "code",
   "execution_count": 6,
   "metadata": {},
   "outputs": [],
   "source": [
    "def compute_angel(theta):\n",
    "    tan_theta_v = math.tan(theta)\n",
    "    x = (1.0 - tan_theta_v ** 2) / (1.0 + tan_theta_v**2)\n",
    "    y = 2.0 * tan_theta_v / (1.0 + tan_theta_v**2)\n",
    "    return x, y"
   ]
  },
  {
   "cell_type": "code",
   "execution_count": 11,
   "metadata": {},
   "outputs": [
    {
     "data": {
      "image/png": "[encoded data removed]",
      "text/latex": [
       "$\\displaystyle -48.5$"
      ],
      "text/plain": [
       "-48.5"
      ]
     },
     "execution_count": 11,
     "metadata": {},
     "output_type": "execute_result"
    }
   ],
   "source": [
    "theta = np.deg2rad(-48.5)\n",
    "x, y = compute_angel(theta)\n",
    "\n",
    "r = np.rad2deg(math.atan2(y, 1.0 + x))\n",
    "r"
   ]
  },
  {
   "attachments": {},
   "cell_type": "markdown",
   "metadata": {},
   "source": [
    "##### Flexiable Gradient Compution"
   ]
  },
  {
   "attachments": {},
   "cell_type": "markdown",
   "metadata": {},
   "source": [
    "##### Smoothess"
   ]
  },
  {
   "cell_type": "code",
   "execution_count": 3,
   "metadata": {},
   "outputs": [],
   "source": [
    "x_t0, y_t0, z_t0 = symbols('x_t0, y_t0, z_t0', is_positive=True, is_real=True)\n",
    "x_t1, y_t1, z_t1 = symbols('x_t1, y_t1, z_t1', is_positive=True, is_real=True)\n",
    "x_t2, y_t2, z_t2 = symbols('x_t2, y_t2, z_t2', is_positive=True, is_real=True)"
   ]
  },
  {
   "cell_type": "code",
   "execution_count": 4,
   "metadata": {},
   "outputs": [
    {
     "data": {
      "image/png": "[encoded data removed]",
      "text/latex": [
       "$\\displaystyle \\left(- x_{t0} + x_{t1}\\right)^{2} + \\left(- x_{t1} + x_{t2}\\right)^{2}$"
      ],
      "text/plain": [
       "            2               2\n",
       "(-xₜ₀ + xₜ₁)  + (-xₜ₁ + xₜ₂) "
      ]
     },
     "execution_count": 4,
     "metadata": {},
     "output_type": "execute_result"
    }
   ],
   "source": [
    "f = sympy.Pow(x_t1-x_t0, 2) + sympy.Pow(x_t2-x_t1, 2)\n",
    "f"
   ]
  },
  {
   "cell_type": "code",
   "execution_count": 3,
   "metadata": {},
   "outputs": [],
   "source": [
    "loss0 = sympy.Pow(x_t1-x_t0, 2) + sympy.Pow(y_t1-y_t0, 2) + sympy.Pow(z_t1-z_t0, 2)\n",
    "loss1 = sympy.Pow(x_t2-x_t1, 2) + sympy.Pow(y_t2-y_t1, 2) + sympy.Pow(z_t2-z_t1, 2)\n",
    "loss = loss0 + loss1"
   ]
  },
  {
   "cell_type": "code",
   "execution_count": 7,
   "metadata": {},
   "outputs": [
    {
     "data": {
      "image/png": "[encoded data removed]",
      "text/latex": [
       "$\\displaystyle - 2 x_{t0} + 4 x_{t1} - 2 x_{t2}$"
      ],
      "text/plain": [
       "-2⋅xₜ₀ + 4⋅xₜ₁ - 2⋅xₜ₂"
      ]
     },
     "execution_count": 7,
     "metadata": {},
     "output_type": "execute_result"
    }
   ],
   "source": [
    "sympy.diff(loss, (x_t1, 1))"
   ]
  },
  {
   "cell_type": "code",
   "execution_count": 8,
   "metadata": {},
   "outputs": [
    {
     "data": {
      "image/png": "[encoded data removed]",
      "text/latex": [
       "$\\displaystyle - 2 y_{t0} + 4 y_{t1} - 2 y_{t2}$"
      ],
      "text/plain": [
       "-2⋅yₜ₀ + 4⋅yₜ₁ - 2⋅yₜ₂"
      ]
     },
     "execution_count": 8,
     "metadata": {},
     "output_type": "execute_result"
    }
   ],
   "source": [
    "sympy.diff(loss, (y_t1, 1))"
   ]
  },
  {
   "cell_type": "code",
   "execution_count": 9,
   "metadata": {},
   "outputs": [
    {
     "data": {
      "image/png": "[encoded data removed]",
      "text/latex": [
       "$\\displaystyle - 2 z_{t0} + 4 z_{t1} - 2 z_{t2}$"
      ],
      "text/plain": [
       "-2⋅zₜ₀ + 4⋅zₜ₁ - 2⋅zₜ₂"
      ]
     },
     "execution_count": 9,
     "metadata": {},
     "output_type": "execute_result"
    }
   ],
   "source": [
    "sympy.diff(loss, (z_t1, 1))"
   ]
  },
  {
   "attachments": {},
   "cell_type": "markdown",
   "metadata": {},
   "source": [
    "##### Conflict"
   ]
  },
  {
   "cell_type": "code",
   "execution_count": 2,
   "metadata": {},
   "outputs": [],
   "source": [
    "x_1, y_1, z_1 = symbols('x_1, y_1, z_1', is_positive=True, is_real=True)\n",
    "x_2, y_2, z_2 = symbols('x_2, y_2, z_2', is_positive=True, is_real=True)\n",
    "length_max = Symbol('length_max', is_positive=True, is_real=True)"
   ]
  },
  {
   "cell_type": "code",
   "execution_count": 3,
   "metadata": {},
   "outputs": [],
   "source": [
    "length = sympy.sqrt(sympy.Pow(x_1-x_2, 2) + sympy.Pow(y_1-y_2, 2) + sympy.Pow(z_1-z_2, 2))\n",
    "loss = sympy.Pow(length - length_max, 2)"
   ]
  },
  {
   "cell_type": "code",
   "execution_count": 4,
   "metadata": {},
   "outputs": [
    {
     "data": {
      "image/png": "[encoded data removed]",
      "text/latex": [
       "$\\displaystyle \\frac{2 \\left(- length_{max} + \\sqrt{\\left(x_{1} - x_{2}\\right)^{2} + \\left(y_{1} - y_{2}\\right)^{2} + \\left(z_{1} - z_{2}\\right)^{2}}\\right) \\left(x_{1} - x_{2}\\right)}{\\sqrt{\\left(x_{1} - x_{2}\\right)^{2} + \\left(y_{1} - y_{2}\\right)^{2} + \\left(z_{1} - z_{2}\\right)^{2}}}$"
      ],
      "text/plain": [
       "  ⎛                ______________________________________⎞          \n",
       "  ⎜               ╱          2            2            2 ⎟          \n",
       "2⋅⎝-lengthₘₐₓ + ╲╱  (x₁ - x₂)  + (y₁ - y₂)  + (z₁ - z₂)  ⎠⋅(x₁ - x₂)\n",
       "────────────────────────────────────────────────────────────────────\n",
       "                ______________________________________              \n",
       "               ╱          2            2            2               \n",
       "             ╲╱  (x₁ - x₂)  + (y₁ - y₂)  + (z₁ - z₂)                "
      ]
     },
     "execution_count": 4,
     "metadata": {},
     "output_type": "execute_result"
    }
   ],
   "source": [
    "sympy.diff(loss, x_1)"
   ]
  },
  {
   "cell_type": "code",
   "execution_count": 5,
   "metadata": {},
   "outputs": [
    {
     "data": {
      "image/png": "[encoded data removed]",
      "text/latex": [
       "$\\displaystyle \\frac{2 \\left(- length_{max} + \\sqrt{\\left(x_{1} - x_{2}\\right)^{2} + \\left(y_{1} - y_{2}\\right)^{2} + \\left(z_{1} - z_{2}\\right)^{2}}\\right) \\left(y_{1} - y_{2}\\right)}{\\sqrt{\\left(x_{1} - x_{2}\\right)^{2} + \\left(y_{1} - y_{2}\\right)^{2} + \\left(z_{1} - z_{2}\\right)^{2}}}$"
      ],
      "text/plain": [
       "  ⎛                ______________________________________⎞          \n",
       "  ⎜               ╱          2            2            2 ⎟          \n",
       "2⋅⎝-lengthₘₐₓ + ╲╱  (x₁ - x₂)  + (y₁ - y₂)  + (z₁ - z₂)  ⎠⋅(y₁ - y₂)\n",
       "────────────────────────────────────────────────────────────────────\n",
       "                ______________________________________              \n",
       "               ╱          2            2            2               \n",
       "             ╲╱  (x₁ - x₂)  + (y₁ - y₂)  + (z₁ - z₂)                "
      ]
     },
     "execution_count": 5,
     "metadata": {},
     "output_type": "execute_result"
    }
   ],
   "source": [
    "sympy.diff(loss, y_1)"
   ]
  },
  {
   "cell_type": "code",
   "execution_count": 6,
   "metadata": {},
   "outputs": [
    {
     "data": {
      "image/png": "[encoded data removed]",
      "text/latex": [
       "$\\displaystyle \\frac{2 \\left(- length_{max} + \\sqrt{\\left(x_{1} - x_{2}\\right)^{2} + \\left(y_{1} - y_{2}\\right)^{2} + \\left(z_{1} - z_{2}\\right)^{2}}\\right) \\left(z_{1} - z_{2}\\right)}{\\sqrt{\\left(x_{1} - x_{2}\\right)^{2} + \\left(y_{1} - y_{2}\\right)^{2} + \\left(z_{1} - z_{2}\\right)^{2}}}$"
      ],
      "text/plain": [
       "  ⎛                ______________________________________⎞          \n",
       "  ⎜               ╱          2            2            2 ⎟          \n",
       "2⋅⎝-lengthₘₐₓ + ╲╱  (x₁ - x₂)  + (y₁ - y₂)  + (z₁ - z₂)  ⎠⋅(z₁ - z₂)\n",
       "────────────────────────────────────────────────────────────────────\n",
       "                ______________________________________              \n",
       "               ╱          2            2            2               \n",
       "             ╲╱  (x₁ - x₂)  + (y₁ - y₂)  + (z₁ - z₂)                "
      ]
     },
     "execution_count": 6,
     "metadata": {},
     "output_type": "execute_result"
    }
   ],
   "source": [
    "sympy.diff(loss, z_1)"
   ]
  },
  {
   "attachments": {},
   "cell_type": "markdown",
   "metadata": {},
   "source": [
    "##### Curvature"
   ]
  },
  {
   "cell_type": "code",
   "execution_count": 3,
   "metadata": {},
   "outputs": [],
   "source": [
    "x_t0, y_t0, z_t0 = symbols('x_t0, y_t0, z_t0', is_positive=True, is_real=True)\n",
    "x_t1, y_t1, z_t1 = symbols('x_t1, y_t1, z_t1', is_positive=True, is_real=True)\n",
    "x_t2, y_t2, z_t2 = symbols('x_t2, y_t2, z_t2', is_positive=True, is_real=True)\n",
    "curvature_max = Symbol('curvature_max', is_positive=True, is_real=True)"
   ]
  },
  {
   "cell_type": "code",
   "execution_count": 4,
   "metadata": {},
   "outputs": [],
   "source": [
    "vecx_01 = x_t1 - x_t0\n",
    "vecy_01 = y_t1 - y_t0\n",
    "vecz_01 = z_t1 - z_t0\n",
    "\n",
    "vecx_12 = x_t2 - x_t1\n",
    "vecy_12 = y_t2 - y_t1\n",
    "vecz_12 = z_t2 - z_t1\n",
    "\n",
    "length_01 = sympy.sqrt(\n",
    "    sympy.Pow(vecx_01, 2) + sympy.Pow(vecy_01, 2) + sympy.Pow(vecz_01, 2)\n",
    ")\n",
    "length_12 = sympy.sqrt(\n",
    "    sympy.Pow(vecx_12, 2) + sympy.Pow(vecy_12, 2) + sympy.Pow(vecz_12, 2)\n",
    ")\n",
    "\n",
    "cos_theta = (vecx_01 * vecx_12 + vecy_01 * vecy_01 + vecz_01 * vecz_12) / (length_01 * length_12)\n",
    "theta = sympy.acos(cos_theta)\n",
    "\n",
    "loss = theta / length_12 - curvature_max"
   ]
  },
  {
   "cell_type": "code",
   "execution_count": 7,
   "metadata": {},
   "outputs": [
    {
     "data": {
      "image/png": "[encoded data removed]",
      "text/latex": [
       "$\\displaystyle \\frac{\\left(- x_{t1} + x_{t2}\\right) \\operatorname{acos}{\\left(\\frac{\\left(- x_{t0} + x_{t1}\\right) \\left(- x_{t1} + x_{t2}\\right) + \\left(- y_{t0} + y_{t1}\\right)^{2} + \\left(- z_{t0} + z_{t1}\\right) \\left(- z_{t1} + z_{t2}\\right)}{\\sqrt{\\left(- x_{t0} + x_{t1}\\right)^{2} + \\left(- y_{t0} + y_{t1}\\right)^{2} + \\left(- z_{t0} + z_{t1}\\right)^{2}} \\sqrt{\\left(- x_{t1} + x_{t2}\\right)^{2} + \\left(- y_{t1} + y_{t2}\\right)^{2} + \\left(- z_{t1} + z_{t2}\\right)^{2}}} \\right)}}{\\left(\\left(- x_{t1} + x_{t2}\\right)^{2} + \\left(- y_{t1} + y_{t2}\\right)^{2} + \\left(- z_{t1} + z_{t2}\\right)^{2}\\right)^{\\frac{3}{2}}} - \\frac{\\frac{\\left(x_{t0} - x_{t1}\\right) \\left(\\left(- x_{t0} + x_{t1}\\right) \\left(- x_{t1} + x_{t2}\\right) + \\left(- y_{t0} + y_{t1}\\right)^{2} + \\left(- z_{t0} + z_{t1}\\right) \\left(- z_{t1} + z_{t2}\\right)\\right)}{\\left(\\left(- x_{t0} + x_{t1}\\right)^{2} + \\left(- y_{t0} + y_{t1}\\right)^{2} + \\left(- z_{t0} + z_{t1}\\right)^{2}\\right)^{\\frac{3}{2}} \\sqrt{\\left(- x_{t1} + x_{t2}\\right)^{2} + \\left(- y_{t1} + y_{t2}\\right)^{2} + \\left(- z_{t1} + z_{t2}\\right)^{2}}} + \\frac{\\left(- x_{t1} + x_{t2}\\right) \\left(\\left(- x_{t0} + x_{t1}\\right) \\left(- x_{t1} + x_{t2}\\right) + \\left(- y_{t0} + y_{t1}\\right)^{2} + \\left(- z_{t0} + z_{t1}\\right) \\left(- z_{t1} + z_{t2}\\right)\\right)}{\\sqrt{\\left(- x_{t0} + x_{t1}\\right)^{2} + \\left(- y_{t0} + y_{t1}\\right)^{2} + \\left(- z_{t0} + z_{t1}\\right)^{2}} \\left(\\left(- x_{t1} + x_{t2}\\right)^{2} + \\left(- y_{t1} + y_{t2}\\right)^{2} + \\left(- z_{t1} + z_{t2}\\right)^{2}\\right)^{\\frac{3}{2}}} + \\frac{x_{t0} - 2 x_{t1} + x_{t2}}{\\sqrt{\\left(- x_{t0} + x_{t1}\\right)^{2} + \\left(- y_{t0} + y_{t1}\\right)^{2} + \\left(- z_{t0} + z_{t1}\\right)^{2}} \\sqrt{\\left(- x_{t1} + x_{t2}\\right)^{2} + \\left(- y_{t1} + y_{t2}\\right)^{2} + \\left(- z_{t1} + z_{t2}\\right)^{2}}}}{\\sqrt{- \\frac{\\left(\\left(- x_{t0} + x_{t1}\\right) \\left(- x_{t1} + x_{t2}\\right) + \\left(- y_{t0} + y_{t1}\\right)^{2} + \\left(- z_{t0} + z_{t1}\\right) \\left(- z_{t1} + z_{t2}\\right)\\right)^{2}}{\\left(\\left(- x_{t0} + x_{t1}\\right)^{2} + \\left(- y_{t0} + y_{t1}\\right)^{2} + \\left(- z_{t0} + z_{t1}\\right)^{2}\\right) \\left(\\left(- x_{t1} + x_{t2}\\right)^{2} + \\left(- y_{t1} + y_{t2}\\right)^{2} + \\left(- z_{t1} + z_{t2}\\right)^{2}\\right)} + 1} \\sqrt{\\left(- x_{t1} + x_{t2}\\right)^{2} + \\left(- y_{t1} + y_{t2}\\right)^{2} + \\left(- z_{t1} + z_{t2}\\right)^{2}}}$"
      ],
      "text/plain": [
       "                 ⎛                                                        2   \n",
       "                 ⎜                (-xₜ₀ + xₜ₁)⋅(-xₜ₁ + xₜ₂) + (-yₜ₀ + yₜ₁)  + \n",
       "(-xₜ₁ + xₜ₂)⋅acos⎜────────────────────────────────────────────────────────────\n",
       "                 ⎜   _______________________________________________    ______\n",
       "                 ⎜  ╱             2               2               2    ╱      \n",
       "                 ⎝╲╱  (-xₜ₀ + xₜ₁)  + (-yₜ₀ + yₜ₁)  + (-zₜ₀ + zₜ₁)  ⋅╲╱  (-xₜ₁\n",
       "──────────────────────────────────────────────────────────────────────────────\n",
       "                                                                              \n",
       "                                   ⎛            2               2             \n",
       "                                   ⎝(-xₜ₁ + xₜ₂)  + (-yₜ₁ + yₜ₂)  + (-zₜ₁ + zₜ\n",
       "                                                                              \n",
       "                                                                              \n",
       "                                                                              \n",
       "                                                                              \n",
       "\n",
       "                                         ⎞                        ⎛           \n",
       "(-zₜ₀ + zₜ₁)⋅(-zₜ₁ + zₜ₂)                ⎟            (xₜ₀ - xₜ₁)⋅⎝(-xₜ₀ + xₜ₁\n",
       "─────────────────────────────────────────⎟   ─────────────────────────────────\n",
       "_________________________________________⎟                                    \n",
       "       2               2               2 ⎟   ⎛            2               2   \n",
       " + xₜ₂)  + (-yₜ₁ + yₜ₂)  + (-zₜ₁ + zₜ₂)  ⎠   ⎝(-xₜ₀ + xₜ₁)  + (-yₜ₀ + yₜ₁)  + \n",
       "────────────────────────────────────────── - ─────────────────────────────────\n",
       "    3/2                                                                       \n",
       "  2⎞                                                                          \n",
       "₂) ⎠                                                                          \n",
       "                                                                              \n",
       "                                                                              \n",
       "                                                                              \n",
       "                                                                              \n",
       "\n",
       "                             2                            ⎞                   \n",
       ")⋅(-xₜ₁ + xₜ₂) + (-yₜ₀ + yₜ₁)  + (-zₜ₀ + zₜ₁)⋅(-zₜ₁ + zₜ₂)⎠                   \n",
       "──────────────────────────────────────────────────────────────────── + ───────\n",
       "              3/2    _______________________________________________      ____\n",
       "            2⎞      ╱             2               2               2      ╱    \n",
       "(-zₜ₀ + zₜ₁) ⎠   ⋅╲╱  (-xₜ₁ + xₜ₂)  + (-yₜ₁ + yₜ₂)  + (-zₜ₁ + zₜ₂)     ╲╱  (-x\n",
       "──────────────────────────────────────────────────────────────────────────────\n",
       "                                                ______________________________\n",
       "                                               ╱                              \n",
       "                                              ╱                ⎛              \n",
       "                                             ╱                 ⎝(-xₜ₀ + xₜ₁)⋅(\n",
       "                                            ╱    - ───────────────────────────\n",
       "                                           ╱       ⎛            2             \n",
       "                                         ╲╱        ⎝(-xₜ₀ + xₜ₁)  + (-yₜ₀ + yₜ\n",
       "\n",
       "               ⎛                                        2                     \n",
       "  (-xₜ₁ + xₜ₂)⋅⎝(-xₜ₀ + xₜ₁)⋅(-xₜ₁ + xₜ₂) + (-yₜ₀ + yₜ₁)  + (-zₜ₀ + zₜ₁)⋅(-zₜ₁\n",
       "──────────────────────────────────────────────────────────────────────────────\n",
       "___________________________________________                                   \n",
       "         2               2               2  ⎛            2               2    \n",
       "ₜ₀ + xₜ₁)  + (-yₜ₀ + yₜ₁)  + (-zₜ₀ + zₜ₁)  ⋅⎝(-xₜ₁ + xₜ₂)  + (-yₜ₁ + yₜ₂)  + (\n",
       "──────────────────────────────────────────────────────────────────────────────\n",
       "_________________________________________________________________________     \n",
       "                                                        2                     \n",
       "                          2                            ⎞                     _\n",
       "-xₜ₁ + xₜ₂) + (-yₜ₀ + yₜ₁)  + (-zₜ₀ + zₜ₁)⋅(-zₜ₁ + zₜ₂)⎠                    ╱ \n",
       "──────────────────────────────────────────────────────────────────── + 1 ⋅╲╱  \n",
       "  2               2⎞ ⎛            2               2               2⎞          \n",
       "₁)  + (-zₜ₀ + zₜ₁) ⎠⋅⎝(-xₜ₁ + xₜ₂)  + (-yₜ₁ + yₜ₂)  + (-zₜ₁ + zₜ₂) ⎠          \n",
       "\n",
       "       ⎞                                                                      \n",
       " + zₜ₂)⎠                                                     xₜ₀ - 2⋅xₜ₁ + xₜ₂\n",
       "──────────────── + ───────────────────────────────────────────────────────────\n",
       "             3/2      _______________________________________________    _____\n",
       "           2⎞        ╱             2               2               2    ╱     \n",
       "-zₜ₁ + zₜ₂) ⎠      ╲╱  (-xₜ₀ + xₜ₁)  + (-yₜ₀ + yₜ₁)  + (-zₜ₀ + zₜ₁)  ⋅╲╱  (-xₜ\n",
       "──────────────────────────────────────────────────────────────────────────────\n",
       "                                                                              \n",
       "                                                                              \n",
       "______________________________________________                                \n",
       "            2               2               2                                 \n",
       "(-xₜ₁ + xₜ₂)  + (-yₜ₁ + yₜ₂)  + (-zₜ₁ + zₜ₂)                                  \n",
       "                                                                              \n",
       "                                                                              \n",
       "\n",
       "                                          \n",
       "                                          \n",
       "──────────────────────────────────────────\n",
       "__________________________________________\n",
       "        2               2               2 \n",
       "₁ + xₜ₂)  + (-yₜ₁ + yₜ₂)  + (-zₜ₁ + zₜ₂)  \n",
       "──────────────────────────────────────────\n",
       "                                          \n",
       "                                          \n",
       "                                          \n",
       "                                          \n",
       "                                          \n",
       "                                          \n",
       "                                          "
      ]
     },
     "execution_count": 7,
     "metadata": {},
     "output_type": "execute_result"
    }
   ],
   "source": [
    "sympy.diff(loss, x_t1)"
   ]
  },
  {
   "cell_type": "code",
   "execution_count": 3,
   "metadata": {},
   "outputs": [],
   "source": [
    "x_t0, y_t0, z_t0 = symbols('x_t0, y_t0, z_t0', is_positive=True, is_real=True)\n",
    "x_mid, y_mid, z_mid = symbols('x_mid, y_mid, z_mid', is_positive=True, is_real=True)"
   ]
  },
  {
   "cell_type": "code",
   "execution_count": 8,
   "metadata": {},
   "outputs": [],
   "source": [
    "vecx = x_mid - x_t0\n",
    "vecy = y_mid - y_t0\n",
    "vecz = z_mid - z_t0\n",
    "\n",
    "loss = sympy.Pow(vecx, 2) + sympy.Pow(vecy, 2) + sympy.Pow(vecz, 2)"
   ]
  },
  {
   "cell_type": "code",
   "execution_count": 9,
   "metadata": {},
   "outputs": [
    {
     "data": {
      "image/png": "[encoded data removed]",
      "text/latex": [
       "$\\displaystyle - 2 x_{mid} + 2 x_{t0}$"
      ],
      "text/plain": [
       "-2⋅x_mid + 2⋅xₜ₀"
      ]
     },
     "execution_count": 9,
     "metadata": {},
     "output_type": "execute_result"
    }
   ],
   "source": [
    "sympy.diff(loss, x_t0)"
   ]
  },
  {
   "cell_type": "code",
   "execution_count": 10,
   "metadata": {},
   "outputs": [
    {
     "data": {
      "image/png": "[encoded data removed]",
      "text/latex": [
       "$\\displaystyle - 2 y_{mid} + 2 y_{t0}$"
      ],
      "text/plain": [
       "-2⋅y_mid + 2⋅yₜ₀"
      ]
     },
     "execution_count": 10,
     "metadata": {},
     "output_type": "execute_result"
    }
   ],
   "source": [
    "sympy.diff(loss, y_t0)"
   ]
  },
  {
   "cell_type": "code",
   "execution_count": 11,
   "metadata": {},
   "outputs": [
    {
     "data": {
      "image/png": "[encoded data removed]",
      "text/latex": [
       "$\\displaystyle - 2 z_{mid} + 2 z_{t0}$"
      ],
      "text/plain": [
       "-2⋅z_mid + 2⋅zₜ₀"
      ]
     },
     "execution_count": 11,
     "metadata": {},
     "output_type": "execute_result"
    }
   ],
   "source": [
    "sympy.diff(loss, z_t0)"
   ]
  },
  {
   "attachments": {},
   "cell_type": "markdown",
   "metadata": {},
   "source": [
    "##### test 1"
   ]
  },
  {
   "cell_type": "code",
   "execution_count": 25,
   "metadata": {},
   "outputs": [],
   "source": [
    "xim2, yim2, zim2 = symbols('xim2, yim2, zim2', is_positive=True, is_real=True)\n",
    "xim1, yim1, zim1 = symbols('xim1, yim1, zim1', is_positive=True, is_real=True)\n",
    "x, y, z = symbols('x, y, z', is_positive=True, is_real=True)\n",
    "xip1, yip1, zip1 = symbols('xip1, yip1, zip1', is_positive=True, is_real=True)\n",
    "xip2, yip2, zip2 = symbols('xip2, yip2, zip2', is_positive=True, is_real=True)"
   ]
  },
  {
   "cell_type": "code",
   "execution_count": 29,
   "metadata": {},
   "outputs": [],
   "source": [
    "vecx1, vecy1, vecz1 = xim1 - xim2, yim1 - yim2, zim1 - zim2\n",
    "vecx2, vecy2, vecz2 = x - xim1, y - yim1, z - zim1\n",
    "vecx3, vecy3, vecz3 = xip1 - x, yip1 - y, zip1 - z\n",
    "vecx4, vecy4, vecz4 = xip2 - xip1, yip2 - yip1, zip2 - zip1\n",
    "\n",
    "length1 = sympy.sqrt(sympy.Pow(vecx1, 2) + sympy.Pow(vecy1, 2) + sympy.Pow(vecz1, 2))\n",
    "length2 = sympy.sqrt(sympy.Pow(vecx2, 2) + sympy.Pow(vecy2, 2) + sympy.Pow(vecz2, 2))\n",
    "length3 = sympy.sqrt(sympy.Pow(vecx3, 2) + sympy.Pow(vecy3, 2) + sympy.Pow(vecz3, 2))\n",
    "length4 = sympy.sqrt(sympy.Pow(vecx4, 2) + sympy.Pow(vecy4, 2) + sympy.Pow(vecz4, 2))\n",
    "\n",
    "costheta = (vecx1 * vecx2 + vecy1 * vecy2 + vecz1 * vecz2) / (length1 * length2)\n",
    "costheta1 = (vecx2 * vecx3 + vecy2 * vecy3 + vecz2 * vecz3) / (length2 * length3)\n",
    "costheta2 = (vecx3 * vecx4 + vecy3 * vecy4 + vecz3 * vecz4) / (length3 * length4)\n",
    "\n",
    "loss = sympy.Pow(1.0 - costheta, 2)\n",
    "loss1 = sympy.Pow(1.0 - costheta1, 2)\n",
    "loss2 = sympy.Pow(1.0 - costheta2, 2)"
   ]
  },
  {
   "attachments": {},
   "cell_type": "markdown",
   "metadata": {},
   "source": [
    "##### diff 1"
   ]
  },
  {
   "cell_type": "code",
   "execution_count": 18,
   "metadata": {},
   "outputs": [
    {
     "data": {
      "image/png": "[encoded data removed]",
      "text/latex": [
       "$\\displaystyle \\left(- \\frac{\\left(x - xim_{1}\\right) \\left(xim_{1} - xim_{2}\\right) + \\left(y - yim_{1}\\right) \\left(yim_{1} - yim_{2}\\right) + \\left(z - zim_{1}\\right) \\left(zim_{1} - zim_{2}\\right)}{\\sqrt{\\left(x - xim_{1}\\right)^{2} + \\left(y - yim_{1}\\right)^{2} + \\left(z - zim_{1}\\right)^{2}} \\sqrt{\\left(xim_{1} - xim_{2}\\right)^{2} + \\left(yim_{1} - yim_{2}\\right)^{2} + \\left(zim_{1} - zim_{2}\\right)^{2}}} + 1.0\\right) \\left(- \\frac{2 \\left(- x + xim_{1}\\right) \\left(\\left(x - xim_{1}\\right) \\left(xim_{1} - xim_{2}\\right) + \\left(y - yim_{1}\\right) \\left(yim_{1} - yim_{2}\\right) + \\left(z - zim_{1}\\right) \\left(zim_{1} - zim_{2}\\right)\\right)}{\\left(\\left(x - xim_{1}\\right)^{2} + \\left(y - yim_{1}\\right)^{2} + \\left(z - zim_{1}\\right)^{2}\\right)^{\\frac{3}{2}} \\sqrt{\\left(xim_{1} - xim_{2}\\right)^{2} + \\left(yim_{1} - yim_{2}\\right)^{2} + \\left(zim_{1} - zim_{2}\\right)^{2}}} - \\frac{2 \\left(xim_{1} - xim_{2}\\right)}{\\sqrt{\\left(x - xim_{1}\\right)^{2} + \\left(y - yim_{1}\\right)^{2} + \\left(z - zim_{1}\\right)^{2}} \\sqrt{\\left(xim_{1} - xim_{2}\\right)^{2} + \\left(yim_{1} - yim_{2}\\right)^{2} + \\left(zim_{1} - zim_{2}\\right)^{2}}}\\right)$"
      ],
      "text/plain": [
       "⎛            (x - xim₁)⋅(xim₁ - xim₂) + (y - yim₁)⋅(yim₁ - yim₂) + (z - zim₁)⋅\n",
       "⎜- ───────────────────────────────────────────────────────────────────────────\n",
       "⎜     _________________________________________    ___________________________\n",
       "⎜    ╱           2             2             2    ╱              2            \n",
       "⎝  ╲╱  (x - xim₁)  + (y - yim₁)  + (z - zim₁)  ⋅╲╱  (xim₁ - xim₂)  + (yim₁ - y\n",
       "\n",
       "(zim₁ - zim₂)                ⎞ ⎛    2⋅(-x + xim₁)⋅((x - xim₁)⋅(xim₁ - xim₂) + \n",
       "─────────────────────── + 1.0⎟⋅⎜- ────────────────────────────────────────────\n",
       "_______________________      ⎟ ⎜                                           3/2\n",
       "    2                2       ⎟ ⎜  ⎛          2             2             2⎞   \n",
       "im₂)  + (zim₁ - zim₂)        ⎠ ⎝  ⎝(x - xim₁)  + (y - yim₁)  + (z - zim₁) ⎠   \n",
       "\n",
       "(y - yim₁)⋅(yim₁ - yim₂) + (z - zim₁)⋅(zim₁ - zim₂))                          \n",
       "────────────────────────────────────────────────────── - ─────────────────────\n",
       "    __________________________________________________      __________________\n",
       "   ╱              2                2                2      ╱           2      \n",
       "⋅╲╱  (xim₁ - xim₂)  + (yim₁ - yim₂)  + (zim₁ - zim₂)     ╲╱  (x - xim₁)  + (y \n",
       "\n",
       "                    2⋅(xim₁ - xim₂)                                          ⎞\n",
       "─────────────────────────────────────────────────────────────────────────────⎟\n",
       "_______________________    __________________________________________________⎟\n",
       "       2             2    ╱              2                2                2 ⎟\n",
       "- yim₁)  + (z - zim₁)  ⋅╲╱  (xim₁ - xim₂)  + (yim₁ - yim₂)  + (zim₁ - zim₂)  ⎠"
      ]
     },
     "execution_count": 18,
     "metadata": {},
     "output_type": "execute_result"
    }
   ],
   "source": [
    "sympy.diff(loss, x)"
   ]
  },
  {
   "cell_type": "code",
   "execution_count": 19,
   "metadata": {},
   "outputs": [
    {
     "data": {
      "image/png": "[encoded data removed]",
      "text/latex": [
       "$\\displaystyle \\left(- \\frac{\\left(x - xim_{1}\\right) \\left(xim_{1} - xim_{2}\\right) + \\left(y - yim_{1}\\right) \\left(yim_{1} - yim_{2}\\right) + \\left(z - zim_{1}\\right) \\left(zim_{1} - zim_{2}\\right)}{\\sqrt{\\left(x - xim_{1}\\right)^{2} + \\left(y - yim_{1}\\right)^{2} + \\left(z - zim_{1}\\right)^{2}} \\sqrt{\\left(xim_{1} - xim_{2}\\right)^{2} + \\left(yim_{1} - yim_{2}\\right)^{2} + \\left(zim_{1} - zim_{2}\\right)^{2}}} + 1.0\\right) \\left(- \\frac{2 \\left(- y + yim_{1}\\right) \\left(\\left(x - xim_{1}\\right) \\left(xim_{1} - xim_{2}\\right) + \\left(y - yim_{1}\\right) \\left(yim_{1} - yim_{2}\\right) + \\left(z - zim_{1}\\right) \\left(zim_{1} - zim_{2}\\right)\\right)}{\\left(\\left(x - xim_{1}\\right)^{2} + \\left(y - yim_{1}\\right)^{2} + \\left(z - zim_{1}\\right)^{2}\\right)^{\\frac{3}{2}} \\sqrt{\\left(xim_{1} - xim_{2}\\right)^{2} + \\left(yim_{1} - yim_{2}\\right)^{2} + \\left(zim_{1} - zim_{2}\\right)^{2}}} - \\frac{2 \\left(yim_{1} - yim_{2}\\right)}{\\sqrt{\\left(x - xim_{1}\\right)^{2} + \\left(y - yim_{1}\\right)^{2} + \\left(z - zim_{1}\\right)^{2}} \\sqrt{\\left(xim_{1} - xim_{2}\\right)^{2} + \\left(yim_{1} - yim_{2}\\right)^{2} + \\left(zim_{1} - zim_{2}\\right)^{2}}}\\right)$"
      ],
      "text/plain": [
       "⎛            (x - xim₁)⋅(xim₁ - xim₂) + (y - yim₁)⋅(yim₁ - yim₂) + (z - zim₁)⋅\n",
       "⎜- ───────────────────────────────────────────────────────────────────────────\n",
       "⎜     _________________________________________    ___________________________\n",
       "⎜    ╱           2             2             2    ╱              2            \n",
       "⎝  ╲╱  (x - xim₁)  + (y - yim₁)  + (z - zim₁)  ⋅╲╱  (xim₁ - xim₂)  + (yim₁ - y\n",
       "\n",
       "(zim₁ - zim₂)                ⎞ ⎛    2⋅(-y + yim₁)⋅((x - xim₁)⋅(xim₁ - xim₂) + \n",
       "─────────────────────── + 1.0⎟⋅⎜- ────────────────────────────────────────────\n",
       "_______________________      ⎟ ⎜                                           3/2\n",
       "    2                2       ⎟ ⎜  ⎛          2             2             2⎞   \n",
       "im₂)  + (zim₁ - zim₂)        ⎠ ⎝  ⎝(x - xim₁)  + (y - yim₁)  + (z - zim₁) ⎠   \n",
       "\n",
       "(y - yim₁)⋅(yim₁ - yim₂) + (z - zim₁)⋅(zim₁ - zim₂))                          \n",
       "────────────────────────────────────────────────────── - ─────────────────────\n",
       "    __________________________________________________      __________________\n",
       "   ╱              2                2                2      ╱           2      \n",
       "⋅╲╱  (xim₁ - xim₂)  + (yim₁ - yim₂)  + (zim₁ - zim₂)     ╲╱  (x - xim₁)  + (y \n",
       "\n",
       "                    2⋅(yim₁ - yim₂)                                          ⎞\n",
       "─────────────────────────────────────────────────────────────────────────────⎟\n",
       "_______________________    __________________________________________________⎟\n",
       "       2             2    ╱              2                2                2 ⎟\n",
       "- yim₁)  + (z - zim₁)  ⋅╲╱  (xim₁ - xim₂)  + (yim₁ - yim₂)  + (zim₁ - zim₂)  ⎠"
      ]
     },
     "execution_count": 19,
     "metadata": {},
     "output_type": "execute_result"
    }
   ],
   "source": [
    "sympy.diff(loss, y)"
   ]
  },
  {
   "cell_type": "code",
   "execution_count": 20,
   "metadata": {},
   "outputs": [
    {
     "data": {
      "image/png": "[encoded data removed]",
      "text/latex": [
       "$\\displaystyle \\left(- \\frac{\\left(x - xim_{1}\\right) \\left(xim_{1} - xim_{2}\\right) + \\left(y - yim_{1}\\right) \\left(yim_{1} - yim_{2}\\right) + \\left(z - zim_{1}\\right) \\left(zim_{1} - zim_{2}\\right)}{\\sqrt{\\left(x - xim_{1}\\right)^{2} + \\left(y - yim_{1}\\right)^{2} + \\left(z - zim_{1}\\right)^{2}} \\sqrt{\\left(xim_{1} - xim_{2}\\right)^{2} + \\left(yim_{1} - yim_{2}\\right)^{2} + \\left(zim_{1} - zim_{2}\\right)^{2}}} + 1.0\\right) \\left(- \\frac{2 \\left(- z + zim_{1}\\right) \\left(\\left(x - xim_{1}\\right) \\left(xim_{1} - xim_{2}\\right) + \\left(y - yim_{1}\\right) \\left(yim_{1} - yim_{2}\\right) + \\left(z - zim_{1}\\right) \\left(zim_{1} - zim_{2}\\right)\\right)}{\\left(\\left(x - xim_{1}\\right)^{2} + \\left(y - yim_{1}\\right)^{2} + \\left(z - zim_{1}\\right)^{2}\\right)^{\\frac{3}{2}} \\sqrt{\\left(xim_{1} - xim_{2}\\right)^{2} + \\left(yim_{1} - yim_{2}\\right)^{2} + \\left(zim_{1} - zim_{2}\\right)^{2}}} - \\frac{2 \\left(zim_{1} - zim_{2}\\right)}{\\sqrt{\\left(x - xim_{1}\\right)^{2} + \\left(y - yim_{1}\\right)^{2} + \\left(z - zim_{1}\\right)^{2}} \\sqrt{\\left(xim_{1} - xim_{2}\\right)^{2} + \\left(yim_{1} - yim_{2}\\right)^{2} + \\left(zim_{1} - zim_{2}\\right)^{2}}}\\right)$"
      ],
      "text/plain": [
       "⎛            (x - xim₁)⋅(xim₁ - xim₂) + (y - yim₁)⋅(yim₁ - yim₂) + (z - zim₁)⋅\n",
       "⎜- ───────────────────────────────────────────────────────────────────────────\n",
       "⎜     _________________________________________    ___________________________\n",
       "⎜    ╱           2             2             2    ╱              2            \n",
       "⎝  ╲╱  (x - xim₁)  + (y - yim₁)  + (z - zim₁)  ⋅╲╱  (xim₁ - xim₂)  + (yim₁ - y\n",
       "\n",
       "(zim₁ - zim₂)                ⎞ ⎛    2⋅(-z + zim₁)⋅((x - xim₁)⋅(xim₁ - xim₂) + \n",
       "─────────────────────── + 1.0⎟⋅⎜- ────────────────────────────────────────────\n",
       "_______________________      ⎟ ⎜                                           3/2\n",
       "    2                2       ⎟ ⎜  ⎛          2             2             2⎞   \n",
       "im₂)  + (zim₁ - zim₂)        ⎠ ⎝  ⎝(x - xim₁)  + (y - yim₁)  + (z - zim₁) ⎠   \n",
       "\n",
       "(y - yim₁)⋅(yim₁ - yim₂) + (z - zim₁)⋅(zim₁ - zim₂))                          \n",
       "────────────────────────────────────────────────────── - ─────────────────────\n",
       "    __________________________________________________      __________________\n",
       "   ╱              2                2                2      ╱           2      \n",
       "⋅╲╱  (xim₁ - xim₂)  + (yim₁ - yim₂)  + (zim₁ - zim₂)     ╲╱  (x - xim₁)  + (y \n",
       "\n",
       "                    2⋅(zim₁ - zim₂)                                          ⎞\n",
       "─────────────────────────────────────────────────────────────────────────────⎟\n",
       "_______________________    __________________________________________________⎟\n",
       "       2             2    ╱              2                2                2 ⎟\n",
       "- yim₁)  + (z - zim₁)  ⋅╲╱  (xim₁ - xim₂)  + (yim₁ - yim₂)  + (zim₁ - zim₂)  ⎠"
      ]
     },
     "execution_count": 20,
     "metadata": {},
     "output_type": "execute_result"
    }
   ],
   "source": [
    "sympy.diff(loss, z)"
   ]
  },
  {
   "attachments": {},
   "cell_type": "markdown",
   "metadata": {},
   "source": [
    "##### diff 2"
   ]
  },
  {
   "cell_type": "code",
   "execution_count": 30,
   "metadata": {},
   "outputs": [
    {
     "data": {
      "image/png": "[encoded data removed]",
      "text/latex": [
       "$\\displaystyle \\left(- \\frac{\\left(- x + xip_{1}\\right) \\left(x - xim_{1}\\right) + \\left(- y + yip_{1}\\right) \\left(y - yim_{1}\\right) + \\left(- z + zip_{1}\\right) \\left(z - zim_{1}\\right)}{\\sqrt{\\left(- x + xip_{1}\\right)^{2} + \\left(- y + yip_{1}\\right)^{2} + \\left(- z + zip_{1}\\right)^{2}} \\sqrt{\\left(x - xim_{1}\\right)^{2} + \\left(y - yim_{1}\\right)^{2} + \\left(z - zim_{1}\\right)^{2}}} + 1.0\\right) \\left(- \\frac{2 \\left(- x + xim_{1}\\right) \\left(\\left(- x + xip_{1}\\right) \\left(x - xim_{1}\\right) + \\left(- y + yip_{1}\\right) \\left(y - yim_{1}\\right) + \\left(- z + zip_{1}\\right) \\left(z - zim_{1}\\right)\\right)}{\\sqrt{\\left(- x + xip_{1}\\right)^{2} + \\left(- y + yip_{1}\\right)^{2} + \\left(- z + zip_{1}\\right)^{2}} \\left(\\left(x - xim_{1}\\right)^{2} + \\left(y - yim_{1}\\right)^{2} + \\left(z - zim_{1}\\right)^{2}\\right)^{\\frac{3}{2}}} - \\frac{2 \\left(- x + xip_{1}\\right) \\left(\\left(- x + xip_{1}\\right) \\left(x - xim_{1}\\right) + \\left(- y + yip_{1}\\right) \\left(y - yim_{1}\\right) + \\left(- z + zip_{1}\\right) \\left(z - zim_{1}\\right)\\right)}{\\left(\\left(- x + xip_{1}\\right)^{2} + \\left(- y + yip_{1}\\right)^{2} + \\left(- z + zip_{1}\\right)^{2}\\right)^{\\frac{3}{2}} \\sqrt{\\left(x - xim_{1}\\right)^{2} + \\left(y - yim_{1}\\right)^{2} + \\left(z - zim_{1}\\right)^{2}}} - \\frac{2 \\left(- 2 x + xim_{1} + xip_{1}\\right)}{\\sqrt{\\left(- x + xip_{1}\\right)^{2} + \\left(- y + yip_{1}\\right)^{2} + \\left(- z + zip_{1}\\right)^{2}} \\sqrt{\\left(x - xim_{1}\\right)^{2} + \\left(y - yim_{1}\\right)^{2} + \\left(z - zim_{1}\\right)^{2}}}\\right)$"
      ],
      "text/plain": [
       "⎛            (-x + xip₁)⋅(x - xim₁) + (-y + yip₁)⋅(y - yim₁) + (-z + zip₁)⋅(z \n",
       "⎜- ───────────────────────────────────────────────────────────────────────────\n",
       "⎜     ____________________________________________    ________________________\n",
       "⎜    ╱            2              2              2    ╱           2            \n",
       "⎝  ╲╱  (-x + xip₁)  + (-y + yip₁)  + (-z + zip₁)  ⋅╲╱  (x - xim₁)  + (y - yim₁\n",
       "\n",
       "- zim₁)                ⎞ ⎛    2⋅(-x + xim₁)⋅((-x + xip₁)⋅(x - xim₁) + (-y + yi\n",
       "───────────────── + 1.0⎟⋅⎜- ──────────────────────────────────────────────────\n",
       "_________________      ⎟ ⎜     ____________________________________________   \n",
       " 2             2       ⎟ ⎜    ╱            2              2              2  ⎛ \n",
       ")  + (z - zim₁)        ⎠ ⎝  ╲╱  (-x + xip₁)  + (-y + yip₁)  + (-z + zip₁)  ⋅⎝(\n",
       "\n",
       "p₁)⋅(y - yim₁) + (-z + zip₁)⋅(z - zim₁))       2⋅(-x + xip₁)⋅((-x + xip₁)⋅(x -\n",
       "────────────────────────────────────────── - ─────────────────────────────────\n",
       "                                       3/2                                    \n",
       "         2             2             2⎞      ⎛           2              2     \n",
       "x - xim₁)  + (y - yim₁)  + (z - zim₁) ⎠      ⎝(-x + xip₁)  + (-y + yip₁)  + (-\n",
       "\n",
       " xim₁) + (-y + yip₁)⋅(y - yim₁) + (-z + zip₁)⋅(z - zim₁))                     \n",
       "─────────────────────────────────────────────────────────── - ────────────────\n",
       "           3/2    _________________________________________      _____________\n",
       "         2⎞      ╱           2             2             2      ╱            2\n",
       "z + zip₁) ⎠   ⋅╲╱  (x - xim₁)  + (y - yim₁)  + (z - zim₁)     ╲╱  (-x + xip₁) \n",
       "\n",
       "                   2⋅(-2⋅x + xim₁ + xip₁)                                   ⎞\n",
       "────────────────────────────────────────────────────────────────────────────⎟\n",
       "_______________________________    _________________________________________⎟\n",
       "              2              2    ╱           2             2             2 ⎟\n",
       " + (-y + yip₁)  + (-z + zip₁)  ⋅╲╱  (x - xim₁)  + (y - yim₁)  + (z - zim₁)  ⎠"
      ]
     },
     "execution_count": 30,
     "metadata": {},
     "output_type": "execute_result"
    }
   ],
   "source": [
    "sympy.diff(loss1, x)"
   ]
  },
  {
   "cell_type": "code",
   "execution_count": 31,
   "metadata": {},
   "outputs": [
    {
     "data": {
      "image/png": "[encoded data removed]",
      "text/latex": [
       "$\\displaystyle \\left(- \\frac{\\left(- x + xip_{1}\\right) \\left(x - xim_{1}\\right) + \\left(- y + yip_{1}\\right) \\left(y - yim_{1}\\right) + \\left(- z + zip_{1}\\right) \\left(z - zim_{1}\\right)}{\\sqrt{\\left(- x + xip_{1}\\right)^{2} + \\left(- y + yip_{1}\\right)^{2} + \\left(- z + zip_{1}\\right)^{2}} \\sqrt{\\left(x - xim_{1}\\right)^{2} + \\left(y - yim_{1}\\right)^{2} + \\left(z - zim_{1}\\right)^{2}}} + 1.0\\right) \\left(- \\frac{2 \\left(- y + yim_{1}\\right) \\left(\\left(- x + xip_{1}\\right) \\left(x - xim_{1}\\right) + \\left(- y + yip_{1}\\right) \\left(y - yim_{1}\\right) + \\left(- z + zip_{1}\\right) \\left(z - zim_{1}\\right)\\right)}{\\sqrt{\\left(- x + xip_{1}\\right)^{2} + \\left(- y + yip_{1}\\right)^{2} + \\left(- z + zip_{1}\\right)^{2}} \\left(\\left(x - xim_{1}\\right)^{2} + \\left(y - yim_{1}\\right)^{2} + \\left(z - zim_{1}\\right)^{2}\\right)^{\\frac{3}{2}}} - \\frac{2 \\left(- y + yip_{1}\\right) \\left(\\left(- x + xip_{1}\\right) \\left(x - xim_{1}\\right) + \\left(- y + yip_{1}\\right) \\left(y - yim_{1}\\right) + \\left(- z + zip_{1}\\right) \\left(z - zim_{1}\\right)\\right)}{\\left(\\left(- x + xip_{1}\\right)^{2} + \\left(- y + yip_{1}\\right)^{2} + \\left(- z + zip_{1}\\right)^{2}\\right)^{\\frac{3}{2}} \\sqrt{\\left(x - xim_{1}\\right)^{2} + \\left(y - yim_{1}\\right)^{2} + \\left(z - zim_{1}\\right)^{2}}} - \\frac{2 \\left(- 2 y + yim_{1} + yip_{1}\\right)}{\\sqrt{\\left(- x + xip_{1}\\right)^{2} + \\left(- y + yip_{1}\\right)^{2} + \\left(- z + zip_{1}\\right)^{2}} \\sqrt{\\left(x - xim_{1}\\right)^{2} + \\left(y - yim_{1}\\right)^{2} + \\left(z - zim_{1}\\right)^{2}}}\\right)$"
      ],
      "text/plain": [
       "⎛            (-x + xip₁)⋅(x - xim₁) + (-y + yip₁)⋅(y - yim₁) + (-z + zip₁)⋅(z \n",
       "⎜- ───────────────────────────────────────────────────────────────────────────\n",
       "⎜     ____________________________________________    ________________________\n",
       "⎜    ╱            2              2              2    ╱           2            \n",
       "⎝  ╲╱  (-x + xip₁)  + (-y + yip₁)  + (-z + zip₁)  ⋅╲╱  (x - xim₁)  + (y - yim₁\n",
       "\n",
       "- zim₁)                ⎞ ⎛    2⋅(-y + yim₁)⋅((-x + xip₁)⋅(x - xim₁) + (-y + yi\n",
       "───────────────── + 1.0⎟⋅⎜- ──────────────────────────────────────────────────\n",
       "_________________      ⎟ ⎜     ____________________________________________   \n",
       " 2             2       ⎟ ⎜    ╱            2              2              2  ⎛ \n",
       ")  + (z - zim₁)        ⎠ ⎝  ╲╱  (-x + xip₁)  + (-y + yip₁)  + (-z + zip₁)  ⋅⎝(\n",
       "\n",
       "p₁)⋅(y - yim₁) + (-z + zip₁)⋅(z - zim₁))       2⋅(-y + yip₁)⋅((-x + xip₁)⋅(x -\n",
       "────────────────────────────────────────── - ─────────────────────────────────\n",
       "                                       3/2                                    \n",
       "         2             2             2⎞      ⎛           2              2     \n",
       "x - xim₁)  + (y - yim₁)  + (z - zim₁) ⎠      ⎝(-x + xip₁)  + (-y + yip₁)  + (-\n",
       "\n",
       " xim₁) + (-y + yip₁)⋅(y - yim₁) + (-z + zip₁)⋅(z - zim₁))                     \n",
       "─────────────────────────────────────────────────────────── - ────────────────\n",
       "           3/2    _________________________________________      _____________\n",
       "         2⎞      ╱           2             2             2      ╱            2\n",
       "z + zip₁) ⎠   ⋅╲╱  (x - xim₁)  + (y - yim₁)  + (z - zim₁)     ╲╱  (-x + xip₁) \n",
       "\n",
       "                   2⋅(-2⋅y + yim₁ + yip₁)                                   ⎞\n",
       "────────────────────────────────────────────────────────────────────────────⎟\n",
       "_______________________________    _________________________________________⎟\n",
       "              2              2    ╱           2             2             2 ⎟\n",
       " + (-y + yip₁)  + (-z + zip₁)  ⋅╲╱  (x - xim₁)  + (y - yim₁)  + (z - zim₁)  ⎠"
      ]
     },
     "execution_count": 31,
     "metadata": {},
     "output_type": "execute_result"
    }
   ],
   "source": [
    "sympy.diff(loss1, y)"
   ]
  },
  {
   "cell_type": "code",
   "execution_count": 32,
   "metadata": {},
   "outputs": [
    {
     "data": {
      "image/png": "[encoded data removed]",
      "text/latex": [
       "$\\displaystyle \\left(- \\frac{\\left(- x + xip_{1}\\right) \\left(x - xim_{1}\\right) + \\left(- y + yip_{1}\\right) \\left(y - yim_{1}\\right) + \\left(- z + zip_{1}\\right) \\left(z - zim_{1}\\right)}{\\sqrt{\\left(- x + xip_{1}\\right)^{2} + \\left(- y + yip_{1}\\right)^{2} + \\left(- z + zip_{1}\\right)^{2}} \\sqrt{\\left(x - xim_{1}\\right)^{2} + \\left(y - yim_{1}\\right)^{2} + \\left(z - zim_{1}\\right)^{2}}} + 1.0\\right) \\left(- \\frac{2 \\left(- z + zim_{1}\\right) \\left(\\left(- x + xip_{1}\\right) \\left(x - xim_{1}\\right) + \\left(- y + yip_{1}\\right) \\left(y - yim_{1}\\right) + \\left(- z + zip_{1}\\right) \\left(z - zim_{1}\\right)\\right)}{\\sqrt{\\left(- x + xip_{1}\\right)^{2} + \\left(- y + yip_{1}\\right)^{2} + \\left(- z + zip_{1}\\right)^{2}} \\left(\\left(x - xim_{1}\\right)^{2} + \\left(y - yim_{1}\\right)^{2} + \\left(z - zim_{1}\\right)^{2}\\right)^{\\frac{3}{2}}} - \\frac{2 \\left(- z + zip_{1}\\right) \\left(\\left(- x + xip_{1}\\right) \\left(x - xim_{1}\\right) + \\left(- y + yip_{1}\\right) \\left(y - yim_{1}\\right) + \\left(- z + zip_{1}\\right) \\left(z - zim_{1}\\right)\\right)}{\\left(\\left(- x + xip_{1}\\right)^{2} + \\left(- y + yip_{1}\\right)^{2} + \\left(- z + zip_{1}\\right)^{2}\\right)^{\\frac{3}{2}} \\sqrt{\\left(x - xim_{1}\\right)^{2} + \\left(y - yim_{1}\\right)^{2} + \\left(z - zim_{1}\\right)^{2}}} - \\frac{2 \\left(- 2 z + zim_{1} + zip_{1}\\right)}{\\sqrt{\\left(- x + xip_{1}\\right)^{2} + \\left(- y + yip_{1}\\right)^{2} + \\left(- z + zip_{1}\\right)^{2}} \\sqrt{\\left(x - xim_{1}\\right)^{2} + \\left(y - yim_{1}\\right)^{2} + \\left(z - zim_{1}\\right)^{2}}}\\right)$"
      ],
      "text/plain": [
       "⎛            (-x + xip₁)⋅(x - xim₁) + (-y + yip₁)⋅(y - yim₁) + (-z + zip₁)⋅(z \n",
       "⎜- ───────────────────────────────────────────────────────────────────────────\n",
       "⎜     ____________________________________________    ________________________\n",
       "⎜    ╱            2              2              2    ╱           2            \n",
       "⎝  ╲╱  (-x + xip₁)  + (-y + yip₁)  + (-z + zip₁)  ⋅╲╱  (x - xim₁)  + (y - yim₁\n",
       "\n",
       "- zim₁)                ⎞ ⎛    2⋅(-z + zim₁)⋅((-x + xip₁)⋅(x - xim₁) + (-y + yi\n",
       "───────────────── + 1.0⎟⋅⎜- ──────────────────────────────────────────────────\n",
       "_________________      ⎟ ⎜     ____________________________________________   \n",
       " 2             2       ⎟ ⎜    ╱            2              2              2  ⎛ \n",
       ")  + (z - zim₁)        ⎠ ⎝  ╲╱  (-x + xip₁)  + (-y + yip₁)  + (-z + zip₁)  ⋅⎝(\n",
       "\n",
       "p₁)⋅(y - yim₁) + (-z + zip₁)⋅(z - zim₁))       2⋅(-z + zip₁)⋅((-x + xip₁)⋅(x -\n",
       "────────────────────────────────────────── - ─────────────────────────────────\n",
       "                                       3/2                                    \n",
       "         2             2             2⎞      ⎛           2              2     \n",
       "x - xim₁)  + (y - yim₁)  + (z - zim₁) ⎠      ⎝(-x + xip₁)  + (-y + yip₁)  + (-\n",
       "\n",
       " xim₁) + (-y + yip₁)⋅(y - yim₁) + (-z + zip₁)⋅(z - zim₁))                     \n",
       "─────────────────────────────────────────────────────────── - ────────────────\n",
       "           3/2    _________________________________________      _____________\n",
       "         2⎞      ╱           2             2             2      ╱            2\n",
       "z + zip₁) ⎠   ⋅╲╱  (x - xim₁)  + (y - yim₁)  + (z - zim₁)     ╲╱  (-x + xip₁) \n",
       "\n",
       "                   2⋅(-2⋅z + zim₁ + zip₁)                                   ⎞\n",
       "────────────────────────────────────────────────────────────────────────────⎟\n",
       "_______________________________    _________________________________________⎟\n",
       "              2              2    ╱           2             2             2 ⎟\n",
       " + (-y + yip₁)  + (-z + zip₁)  ⋅╲╱  (x - xim₁)  + (y - yim₁)  + (z - zim₁)  ⎠"
      ]
     },
     "execution_count": 32,
     "metadata": {},
     "output_type": "execute_result"
    }
   ],
   "source": [
    "sympy.diff(loss1, z)"
   ]
  },
  {
   "attachments": {},
   "cell_type": "markdown",
   "metadata": {},
   "source": [
    "##### diff 3"
   ]
  },
  {
   "cell_type": "code",
   "execution_count": 33,
   "metadata": {},
   "outputs": [
    {
     "data": {
      "image/png": "[encoded data removed]",
      "text/latex": [
       "$\\displaystyle \\left(- \\frac{\\left(- x + xip_{1}\\right) \\left(- xip_{1} + xip_{2}\\right) + \\left(- y + yip_{1}\\right) \\left(- yip_{1} + yip_{2}\\right) + \\left(- z + zip_{1}\\right) \\left(- zip_{1} + zip_{2}\\right)}{\\sqrt{\\left(- x + xip_{1}\\right)^{2} + \\left(- y + yip_{1}\\right)^{2} + \\left(- z + zip_{1}\\right)^{2}} \\sqrt{\\left(- xip_{1} + xip_{2}\\right)^{2} + \\left(- yip_{1} + yip_{2}\\right)^{2} + \\left(- zip_{1} + zip_{2}\\right)^{2}}} + 1.0\\right) \\left(- \\frac{2 \\left(- x + xip_{1}\\right) \\left(\\left(- x + xip_{1}\\right) \\left(- xip_{1} + xip_{2}\\right) + \\left(- y + yip_{1}\\right) \\left(- yip_{1} + yip_{2}\\right) + \\left(- z + zip_{1}\\right) \\left(- zip_{1} + zip_{2}\\right)\\right)}{\\left(\\left(- x + xip_{1}\\right)^{2} + \\left(- y + yip_{1}\\right)^{2} + \\left(- z + zip_{1}\\right)^{2}\\right)^{\\frac{3}{2}} \\sqrt{\\left(- xip_{1} + xip_{2}\\right)^{2} + \\left(- yip_{1} + yip_{2}\\right)^{2} + \\left(- zip_{1} + zip_{2}\\right)^{2}}} - \\frac{2 \\left(xip_{1} - xip_{2}\\right)}{\\sqrt{\\left(- x + xip_{1}\\right)^{2} + \\left(- y + yip_{1}\\right)^{2} + \\left(- z + zip_{1}\\right)^{2}} \\sqrt{\\left(- xip_{1} + xip_{2}\\right)^{2} + \\left(- yip_{1} + yip_{2}\\right)^{2} + \\left(- zip_{1} + zip_{2}\\right)^{2}}}\\right)$"
      ],
      "text/plain": [
       "⎛            (-x + xip₁)⋅(-xip₁ + xip₂) + (-y + yip₁)⋅(-yip₁ + yip₂) + (-z + z\n",
       "⎜- ───────────────────────────────────────────────────────────────────────────\n",
       "⎜     ____________________________________________    ________________________\n",
       "⎜    ╱            2              2              2    ╱               2        \n",
       "⎝  ╲╱  (-x + xip₁)  + (-y + yip₁)  + (-z + zip₁)  ⋅╲╱  (-xip₁ + xip₂)  + (-yip\n",
       "\n",
       "ip₁)⋅(-zip₁ + zip₂)                ⎞ ⎛    2⋅(-x + xip₁)⋅((-x + xip₁)⋅(-xip₁ + \n",
       "───────────────────────────── + 1.0⎟⋅⎜- ──────────────────────────────────────\n",
       "_____________________________      ⎟ ⎜                                        \n",
       "         2                 2       ⎟ ⎜  ⎛           2              2          \n",
       "₁ + yip₂)  + (-zip₁ + zip₂)        ⎠ ⎝  ⎝(-x + xip₁)  + (-y + yip₁)  + (-z + z\n",
       "\n",
       "xip₂) + (-y + yip₁)⋅(-yip₁ + yip₂) + (-z + zip₁)⋅(-zip₁ + zip₂))              \n",
       "────────────────────────────────────────────────────────────────── - ─────────\n",
       "      3/2    _____________________________________________________      ______\n",
       "    2⎞      ╱               2                 2                 2      ╱      \n",
       "ip₁) ⎠   ⋅╲╱  (-xip₁ + xip₂)  + (-yip₁ + yip₂)  + (-zip₁ + zip₂)     ╲╱  (-x +\n",
       "\n",
       "                                   2⋅(xip₁ - xip₂)                            \n",
       "──────────────────────────────────────────────────────────────────────────────\n",
       "______________________________________    ____________________________________\n",
       "      2              2              2    ╱               2                 2  \n",
       " xip₁)  + (-y + yip₁)  + (-z + zip₁)  ⋅╲╱  (-xip₁ + xip₂)  + (-yip₁ + yip₂)  +\n",
       "\n",
       "                 ⎞\n",
       "─────────────────⎟\n",
       "_________________⎟\n",
       "               2 ⎟\n",
       " (-zip₁ + zip₂)  ⎠"
      ]
     },
     "execution_count": 33,
     "metadata": {},
     "output_type": "execute_result"
    }
   ],
   "source": [
    "sympy.diff(loss2, x)"
   ]
  },
  {
   "cell_type": "code",
   "execution_count": 34,
   "metadata": {},
   "outputs": [
    {
     "data": {
      "image/png": "[encoded data removed]",
      "text/latex": [
       "$\\displaystyle \\left(- \\frac{\\left(- x + xip_{1}\\right) \\left(- xip_{1} + xip_{2}\\right) + \\left(- y + yip_{1}\\right) \\left(- yip_{1} + yip_{2}\\right) + \\left(- z + zip_{1}\\right) \\left(- zip_{1} + zip_{2}\\right)}{\\sqrt{\\left(- x + xip_{1}\\right)^{2} + \\left(- y + yip_{1}\\right)^{2} + \\left(- z + zip_{1}\\right)^{2}} \\sqrt{\\left(- xip_{1} + xip_{2}\\right)^{2} + \\left(- yip_{1} + yip_{2}\\right)^{2} + \\left(- zip_{1} + zip_{2}\\right)^{2}}} + 1.0\\right) \\left(- \\frac{2 \\left(- y + yip_{1}\\right) \\left(\\left(- x + xip_{1}\\right) \\left(- xip_{1} + xip_{2}\\right) + \\left(- y + yip_{1}\\right) \\left(- yip_{1} + yip_{2}\\right) + \\left(- z + zip_{1}\\right) \\left(- zip_{1} + zip_{2}\\right)\\right)}{\\left(\\left(- x + xip_{1}\\right)^{2} + \\left(- y + yip_{1}\\right)^{2} + \\left(- z + zip_{1}\\right)^{2}\\right)^{\\frac{3}{2}} \\sqrt{\\left(- xip_{1} + xip_{2}\\right)^{2} + \\left(- yip_{1} + yip_{2}\\right)^{2} + \\left(- zip_{1} + zip_{2}\\right)^{2}}} - \\frac{2 \\left(yip_{1} - yip_{2}\\right)}{\\sqrt{\\left(- x + xip_{1}\\right)^{2} + \\left(- y + yip_{1}\\right)^{2} + \\left(- z + zip_{1}\\right)^{2}} \\sqrt{\\left(- xip_{1} + xip_{2}\\right)^{2} + \\left(- yip_{1} + yip_{2}\\right)^{2} + \\left(- zip_{1} + zip_{2}\\right)^{2}}}\\right)$"
      ],
      "text/plain": [
       "⎛            (-x + xip₁)⋅(-xip₁ + xip₂) + (-y + yip₁)⋅(-yip₁ + yip₂) + (-z + z\n",
       "⎜- ───────────────────────────────────────────────────────────────────────────\n",
       "⎜     ____________________________________________    ________________________\n",
       "⎜    ╱            2              2              2    ╱               2        \n",
       "⎝  ╲╱  (-x + xip₁)  + (-y + yip₁)  + (-z + zip₁)  ⋅╲╱  (-xip₁ + xip₂)  + (-yip\n",
       "\n",
       "ip₁)⋅(-zip₁ + zip₂)                ⎞ ⎛    2⋅(-y + yip₁)⋅((-x + xip₁)⋅(-xip₁ + \n",
       "───────────────────────────── + 1.0⎟⋅⎜- ──────────────────────────────────────\n",
       "_____________________________      ⎟ ⎜                                        \n",
       "         2                 2       ⎟ ⎜  ⎛           2              2          \n",
       "₁ + yip₂)  + (-zip₁ + zip₂)        ⎠ ⎝  ⎝(-x + xip₁)  + (-y + yip₁)  + (-z + z\n",
       "\n",
       "xip₂) + (-y + yip₁)⋅(-yip₁ + yip₂) + (-z + zip₁)⋅(-zip₁ + zip₂))              \n",
       "────────────────────────────────────────────────────────────────── - ─────────\n",
       "      3/2    _____________________________________________________      ______\n",
       "    2⎞      ╱               2                 2                 2      ╱      \n",
       "ip₁) ⎠   ⋅╲╱  (-xip₁ + xip₂)  + (-yip₁ + yip₂)  + (-zip₁ + zip₂)     ╲╱  (-x +\n",
       "\n",
       "                                   2⋅(yip₁ - yip₂)                            \n",
       "──────────────────────────────────────────────────────────────────────────────\n",
       "______________________________________    ____________________________________\n",
       "      2              2              2    ╱               2                 2  \n",
       " xip₁)  + (-y + yip₁)  + (-z + zip₁)  ⋅╲╱  (-xip₁ + xip₂)  + (-yip₁ + yip₂)  +\n",
       "\n",
       "                 ⎞\n",
       "─────────────────⎟\n",
       "_________________⎟\n",
       "               2 ⎟\n",
       " (-zip₁ + zip₂)  ⎠"
      ]
     },
     "execution_count": 34,
     "metadata": {},
     "output_type": "execute_result"
    }
   ],
   "source": [
    "sympy.diff(loss2, y)"
   ]
  },
  {
   "cell_type": "code",
   "execution_count": 35,
   "metadata": {},
   "outputs": [
    {
     "data": {
      "image/png": "[encoded data removed]",
      "text/latex": [
       "$\\displaystyle \\left(- \\frac{\\left(- x + xip_{1}\\right) \\left(- xip_{1} + xip_{2}\\right) + \\left(- y + yip_{1}\\right) \\left(- yip_{1} + yip_{2}\\right) + \\left(- z + zip_{1}\\right) \\left(- zip_{1} + zip_{2}\\right)}{\\sqrt{\\left(- x + xip_{1}\\right)^{2} + \\left(- y + yip_{1}\\right)^{2} + \\left(- z + zip_{1}\\right)^{2}} \\sqrt{\\left(- xip_{1} + xip_{2}\\right)^{2} + \\left(- yip_{1} + yip_{2}\\right)^{2} + \\left(- zip_{1} + zip_{2}\\right)^{2}}} + 1.0\\right) \\left(- \\frac{2 \\left(- z + zip_{1}\\right) \\left(\\left(- x + xip_{1}\\right) \\left(- xip_{1} + xip_{2}\\right) + \\left(- y + yip_{1}\\right) \\left(- yip_{1} + yip_{2}\\right) + \\left(- z + zip_{1}\\right) \\left(- zip_{1} + zip_{2}\\right)\\right)}{\\left(\\left(- x + xip_{1}\\right)^{2} + \\left(- y + yip_{1}\\right)^{2} + \\left(- z + zip_{1}\\right)^{2}\\right)^{\\frac{3}{2}} \\sqrt{\\left(- xip_{1} + xip_{2}\\right)^{2} + \\left(- yip_{1} + yip_{2}\\right)^{2} + \\left(- zip_{1} + zip_{2}\\right)^{2}}} - \\frac{2 \\left(zip_{1} - zip_{2}\\right)}{\\sqrt{\\left(- x + xip_{1}\\right)^{2} + \\left(- y + yip_{1}\\right)^{2} + \\left(- z + zip_{1}\\right)^{2}} \\sqrt{\\left(- xip_{1} + xip_{2}\\right)^{2} + \\left(- yip_{1} + yip_{2}\\right)^{2} + \\left(- zip_{1} + zip_{2}\\right)^{2}}}\\right)$"
      ],
      "text/plain": [
       "⎛            (-x + xip₁)⋅(-xip₁ + xip₂) + (-y + yip₁)⋅(-yip₁ + yip₂) + (-z + z\n",
       "⎜- ───────────────────────────────────────────────────────────────────────────\n",
       "⎜     ____________________________________________    ________________________\n",
       "⎜    ╱            2              2              2    ╱               2        \n",
       "⎝  ╲╱  (-x + xip₁)  + (-y + yip₁)  + (-z + zip₁)  ⋅╲╱  (-xip₁ + xip₂)  + (-yip\n",
       "\n",
       "ip₁)⋅(-zip₁ + zip₂)                ⎞ ⎛    2⋅(-z + zip₁)⋅((-x + xip₁)⋅(-xip₁ + \n",
       "───────────────────────────── + 1.0⎟⋅⎜- ──────────────────────────────────────\n",
       "_____________________________      ⎟ ⎜                                        \n",
       "         2                 2       ⎟ ⎜  ⎛           2              2          \n",
       "₁ + yip₂)  + (-zip₁ + zip₂)        ⎠ ⎝  ⎝(-x + xip₁)  + (-y + yip₁)  + (-z + z\n",
       "\n",
       "xip₂) + (-y + yip₁)⋅(-yip₁ + yip₂) + (-z + zip₁)⋅(-zip₁ + zip₂))              \n",
       "────────────────────────────────────────────────────────────────── - ─────────\n",
       "      3/2    _____________________________________________________      ______\n",
       "    2⎞      ╱               2                 2                 2      ╱      \n",
       "ip₁) ⎠   ⋅╲╱  (-xip₁ + xip₂)  + (-yip₁ + yip₂)  + (-zip₁ + zip₂)     ╲╱  (-x +\n",
       "\n",
       "                                   2⋅(zip₁ - zip₂)                            \n",
       "──────────────────────────────────────────────────────────────────────────────\n",
       "______________________________________    ____________________________________\n",
       "      2              2              2    ╱               2                 2  \n",
       " xip₁)  + (-y + yip₁)  + (-z + zip₁)  ⋅╲╱  (-xip₁ + xip₂)  + (-yip₁ + yip₂)  +\n",
       "\n",
       "                 ⎞\n",
       "─────────────────⎟\n",
       "_________________⎟\n",
       "               2 ⎟\n",
       " (-zip₁ + zip₂)  ⎠"
      ]
     },
     "execution_count": 35,
     "metadata": {},
     "output_type": "execute_result"
    }
   ],
   "source": [
    "sympy.diff(loss2, z)"
   ]
  },
  {
   "cell_type": "code",
   "execution_count": 23,
   "metadata": {},
   "outputs": [],
   "source": [
    "def loss_calc(theta0, theta1, theta2):\n",
    "    loss = np.power(1.0 - np.cos(theta0), 2) + np.power(1.0 - np.cos(theta1), 2) + np.power(1.0 - np.cos(theta2), 2)\n",
    "    return loss"
   ]
  },
  {
   "cell_type": "code",
   "execution_count": 36,
   "metadata": {},
   "outputs": [
    {
     "name": "stdout",
     "output_type": "stream",
     "text": [
      "0.17157287525380985\n",
      "0.9999999999999998\n",
      "0.8918004931539887\n"
     ]
    }
   ],
   "source": [
    "print(loss_calc(np.pi/4.0, 0.0, np.pi/4.0))\n",
    "print(loss_calc(0.0, np.pi/2.0, 0.0))\n",
    "print(loss_calc(10.38 / 180.0 * np.pi, 86.8 / 180.0 * np.pi, 7.125 / 180.0 * np.pi))"
   ]
  },
  {
   "attachments": {},
   "cell_type": "markdown",
   "metadata": {},
   "source": [
    "##### ------------------   Test"
   ]
  },
  {
   "cell_type": "code",
   "execution_count": 20,
   "metadata": {},
   "outputs": [],
   "source": [
    "def loss_fun0(xim2, xim1, xi, xip1, xip2):\n",
    "    vec0 = xim1 - xim2\n",
    "    vec1 = xi - xim1\n",
    "    vec2 = xip1 - xi\n",
    "    vec3 = xip2 - xip1\n",
    "\n",
    "    cosT0 = vec0.dot(vec1.T) / (np.linalg.norm(vec0, ord=2) * np.linalg.norm(vec1, ord=2))\n",
    "    loss0 = 1.0 - cosT0\n",
    "\n",
    "    cosT1 = vec1.dot(vec2.T) / (np.linalg.norm(vec1, ord=2) * np.linalg.norm(vec2, ord=2))\n",
    "    loss1 = 1.0 - cosT1\n",
    "\n",
    "    cosT2 = vec2.dot(vec3.T) / (np.linalg.norm(vec2, ord=2) * np.linalg.norm(vec3, ord=2))\n",
    "    loss2 = 1.0 - cosT2\n",
    "    loss = loss0 + loss1 + loss2\n",
    "\n",
    "    print('Loss: %f -> (%f + %f + %f)' % (loss, loss0, loss1, loss2))\n",
    "    print('Angel: %f + %f + %f' % (\n",
    "        np.arccos(cosT0) / np.pi * 180.0,\n",
    "        np.arccos(cosT1) / np.pi * 180.0,\n",
    "        np.arccos(cosT2) / np.pi * 180.0\n",
    "    ))\n"
   ]
  },
  {
   "cell_type": "code",
   "execution_count": 7,
   "metadata": {},
   "outputs": [],
   "source": [
    "def loss2(theta0, theta1, theta2):\n",
    "    loss0 = 1.0 - np.cos(theta0)\n",
    "    loss1 = 1.0 - np.cos(theta1)\n",
    "    loss2 = 1.0 - np.cos(theta2)\n",
    "    loss = loss0 + loss1 + loss2\n",
    "\n",
    "    print('Loss: %f -> (%f + %f + %f)' % (loss, loss0, loss1, loss2))\n",
    "    print('Angel: %f + %f + %f' % (\n",
    "        theta0 / np.pi * 180.0,\n",
    "        theta1 / np.pi * 180.0,\n",
    "        theta2 / np.pi * 180.0\n",
    "    ))"
   ]
  },
  {
   "cell_type": "code",
   "execution_count": 9,
   "metadata": {},
   "outputs": [
    {
     "name": "stdout",
     "output_type": "stream",
     "text": [
      "Loss: 1.000000 -> (0.000000 + 1.000000 + 0.000000)\n",
      "Angel: 0.000000 + 90.000000 + 0.000000\n",
      "Loss: 0.633975 -> (0.133975 + 0.000000 + 0.500000)\n",
      "Angel: 30.000000 + 0.000000 + 60.000000\n",
      "Loss: 0.585786 -> (0.292893 + 0.000000 + 0.292893)\n",
      "Angel: 45.000000 + 0.000000 + 45.000000\n",
      "Loss: 0.401924 -> (0.133975 + 0.133975 + 0.133975)\n",
      "Angel: 30.000000 + 30.000000 + 30.000000\n"
     ]
    }
   ],
   "source": [
    "loss2(np.deg2rad(0.), np.deg2rad(90.0), np.deg2rad(0.))\n",
    "loss2(np.deg2rad(30.), np.deg2rad(0.0), np.deg2rad(60.))\n",
    "loss2(np.deg2rad(45.), np.deg2rad(0.0), np.deg2rad(45.))\n",
    "loss2(np.deg2rad(30.), np.deg2rad(30.0), np.deg2rad(30.))"
   ]
  },
  {
   "cell_type": "code",
   "execution_count": 38,
   "metadata": {},
   "outputs": [],
   "source": [
    "xim2, yim2 = symbols('xim2, yim2', is_positive=True, is_real=True)\n",
    "xim1, yim1 = symbols('xim1, yim1', is_positive=True, is_real=True)\n",
    "x, y = symbols('x, y', is_positive=True, is_real=True)\n",
    "xip1, yip1 = symbols('xip1, yip1', is_positive=True, is_real=True)\n",
    "xip2, yip2 = symbols('xip2, yip2', is_positive=True, is_real=True)"
   ]
  },
  {
   "cell_type": "code",
   "execution_count": 39,
   "metadata": {},
   "outputs": [],
   "source": [
    "vecx1, vecy1 = xim1 - xim2, yim1 - yim2\n",
    "vecx2, vecy2 = x - xim1, y - yim1\n",
    "vecx3, vecy3 = xip1 - x, yip1 - y\n",
    "vecx4, vecy4 = xip2 - xip1, yip2 - yip1\n",
    "\n",
    "length1 = sympy.sqrt(sympy.Pow(vecx1, 2) + sympy.Pow(vecy1, 2))\n",
    "length2 = sympy.sqrt(sympy.Pow(vecx2, 2) + sympy.Pow(vecy2, 2))\n",
    "length3 = sympy.sqrt(sympy.Pow(vecx3, 2) + sympy.Pow(vecy3, 2))\n",
    "length4 = sympy.sqrt(sympy.Pow(vecx4, 2) + sympy.Pow(vecy4, 2))\n",
    "\n",
    "costheta0 = (vecx1 * vecx2 + vecy1 * vecy2) / (length1 * length2)\n",
    "costheta1 = (vecx2 * vecx3 + vecy2 * vecy3) / (length2 * length3)\n",
    "costheta2 = (vecx3 * vecx4 + vecy3 * vecy4) / (length3 * length4)\n",
    "\n",
    "loss = (1.0 - costheta0) + (1.0 - costheta1) + (1.0 - costheta2)"
   ]
  },
  {
   "cell_type": "code",
   "execution_count": 41,
   "metadata": {},
   "outputs": [
    {
     "data": {
      "image/png": "[encoded data removed]",
      "text/latex": [
       "$\\displaystyle - \\frac{\\left(- x + xim_{1}\\right) \\left(\\left(- x + xip_{1}\\right) \\left(x - xim_{1}\\right) + \\left(- y + yip_{1}\\right) \\left(y - yim_{1}\\right)\\right)}{\\sqrt{\\left(- x + xip_{1}\\right)^{2} + \\left(- y + yip_{1}\\right)^{2}} \\left(\\left(x - xim_{1}\\right)^{2} + \\left(y - yim_{1}\\right)^{2}\\right)^{\\frac{3}{2}}} - \\frac{\\left(- x + xim_{1}\\right) \\left(\\left(x - xim_{1}\\right) \\left(xim_{1} - xim_{2}\\right) + \\left(y - yim_{1}\\right) \\left(yim_{1} - yim_{2}\\right)\\right)}{\\left(\\left(x - xim_{1}\\right)^{2} + \\left(y - yim_{1}\\right)^{2}\\right)^{\\frac{3}{2}} \\sqrt{\\left(xim_{1} - xim_{2}\\right)^{2} + \\left(yim_{1} - yim_{2}\\right)^{2}}} - \\frac{\\left(- x + xip_{1}\\right) \\left(\\left(- x + xip_{1}\\right) \\left(x - xim_{1}\\right) + \\left(- y + yip_{1}\\right) \\left(y - yim_{1}\\right)\\right)}{\\left(\\left(- x + xip_{1}\\right)^{2} + \\left(- y + yip_{1}\\right)^{2}\\right)^{\\frac{3}{2}} \\sqrt{\\left(x - xim_{1}\\right)^{2} + \\left(y - yim_{1}\\right)^{2}}} - \\frac{\\left(- x + xip_{1}\\right) \\left(\\left(- x + xip_{1}\\right) \\left(- xip_{1} + xip_{2}\\right) + \\left(- y + yip_{1}\\right) \\left(- yip_{1} + yip_{2}\\right)\\right)}{\\left(\\left(- x + xip_{1}\\right)^{2} + \\left(- y + yip_{1}\\right)^{2}\\right)^{\\frac{3}{2}} \\sqrt{\\left(- xip_{1} + xip_{2}\\right)^{2} + \\left(- yip_{1} + yip_{2}\\right)^{2}}} - \\frac{xim_{1} - xim_{2}}{\\sqrt{\\left(x - xim_{1}\\right)^{2} + \\left(y - yim_{1}\\right)^{2}} \\sqrt{\\left(xim_{1} - xim_{2}\\right)^{2} + \\left(yim_{1} - yim_{2}\\right)^{2}}} - \\frac{xip_{1} - xip_{2}}{\\sqrt{\\left(- x + xip_{1}\\right)^{2} + \\left(- y + yip_{1}\\right)^{2}} \\sqrt{\\left(- xip_{1} + xip_{2}\\right)^{2} + \\left(- yip_{1} + yip_{2}\\right)^{2}}} - \\frac{- 2 x + xim_{1} + xip_{1}}{\\sqrt{\\left(- x + xip_{1}\\right)^{2} + \\left(- y + yip_{1}\\right)^{2}} \\sqrt{\\left(x - xim_{1}\\right)^{2} + \\left(y - yim_{1}\\right)^{2}}}$"
      ],
      "text/plain": [
       "   (-x + xim₁)⋅((-x + xip₁)⋅(x - xim₁) + (-y + yip₁)⋅(y - yim₁))     (-x + xim\n",
       "- ─────────────────────────────────────────────────────────────── - ──────────\n",
       "     _____________________________                            3/2             \n",
       "    ╱            2              2  ⎛          2             2⎞      ⎛         \n",
       "  ╲╱  (-x + xip₁)  + (-y + yip₁)  ⋅⎝(x - xim₁)  + (y - yim₁) ⎠      ⎝(x - xim₁\n",
       "\n",
       "₁)⋅((x - xim₁)⋅(xim₁ - xim₂) + (y - yim₁)⋅(yim₁ - yim₂))     (-x + xip₁)⋅((-x \n",
       "───────────────────────────────────────────────────────── - ──────────────────\n",
       "                 3/2    _________________________________                     \n",
       " 2             2⎞      ╱              2                2    ⎛           2     \n",
       ")  + (y - yim₁) ⎠   ⋅╲╱  (xim₁ - xim₂)  + (yim₁ - yim₂)     ⎝(-x + xip₁)  + (-\n",
       "\n",
       "+ xip₁)⋅(x - xim₁) + (-y + yip₁)⋅(y - yim₁))     (-x + xip₁)⋅((-x + xip₁)⋅(-xi\n",
       "───────────────────────────────────────────── - ──────────────────────────────\n",
       "           3/2    ___________________________                                3\n",
       "         2⎞      ╱           2             2    ⎛           2              2⎞ \n",
       "y + yip₁) ⎠   ⋅╲╱  (x - xim₁)  + (y - yim₁)     ⎝(-x + xip₁)  + (-y + yip₁) ⎠ \n",
       "\n",
       "p₁ + xip₂) + (-y + yip₁)⋅(-yip₁ + yip₂))                                xim₁ -\n",
       "───────────────────────────────────────── - ──────────────────────────────────\n",
       "/2    ___________________________________      ___________________________    \n",
       "     ╱               2                 2      ╱           2             2    ╱\n",
       "  ⋅╲╱  (-xip₁ + xip₂)  + (-yip₁ + yip₂)     ╲╱  (x - xim₁)  + (y - yim₁)  ⋅╲╱ \n",
       "\n",
       " xim₂                                                             xip₁ - xip₂ \n",
       "───────────────────────────────── - ──────────────────────────────────────────\n",
       "_________________________________      _____________________________    ______\n",
       "              2                2      ╱            2              2    ╱      \n",
       " (xim₁ - xim₂)  + (yim₁ - yim₂)     ╲╱  (-x + xip₁)  + (-y + yip₁)  ⋅╲╱  (-xip\n",
       "\n",
       "                                                       -2⋅x + xim₁ + xip₁     \n",
       "───────────────────────────── - ──────────────────────────────────────────────\n",
       "_____________________________      _____________________________    __________\n",
       "         2                 2      ╱            2              2    ╱          \n",
       "₁ + xip₂)  + (-yip₁ + yip₂)     ╲╱  (-x + xip₁)  + (-y + yip₁)  ⋅╲╱  (x - xim₁\n",
       "\n",
       "                 \n",
       "─────────────────\n",
       "_________________\n",
       " 2             2 \n",
       ")  + (y - yim₁)  "
      ]
     },
     "execution_count": 41,
     "metadata": {},
     "output_type": "execute_result"
    }
   ],
   "source": [
    "sympy.diff(loss, x)"
   ]
  },
  {
   "cell_type": "code",
   "execution_count": 42,
   "metadata": {},
   "outputs": [
    {
     "data": {
      "image/png": "[encoded data removed]",
      "text/latex": [
       "$\\displaystyle - \\frac{\\left(- y + yim_{1}\\right) \\left(\\left(- x + xip_{1}\\right) \\left(x - xim_{1}\\right) + \\left(- y + yip_{1}\\right) \\left(y - yim_{1}\\right)\\right)}{\\sqrt{\\left(- x + xip_{1}\\right)^{2} + \\left(- y + yip_{1}\\right)^{2}} \\left(\\left(x - xim_{1}\\right)^{2} + \\left(y - yim_{1}\\right)^{2}\\right)^{\\frac{3}{2}}} - \\frac{\\left(- y + yim_{1}\\right) \\left(\\left(x - xim_{1}\\right) \\left(xim_{1} - xim_{2}\\right) + \\left(y - yim_{1}\\right) \\left(yim_{1} - yim_{2}\\right)\\right)}{\\left(\\left(x - xim_{1}\\right)^{2} + \\left(y - yim_{1}\\right)^{2}\\right)^{\\frac{3}{2}} \\sqrt{\\left(xim_{1} - xim_{2}\\right)^{2} + \\left(yim_{1} - yim_{2}\\right)^{2}}} - \\frac{\\left(- y + yip_{1}\\right) \\left(\\left(- x + xip_{1}\\right) \\left(x - xim_{1}\\right) + \\left(- y + yip_{1}\\right) \\left(y - yim_{1}\\right)\\right)}{\\left(\\left(- x + xip_{1}\\right)^{2} + \\left(- y + yip_{1}\\right)^{2}\\right)^{\\frac{3}{2}} \\sqrt{\\left(x - xim_{1}\\right)^{2} + \\left(y - yim_{1}\\right)^{2}}} - \\frac{\\left(- y + yip_{1}\\right) \\left(\\left(- x + xip_{1}\\right) \\left(- xip_{1} + xip_{2}\\right) + \\left(- y + yip_{1}\\right) \\left(- yip_{1} + yip_{2}\\right)\\right)}{\\left(\\left(- x + xip_{1}\\right)^{2} + \\left(- y + yip_{1}\\right)^{2}\\right)^{\\frac{3}{2}} \\sqrt{\\left(- xip_{1} + xip_{2}\\right)^{2} + \\left(- yip_{1} + yip_{2}\\right)^{2}}} - \\frac{yim_{1} - yim_{2}}{\\sqrt{\\left(x - xim_{1}\\right)^{2} + \\left(y - yim_{1}\\right)^{2}} \\sqrt{\\left(xim_{1} - xim_{2}\\right)^{2} + \\left(yim_{1} - yim_{2}\\right)^{2}}} - \\frac{yip_{1} - yip_{2}}{\\sqrt{\\left(- x + xip_{1}\\right)^{2} + \\left(- y + yip_{1}\\right)^{2}} \\sqrt{\\left(- xip_{1} + xip_{2}\\right)^{2} + \\left(- yip_{1} + yip_{2}\\right)^{2}}} - \\frac{- 2 y + yim_{1} + yip_{1}}{\\sqrt{\\left(- x + xip_{1}\\right)^{2} + \\left(- y + yip_{1}\\right)^{2}} \\sqrt{\\left(x - xim_{1}\\right)^{2} + \\left(y - yim_{1}\\right)^{2}}}$"
      ],
      "text/plain": [
       "   (-y + yim₁)⋅((-x + xip₁)⋅(x - xim₁) + (-y + yip₁)⋅(y - yim₁))     (-y + yim\n",
       "- ─────────────────────────────────────────────────────────────── - ──────────\n",
       "     _____________________________                            3/2             \n",
       "    ╱            2              2  ⎛          2             2⎞      ⎛         \n",
       "  ╲╱  (-x + xip₁)  + (-y + yip₁)  ⋅⎝(x - xim₁)  + (y - yim₁) ⎠      ⎝(x - xim₁\n",
       "\n",
       "₁)⋅((x - xim₁)⋅(xim₁ - xim₂) + (y - yim₁)⋅(yim₁ - yim₂))     (-y + yip₁)⋅((-x \n",
       "───────────────────────────────────────────────────────── - ──────────────────\n",
       "                 3/2    _________________________________                     \n",
       " 2             2⎞      ╱              2                2    ⎛           2     \n",
       ")  + (y - yim₁) ⎠   ⋅╲╱  (xim₁ - xim₂)  + (yim₁ - yim₂)     ⎝(-x + xip₁)  + (-\n",
       "\n",
       "+ xip₁)⋅(x - xim₁) + (-y + yip₁)⋅(y - yim₁))     (-y + yip₁)⋅((-x + xip₁)⋅(-xi\n",
       "───────────────────────────────────────────── - ──────────────────────────────\n",
       "           3/2    ___________________________                                3\n",
       "         2⎞      ╱           2             2    ⎛           2              2⎞ \n",
       "y + yip₁) ⎠   ⋅╲╱  (x - xim₁)  + (y - yim₁)     ⎝(-x + xip₁)  + (-y + yip₁) ⎠ \n",
       "\n",
       "p₁ + xip₂) + (-y + yip₁)⋅(-yip₁ + yip₂))                                yim₁ -\n",
       "───────────────────────────────────────── - ──────────────────────────────────\n",
       "/2    ___________________________________      ___________________________    \n",
       "     ╱               2                 2      ╱           2             2    ╱\n",
       "  ⋅╲╱  (-xip₁ + xip₂)  + (-yip₁ + yip₂)     ╲╱  (x - xim₁)  + (y - yim₁)  ⋅╲╱ \n",
       "\n",
       " yim₂                                                             yip₁ - yip₂ \n",
       "───────────────────────────────── - ──────────────────────────────────────────\n",
       "_________________________________      _____________________________    ______\n",
       "              2                2      ╱            2              2    ╱      \n",
       " (xim₁ - xim₂)  + (yim₁ - yim₂)     ╲╱  (-x + xip₁)  + (-y + yip₁)  ⋅╲╱  (-xip\n",
       "\n",
       "                                                       -2⋅y + yim₁ + yip₁     \n",
       "───────────────────────────── - ──────────────────────────────────────────────\n",
       "_____________________________      _____________________________    __________\n",
       "         2                 2      ╱            2              2    ╱          \n",
       "₁ + xip₂)  + (-yip₁ + yip₂)     ╲╱  (-x + xip₁)  + (-y + yip₁)  ⋅╲╱  (x - xim₁\n",
       "\n",
       "                 \n",
       "─────────────────\n",
       "_________________\n",
       " 2             2 \n",
       ")  + (y - yim₁)  "
      ]
     },
     "execution_count": 42,
     "metadata": {},
     "output_type": "execute_result"
    }
   ],
   "source": [
    "sympy.diff(loss, y)"
   ]
  },
  {
   "cell_type": "code",
   "execution_count": 56,
   "metadata": {},
   "outputs": [],
   "source": [
    "def gradient(xim2, xim1, xi, xip1, xip2):\n",
    "    vec0 = xim1 - xim2\n",
    "    vec1 = xi - xim1\n",
    "    vec2 = xip1 - xi\n",
    "    vec3 = xip2 - xip1\n",
    "\n",
    "    length0 = np.linalg.norm(vec0)\n",
    "    length1 = np.linalg.norm(vec1)\n",
    "    length2 = np.linalg.norm(vec2)\n",
    "    length3 = np.linalg.norm(vec3)\n",
    "\n",
    "    s1 = vec2.dot(vec1.T)/(length2 * np.power(length1, 3.0))\n",
    "    s2 = vec1.dot(vec0.T)/(length0 * np.power(length1, 3.0))\n",
    "    s3 = vec2.dot(vec1.T)/(np.power(length2, 3.0) * length1)\n",
    "    s4 = vec2.dot(vec3.T)/(np.power(length2, 3.0) * length3)\n",
    "    s5 = length1 * length0\n",
    "    s6 = length2 * length3\n",
    "    s7 = length2 * length1\n",
    "\n",
    "    grad = -(-vec1) * s1 - (-vec1) * s2 - (-vec2) * s3 - (-vec2) * s4 - (vec0) * s5 - (-vec3) * s6 - (vec2 - vec1) * s7\n",
    "\n",
    "    return grad"
   ]
  },
  {
   "cell_type": "code",
   "execution_count": 48,
   "metadata": {},
   "outputs": [
    {
     "name": "stdout",
     "output_type": "stream",
     "text": [
      "Loss: 1.000000 -> (0.000000 + 1.000000 + 0.000000)\n",
      "Angel: 0.000000 + 90.000000 + 0.000000\n"
     ]
    }
   ],
   "source": [
    "xim2 = np.array([5.0, 5.0])\n",
    "xim1 = np.array([6.0, 5.0])\n",
    "xi = np.array([7.0, 5.0])\n",
    "xip1 = np.array([7.0, 6.0])\n",
    "xip2 = np.array([7.0, 7.0])\n",
    "\n",
    "loss_fun0(xim2, xim1, xi, xip1, xip2)"
   ]
  },
  {
   "cell_type": "code",
   "execution_count": 58,
   "metadata": {},
   "outputs": [
    {
     "name": "stdout",
     "output_type": "stream",
     "text": [
      "[1. 1.]\n",
      "[6.9 4.9]\n",
      "Loss: 1.030219 -> (0.006116 + 1.019996 + 0.004107)\n",
      "Angel: 6.340192 + 91.145763 + 5.194429\n"
     ]
    }
   ],
   "source": [
    "grad = gradient(xim2, xim1, xi, xip1, xip2)\n",
    "xi_tem = xi - grad * 0.1\n",
    "\n",
    "print(grad)\n",
    "print(xi_tem)\n",
    "loss_fun0(xim2, xim1, xi_tem, xip1, xip2)"
   ]
  },
  {
   "cell_type": "code",
   "execution_count": 25,
   "metadata": {},
   "outputs": [],
   "source": [
    "xi = xi_tem"
   ]
  },
  {
   "attachments": {},
   "cell_type": "markdown",
   "metadata": {},
   "source": [
    "### Gradient Mid"
   ]
  },
  {
   "cell_type": "code",
   "execution_count": 2,
   "metadata": {},
   "outputs": [],
   "source": [
    "def loss_fun0(xim1, xi, xip1):\n",
    "    vec1 = xi - xim1\n",
    "    vec2 = xip1 - xi\n",
    "\n",
    "    cosT1 = vec1.dot(vec2.T) / (np.linalg.norm(vec1, ord=2) * np.linalg.norm(vec2, ord=2))\n",
    "    loss1 = 1.0 - cosT1\n",
    "    \n",
    "    print('Loss: %f' % loss1)\n",
    "    print('Angel: %f' % (np.arccos(cosT1) / np.pi * 180.0))"
   ]
  },
  {
   "cell_type": "code",
   "execution_count": 103,
   "metadata": {},
   "outputs": [],
   "source": [
    "xim1, yim1 = symbols('xim1, yim1', is_real=True)\n",
    "x, y = symbols('x, y', is_real=True)\n",
    "xip1, yip1 = symbols('xip1, yip1', is_real=True)\n",
    "\n",
    "vecx2, vecy2 = x - xim1, y - yim1\n",
    "vecx3, vecy3 = xip1 - x, yip1 - y\n",
    "\n",
    "length2 = sympy.sqrt(sympy.Pow(vecx2, 2) + sympy.Pow(vecy2, 2))\n",
    "length3 = sympy.sqrt(sympy.Pow(vecx3, 2) + sympy.Pow(vecy3, 2))\n",
    "\n",
    "costheta1 = (vecx2 * vecx3 + vecy2 * vecy3) / (length2 * length3)\n",
    "\n",
    "loss = 1.0 - costheta1"
   ]
  },
  {
   "cell_type": "code",
   "execution_count": 104,
   "metadata": {},
   "outputs": [
    {
     "data": {
      "image/png": "[encoded data removed]",
      "text/latex": [
       "$\\displaystyle - \\frac{\\left(- x + xim_{1}\\right) \\left(\\left(- x + xip_{1}\\right) \\left(x - xim_{1}\\right) + \\left(- y + yip_{1}\\right) \\left(y - yim_{1}\\right)\\right)}{\\sqrt{\\left(- x + xip_{1}\\right)^{2} + \\left(- y + yip_{1}\\right)^{2}} \\left(\\left(x - xim_{1}\\right)^{2} + \\left(y - yim_{1}\\right)^{2}\\right)^{\\frac{3}{2}}} - \\frac{\\left(- x + xip_{1}\\right) \\left(\\left(- x + xip_{1}\\right) \\left(x - xim_{1}\\right) + \\left(- y + yip_{1}\\right) \\left(y - yim_{1}\\right)\\right)}{\\left(\\left(- x + xip_{1}\\right)^{2} + \\left(- y + yip_{1}\\right)^{2}\\right)^{\\frac{3}{2}} \\sqrt{\\left(x - xim_{1}\\right)^{2} + \\left(y - yim_{1}\\right)^{2}}} - \\frac{- 2 x + xim_{1} + xip_{1}}{\\sqrt{\\left(- x + xip_{1}\\right)^{2} + \\left(- y + yip_{1}\\right)^{2}} \\sqrt{\\left(x - xim_{1}\\right)^{2} + \\left(y - yim_{1}\\right)^{2}}}$"
      ],
      "text/plain": [
       "   (-x + xim₁)⋅((-x + xip₁)⋅(x - xim₁) + (-y + yip₁)⋅(y - yim₁))     (-x + xip\n",
       "- ─────────────────────────────────────────────────────────────── - ──────────\n",
       "     _____________________________                            3/2             \n",
       "    ╱            2              2  ⎛          2             2⎞      ⎛         \n",
       "  ╲╱  (-x + xip₁)  + (-y + yip₁)  ⋅⎝(x - xim₁)  + (y - yim₁) ⎠      ⎝(-x + xip\n",
       "\n",
       "₁)⋅((-x + xip₁)⋅(x - xim₁) + (-y + yip₁)⋅(y - yim₁))                          \n",
       "───────────────────────────────────────────────────── - ──────────────────────\n",
       "                   3/2    ___________________________      ___________________\n",
       "  2              2⎞      ╱           2             2      ╱            2      \n",
       "₁)  + (-y + yip₁) ⎠   ⋅╲╱  (x - xim₁)  + (y - yim₁)     ╲╱  (-x + xip₁)  + (-y\n",
       "\n",
       " -2⋅x + xim₁ + xip₁                      \n",
       "─────────────────────────────────────────\n",
       "__________    ___________________________\n",
       "        2    ╱           2             2 \n",
       " + yip₁)  ⋅╲╱  (x - xim₁)  + (y - yim₁)  "
      ]
     },
     "execution_count": 104,
     "metadata": {},
     "output_type": "execute_result"
    }
   ],
   "source": [
    "sympy.diff(loss, x)"
   ]
  },
  {
   "cell_type": "code",
   "execution_count": 105,
   "metadata": {},
   "outputs": [
    {
     "data": {
      "image/png": "[encoded data removed]",
      "text/latex": [
       "$\\displaystyle - \\frac{\\left(- y + yim_{1}\\right) \\left(\\left(- x + xip_{1}\\right) \\left(x - xim_{1}\\right) + \\left(- y + yip_{1}\\right) \\left(y - yim_{1}\\right)\\right)}{\\sqrt{\\left(- x + xip_{1}\\right)^{2} + \\left(- y + yip_{1}\\right)^{2}} \\left(\\left(x - xim_{1}\\right)^{2} + \\left(y - yim_{1}\\right)^{2}\\right)^{\\frac{3}{2}}} - \\frac{\\left(- y + yip_{1}\\right) \\left(\\left(- x + xip_{1}\\right) \\left(x - xim_{1}\\right) + \\left(- y + yip_{1}\\right) \\left(y - yim_{1}\\right)\\right)}{\\left(\\left(- x + xip_{1}\\right)^{2} + \\left(- y + yip_{1}\\right)^{2}\\right)^{\\frac{3}{2}} \\sqrt{\\left(x - xim_{1}\\right)^{2} + \\left(y - yim_{1}\\right)^{2}}} - \\frac{- 2 y + yim_{1} + yip_{1}}{\\sqrt{\\left(- x + xip_{1}\\right)^{2} + \\left(- y + yip_{1}\\right)^{2}} \\sqrt{\\left(x - xim_{1}\\right)^{2} + \\left(y - yim_{1}\\right)^{2}}}$"
      ],
      "text/plain": [
       "   (-y + yim₁)⋅((-x + xip₁)⋅(x - xim₁) + (-y + yip₁)⋅(y - yim₁))     (-y + yip\n",
       "- ─────────────────────────────────────────────────────────────── - ──────────\n",
       "     _____________________________                            3/2             \n",
       "    ╱            2              2  ⎛          2             2⎞      ⎛         \n",
       "  ╲╱  (-x + xip₁)  + (-y + yip₁)  ⋅⎝(x - xim₁)  + (y - yim₁) ⎠      ⎝(-x + xip\n",
       "\n",
       "₁)⋅((-x + xip₁)⋅(x - xim₁) + (-y + yip₁)⋅(y - yim₁))                          \n",
       "───────────────────────────────────────────────────── - ──────────────────────\n",
       "                   3/2    ___________________________      ___________________\n",
       "  2              2⎞      ╱           2             2      ╱            2      \n",
       "₁)  + (-y + yip₁) ⎠   ⋅╲╱  (x - xim₁)  + (y - yim₁)     ╲╱  (-x + xip₁)  + (-y\n",
       "\n",
       " -2⋅y + yim₁ + yip₁                      \n",
       "─────────────────────────────────────────\n",
       "__________    ___________________________\n",
       "        2    ╱           2             2 \n",
       " + yip₁)  ⋅╲╱  (x - xim₁)  + (y - yim₁)  "
      ]
     },
     "execution_count": 105,
     "metadata": {},
     "output_type": "execute_result"
    }
   ],
   "source": [
    "sympy.diff(loss, y)"
   ]
  },
  {
   "cell_type": "code",
   "execution_count": 3,
   "metadata": {},
   "outputs": [],
   "source": [
    "def gradient0(xim1, xi, xip1):\n",
    "    vec1 = xi - xim1\n",
    "    vec2 = xip1 - xi\n",
    "\n",
    "    length1 = np.linalg.norm(vec1)\n",
    "    length2 = np.linalg.norm(vec2)\n",
    "\n",
    "    s1 = vec2.dot(vec1.T)/(length2 * np.power(length1, 3.0))\n",
    "    s3 = vec2.dot(vec1.T)/(np.power(length2, 3.0) * length1)\n",
    "    s7 = length2 * length1\n",
    "\n",
    "    grad = -(-vec1) * s1 - (-vec2) * s3 - (vec2 - vec1) * s7\n",
    "\n",
    "    return grad"
   ]
  },
  {
   "cell_type": "code",
   "execution_count": 15,
   "metadata": {},
   "outputs": [
    {
     "name": "stdout",
     "output_type": "stream",
     "text": [
      "Loss: 0.071523\n",
      "Angel: 21.801409\n"
     ]
    }
   ],
   "source": [
    "xim2 = np.array([0.0, 0.0])\n",
    "xim1 = np.array([1.0, 0.0])\n",
    "\n",
    "xi = np.array([1.2, 0.1])\n",
    "# xi = np.array([2.0, 0.0])\n",
    "\n",
    "xip1 = np.array([2.0, 1.0])\n",
    "xip2 = np.array([2.0, 2.0])\n",
    "\n",
    "loss_fun0(xim1, xi, xip1)"
   ]
  },
  {
   "cell_type": "code",
   "execution_count": 16,
   "metadata": {},
   "outputs": [
    {
     "name": "stdout",
     "output_type": "stream",
     "text": [
      "[-4.06461482 -2.21784267]\n",
      "[1.15935385 0.07782157]\n",
      "Loss: 0.070347\n",
      "Angel: 21.619201\n"
     ]
    }
   ],
   "source": [
    "grad = gradient0(xim1, xi, xip1)\n",
    "xi_tem = xi - grad * 0.01\n",
    "\n",
    "print(-grad)\n",
    "print(xi_tem)\n",
    "loss_fun0(xim1, xi_tem, xip1)"
   ]
  },
  {
   "cell_type": "code",
   "execution_count": 13,
   "metadata": {},
   "outputs": [],
   "source": [
    "xi = xi_tem"
   ]
  },
  {
   "attachments": {},
   "cell_type": "markdown",
   "metadata": {},
   "source": [
    "### Gradient First"
   ]
  },
  {
   "cell_type": "code",
   "execution_count": 2,
   "metadata": {},
   "outputs": [],
   "source": [
    "def loss_fun1(xim2, xim1, xi):\n",
    "    vec0 = xim1 - xim2\n",
    "    vec1 = xi - xim1\n",
    "\n",
    "    cosT0 = vec0.dot(vec1.T) / (np.linalg.norm(vec0, ord=2) * np.linalg.norm(vec1, ord=2))\n",
    "    loss0 = 1.0 - cosT0\n",
    "\n",
    "    print('Loss: %f' % (loss0))\n",
    "    print('Angel: %f' % (\n",
    "        np.arccos(cosT0) / np.pi * 180.0\n",
    "    ))"
   ]
  },
  {
   "cell_type": "code",
   "execution_count": 3,
   "metadata": {},
   "outputs": [],
   "source": [
    "xim2, yim2 = symbols('xim2, yim2', is_positive=True, is_real=True)\n",
    "xim1, yim1 = symbols('xim1, yim1', is_positive=True, is_real=True)\n",
    "x, y = symbols('x, y', is_positive=True, is_real=True)\n",
    "\n",
    "vecx1, vecy1 = xim1 - xim2, yim1 - yim2\n",
    "vecx2, vecy2 = x - xim1, y - yim1\n",
    "\n",
    "length1 = sympy.sqrt(sympy.Pow(vecx1, 2) + sympy.Pow(vecy1, 2))\n",
    "length2 = sympy.sqrt(sympy.Pow(vecx2, 2) + sympy.Pow(vecy2, 2))\n",
    "\n",
    "costheta0 = (vecx1 * vecx2 + vecy1 * vecy2) / (length1 * length2)\n",
    "\n",
    "loss = 1.0 - costheta0"
   ]
  },
  {
   "cell_type": "code",
   "execution_count": 4,
   "metadata": {},
   "outputs": [
    {
     "data": {
      "image/png": "[encoded data removed]",
      "text/latex": [
       "$\\displaystyle - \\frac{\\left(- x + xim_{1}\\right) \\left(\\left(x - xim_{1}\\right) \\left(xim_{1} - xim_{2}\\right) + \\left(y - yim_{1}\\right) \\left(yim_{1} - yim_{2}\\right)\\right)}{\\left(\\left(x - xim_{1}\\right)^{2} + \\left(y - yim_{1}\\right)^{2}\\right)^{\\frac{3}{2}} \\sqrt{\\left(xim_{1} - xim_{2}\\right)^{2} + \\left(yim_{1} - yim_{2}\\right)^{2}}} - \\frac{xim_{1} - xim_{2}}{\\sqrt{\\left(x - xim_{1}\\right)^{2} + \\left(y - yim_{1}\\right)^{2}} \\sqrt{\\left(xim_{1} - xim_{2}\\right)^{2} + \\left(yim_{1} - yim_{2}\\right)^{2}}}$"
      ],
      "text/plain": [
       "   (-x + xim₁)⋅((x - xim₁)⋅(xim₁ - xim₂) + (y - yim₁)⋅(yim₁ - yim₂))          \n",
       "- ─────────────────────────────────────────────────────────────────── - ──────\n",
       "                             3/2    _________________________________      ___\n",
       "  ⎛          2             2⎞      ╱              2                2      ╱   \n",
       "  ⎝(x - xim₁)  + (y - yim₁) ⎠   ⋅╲╱  (xim₁ - xim₂)  + (yim₁ - yim₂)     ╲╱  (x\n",
       "\n",
       "                      xim₁ - xim₂                            \n",
       "─────────────────────────────────────────────────────────────\n",
       "________________________    _________________________________\n",
       "        2             2    ╱              2                2 \n",
       " - xim₁)  + (y - yim₁)  ⋅╲╱  (xim₁ - xim₂)  + (yim₁ - yim₂)  "
      ]
     },
     "execution_count": 4,
     "metadata": {},
     "output_type": "execute_result"
    }
   ],
   "source": [
    "sympy.diff(loss, x)"
   ]
  },
  {
   "cell_type": "code",
   "execution_count": 5,
   "metadata": {},
   "outputs": [
    {
     "data": {
      "image/png": "[encoded data removed]",
      "text/latex": [
       "$\\displaystyle - \\frac{\\left(- y + yim_{1}\\right) \\left(\\left(x - xim_{1}\\right) \\left(xim_{1} - xim_{2}\\right) + \\left(y - yim_{1}\\right) \\left(yim_{1} - yim_{2}\\right)\\right)}{\\left(\\left(x - xim_{1}\\right)^{2} + \\left(y - yim_{1}\\right)^{2}\\right)^{\\frac{3}{2}} \\sqrt{\\left(xim_{1} - xim_{2}\\right)^{2} + \\left(yim_{1} - yim_{2}\\right)^{2}}} - \\frac{yim_{1} - yim_{2}}{\\sqrt{\\left(x - xim_{1}\\right)^{2} + \\left(y - yim_{1}\\right)^{2}} \\sqrt{\\left(xim_{1} - xim_{2}\\right)^{2} + \\left(yim_{1} - yim_{2}\\right)^{2}}}$"
      ],
      "text/plain": [
       "   (-y + yim₁)⋅((x - xim₁)⋅(xim₁ - xim₂) + (y - yim₁)⋅(yim₁ - yim₂))          \n",
       "- ─────────────────────────────────────────────────────────────────── - ──────\n",
       "                             3/2    _________________________________      ___\n",
       "  ⎛          2             2⎞      ╱              2                2      ╱   \n",
       "  ⎝(x - xim₁)  + (y - yim₁) ⎠   ⋅╲╱  (xim₁ - xim₂)  + (yim₁ - yim₂)     ╲╱  (x\n",
       "\n",
       "                      yim₁ - yim₂                            \n",
       "─────────────────────────────────────────────────────────────\n",
       "________________________    _________________________________\n",
       "        2             2    ╱              2                2 \n",
       " - xim₁)  + (y - yim₁)  ⋅╲╱  (xim₁ - xim₂)  + (yim₁ - yim₂)  "
      ]
     },
     "execution_count": 5,
     "metadata": {},
     "output_type": "execute_result"
    }
   ],
   "source": [
    "sympy.diff(loss, y)"
   ]
  },
  {
   "cell_type": "code",
   "execution_count": 126,
   "metadata": {},
   "outputs": [],
   "source": [
    "def gradient1(xim2, xim1, xi):\n",
    "    vec0 = xim1 - xim2\n",
    "    vec1 = xi - xim1\n",
    "\n",
    "    length0 = np.linalg.norm(vec0)\n",
    "    length1 = np.linalg.norm(vec1)\n",
    "\n",
    "    s1 = vec1.dot(vec0.T)/(length0 * np.power(length1, 3.0))\n",
    "    s2 = length0 * length1\n",
    "    \n",
    "    grad = -(-vec1) * s1 - (vec0) * s2\n",
    "\n",
    "    return grad"
   ]
  },
  {
   "cell_type": "code",
   "execution_count": 150,
   "metadata": {},
   "outputs": [
    {
     "name": "stdout",
     "output_type": "stream",
     "text": [
      "Loss: 0.105573\n",
      "Angel: 26.565051\n"
     ]
    }
   ],
   "source": [
    "xim2 = np.array([0.0, 0.0])\n",
    "xim1 = np.array([1.0, 0.0])\n",
    "\n",
    "xi = np.array([1.2, 0.1])\n",
    "# xi = np.array([1.0, 1.0])\n",
    "\n",
    "xip1 = np.array([2.0, 1.0])\n",
    "xip2 = np.array([2.0, 2.0])\n",
    "\n",
    "loss_fun1(xim2, xim1, xi)"
   ]
  },
  {
   "cell_type": "code",
   "execution_count": 151,
   "metadata": {},
   "outputs": [
    {
     "name": "stdout",
     "output_type": "stream",
     "text": [
      "[3.35410197 1.78885438]\n",
      "[1.16645898 0.08211146]\n",
      "Loss: 0.103176\n",
      "Angel: 26.256360\n"
     ]
    }
   ],
   "source": [
    "grad = gradient1(xim2, xim1, xi)\n",
    "xi_tem = xi - grad * 0.01\n",
    "\n",
    "print(grad)\n",
    "print(xi_tem)\n",
    "loss_fun1(xim2, xim1, xi_tem)"
   ]
  },
  {
   "cell_type": "code",
   "execution_count": 148,
   "metadata": {},
   "outputs": [],
   "source": [
    "xi = xi_tem"
   ]
  },
  {
   "attachments": {},
   "cell_type": "markdown",
   "metadata": {},
   "source": [
    "### Gradient Last"
   ]
  },
  {
   "cell_type": "code",
   "execution_count": 119,
   "metadata": {},
   "outputs": [],
   "source": [
    "def loss_fun2(xi, xip1, xip2):\n",
    "    vec2 = xip1 - xi\n",
    "    vec3 = xip2 - xip1\n",
    "\n",
    "    cosT2 = vec2.dot(vec3.T) / (np.linalg.norm(vec2, ord=2) * np.linalg.norm(vec3, ord=2))\n",
    "    loss2 = 1.0 - cosT2\n",
    "\n",
    "    print('Loss: %f' % (loss2))\n",
    "    print('Angel: %f' % (np.arccos(cosT2) / np.pi * 180.0))"
   ]
  },
  {
   "cell_type": "code",
   "execution_count": 4,
   "metadata": {},
   "outputs": [],
   "source": [
    "x, y = symbols('x, y', is_positive=True, is_real=True)\n",
    "xip1, yip1 = symbols('xip1, yip1', is_positive=True, is_real=True)\n",
    "xip2, yip2 = symbols('xip2, yip2', is_positive=True, is_real=True)\n",
    "\n",
    "vecx3, vecy3 = xip1 - x, yip1 - y\n",
    "vecx4, vecy4 = xip2 - xip1, yip2 - yip1\n",
    "\n",
    "length3 = sympy.sqrt(sympy.Pow(vecx3, 2) + sympy.Pow(vecy3, 2))\n",
    "length4 = sympy.sqrt(sympy.Pow(vecx4, 2) + sympy.Pow(vecy4, 2))\n",
    "\n",
    "costheta2 = (vecx3 * vecx4 + vecy3 * vecy4) / (length3 * length4)\n",
    "\n",
    "loss = 1.0 - costheta2"
   ]
  },
  {
   "cell_type": "code",
   "execution_count": 5,
   "metadata": {},
   "outputs": [
    {
     "data": {
      "image/png": "[encoded data removed]",
      "text/latex": [
       "$\\displaystyle - \\frac{\\left(- x + xip_{1}\\right) \\left(\\left(- x + xip_{1}\\right) \\left(- xip_{1} + xip_{2}\\right) + \\left(- y + yip_{1}\\right) \\left(- yip_{1} + yip_{2}\\right)\\right)}{\\left(\\left(- x + xip_{1}\\right)^{2} + \\left(- y + yip_{1}\\right)^{2}\\right)^{\\frac{3}{2}} \\sqrt{\\left(- xip_{1} + xip_{2}\\right)^{2} + \\left(- yip_{1} + yip_{2}\\right)^{2}}} - \\frac{xip_{1} - xip_{2}}{\\sqrt{\\left(- x + xip_{1}\\right)^{2} + \\left(- y + yip_{1}\\right)^{2}} \\sqrt{\\left(- xip_{1} + xip_{2}\\right)^{2} + \\left(- yip_{1} + yip_{2}\\right)^{2}}}$"
      ],
      "text/plain": [
       "   (-x + xip₁)⋅((-x + xip₁)⋅(-xip₁ + xip₂) + (-y + yip₁)⋅(-yip₁ + yip₂))      \n",
       "- ─────────────────────────────────────────────────────────────────────── - ──\n",
       "                               3/2    ___________________________________     \n",
       "  ⎛           2              2⎞      ╱               2                 2      \n",
       "  ⎝(-x + xip₁)  + (-y + yip₁) ⎠   ⋅╲╱  (-xip₁ + xip₂)  + (-yip₁ + yip₂)     ╲╱\n",
       "\n",
       "                            xip₁ - xip₂                              \n",
       "─────────────────────────────────────────────────────────────────────\n",
       " _____________________________    ___________________________________\n",
       "╱            2              2    ╱               2                 2 \n",
       "  (-x + xip₁)  + (-y + yip₁)  ⋅╲╱  (-xip₁ + xip₂)  + (-yip₁ + yip₂)  "
      ]
     },
     "execution_count": 5,
     "metadata": {},
     "output_type": "execute_result"
    }
   ],
   "source": [
    "sympy.diff(loss, x)"
   ]
  },
  {
   "cell_type": "code",
   "execution_count": 6,
   "metadata": {},
   "outputs": [
    {
     "data": {
      "image/png": "[encoded data removed]",
      "text/latex": [
       "$\\displaystyle - \\frac{\\left(- y + yip_{1}\\right) \\left(\\left(- x + xip_{1}\\right) \\left(- xip_{1} + xip_{2}\\right) + \\left(- y + yip_{1}\\right) \\left(- yip_{1} + yip_{2}\\right)\\right)}{\\left(\\left(- x + xip_{1}\\right)^{2} + \\left(- y + yip_{1}\\right)^{2}\\right)^{\\frac{3}{2}} \\sqrt{\\left(- xip_{1} + xip_{2}\\right)^{2} + \\left(- yip_{1} + yip_{2}\\right)^{2}}} - \\frac{yip_{1} - yip_{2}}{\\sqrt{\\left(- x + xip_{1}\\right)^{2} + \\left(- y + yip_{1}\\right)^{2}} \\sqrt{\\left(- xip_{1} + xip_{2}\\right)^{2} + \\left(- yip_{1} + yip_{2}\\right)^{2}}}$"
      ],
      "text/plain": [
       "   (-y + yip₁)⋅((-x + xip₁)⋅(-xip₁ + xip₂) + (-y + yip₁)⋅(-yip₁ + yip₂))      \n",
       "- ─────────────────────────────────────────────────────────────────────── - ──\n",
       "                               3/2    ___________________________________     \n",
       "  ⎛           2              2⎞      ╱               2                 2      \n",
       "  ⎝(-x + xip₁)  + (-y + yip₁) ⎠   ⋅╲╱  (-xip₁ + xip₂)  + (-yip₁ + yip₂)     ╲╱\n",
       "\n",
       "                            yip₁ - yip₂                              \n",
       "─────────────────────────────────────────────────────────────────────\n",
       " _____________________________    ___________________________________\n",
       "╱            2              2    ╱               2                 2 \n",
       "  (-x + xip₁)  + (-y + yip₁)  ⋅╲╱  (-xip₁ + xip₂)  + (-yip₁ + yip₂)  "
      ]
     },
     "execution_count": 6,
     "metadata": {},
     "output_type": "execute_result"
    }
   ],
   "source": [
    "sympy.diff(loss, y)"
   ]
  },
  {
   "cell_type": "code",
   "execution_count": 120,
   "metadata": {},
   "outputs": [],
   "source": [
    "def gradient2(xi, xip1, xip2):\n",
    "    vec2 = xip1 - xi\n",
    "    vec3 = xip2 - xip1\n",
    "\n",
    "    length2 = np.linalg.norm(vec2)\n",
    "    length3 = np.linalg.norm(vec3)\n",
    "\n",
    "    s4 = vec2.dot(vec3.T)/(np.power(length2, 3.0) * length3)\n",
    "    s6 = length2 * length3\n",
    "\n",
    "    grad = -(vec2) * s4 - (-vec3) * s6\n",
    "\n",
    "    return grad"
   ]
  },
  {
   "cell_type": "code",
   "execution_count": 121,
   "metadata": {},
   "outputs": [
    {
     "name": "stdout",
     "output_type": "stream",
     "text": [
      "Loss: 0.252591\n",
      "Angel: 41.633539\n"
     ]
    }
   ],
   "source": [
    "xim2 = np.array([0.0, 0.0])\n",
    "xim1 = np.array([1.0, 0.0])\n",
    "\n",
    "xi = np.array([1.2, 0.1])\n",
    "# xi = np.array([1.0, 0.0])\n",
    "\n",
    "xip1 = np.array([2.0, 1.0])\n",
    "xip2 = np.array([2.0, 2.0])\n",
    "\n",
    "loss_fun2(xi, xip1, xip2)"
   ]
  },
  {
   "cell_type": "code",
   "execution_count": 122,
   "metadata": {},
   "outputs": [
    {
     "name": "stdout",
     "output_type": "stream",
     "text": [
      "[-0.41236376  0.74025023]\n",
      "[1.24123638 0.02597498]\n",
      "Loss: 0.211115\n",
      "Angel: 37.918522\n"
     ]
    }
   ],
   "source": [
    "grad = gradient2(xi, xip1, xip2)\n",
    "xi_tem = xi - grad * 0.1\n",
    "\n",
    "print(grad)\n",
    "print(xi_tem)\n",
    "loss_fun2(xi_tem, xip1, xip2)"
   ]
  },
  {
   "attachments": {},
   "cell_type": "markdown",
   "metadata": {},
   "source": [
    "### Gradient all"
   ]
  },
  {
   "cell_type": "code",
   "execution_count": 106,
   "metadata": {},
   "outputs": [],
   "source": [
    "def loss_fun(xim2, xim1, xi, xip1, xip2):\n",
    "    vec0 = xim1 - xim2\n",
    "    vec1 = xi - xim1\n",
    "    vec2 = xip1 - xi\n",
    "    vec3 = xip2 - xip1\n",
    "\n",
    "    cosT0 = vec0.dot(vec1.T) / (np.linalg.norm(vec0, ord=2) * np.linalg.norm(vec1, ord=2))\n",
    "    loss0 = 1.0 - cosT0\n",
    "\n",
    "    cosT1 = vec1.dot(vec2.T) / (np.linalg.norm(vec1, ord=2) * np.linalg.norm(vec2, ord=2))\n",
    "    loss1 = 1.0 - cosT1\n",
    "\n",
    "    cosT2 = vec2.dot(vec3.T) / (np.linalg.norm(vec2, ord=2) * np.linalg.norm(vec3, ord=2))\n",
    "    loss2 = 1.0 - cosT2\n",
    "    loss = loss0 + loss1 + loss2\n",
    "\n",
    "    print('Loss: %f -> (%f + %f + %f)' % (loss, loss0, loss1, loss2))\n",
    "    print('Angel: %f + %f + %f' % (\n",
    "        np.arccos(cosT0) / np.pi * 180.0,\n",
    "        np.arccos(cosT1) / np.pi * 180.0,\n",
    "        np.arccos(cosT2) / np.pi * 180.0\n",
    "    ))"
   ]
  },
  {
   "cell_type": "code",
   "execution_count": 107,
   "metadata": {},
   "outputs": [],
   "source": [
    "def gradient_mid(xim1, xi, xip1):\n",
    "    vec1 = xi - xim1\n",
    "    vec2 = xip1 - xi\n",
    "\n",
    "    length1 = np.linalg.norm(vec1)\n",
    "    length2 = np.linalg.norm(vec2)\n",
    "\n",
    "    s1 = vec2.dot(vec1.T)/(length2 * np.power(length1, 3.0))\n",
    "    s3 = vec2.dot(vec1.T)/(np.power(length2, 3.0) * length1)\n",
    "    s7 = length2 * length1\n",
    "\n",
    "    grad = -(-vec1) * s1 - (-vec2) * s3 - (vec2 - vec1) * s7\n",
    "\n",
    "    return grad\n",
    "\n",
    "def gradient_first(xim2, xim1, xi):\n",
    "    vec0 = xim1 - xim2\n",
    "    vec1 = xi - xim1\n",
    "\n",
    "    length0 = np.linalg.norm(vec0)\n",
    "    length1 = np.linalg.norm(vec1)\n",
    "\n",
    "    s1 = vec1.dot(vec0.T)/(length0 * np.power(length1, 3.0))\n",
    "    s2 = length0 * length1\n",
    "    \n",
    "    grad = -(-vec1) * s1 - (vec0) * s2\n",
    "\n",
    "    return grad\n",
    "\n",
    "def gradient_last(xi, xip1, xip2):\n",
    "    vec2 = xip1 - xi\n",
    "    vec3 = xip2 - xip1\n",
    "\n",
    "    length2 = np.linalg.norm(vec2)\n",
    "    length3 = np.linalg.norm(vec3)\n",
    "\n",
    "    s4 = vec2.dot(vec3.T)/(np.power(length2, 3.0) * length3)\n",
    "    s6 = length2 * length3\n",
    "\n",
    "    grad = -(vec2) * s4 - (-vec3) * s6\n",
    "\n",
    "    return grad"
   ]
  },
  {
   "cell_type": "code",
   "execution_count": 115,
   "metadata": {},
   "outputs": [
    {
     "name": "stdout",
     "output_type": "stream",
     "text": [
      "Loss: 0.429687 -> (0.105573 + 0.071523 + 0.252591)\n",
      "Angel: 26.565051 + 21.801409 + 41.633539\n"
     ]
    }
   ],
   "source": [
    "xim2 = np.array([0.0, 0.0])\n",
    "xim1 = np.array([1.0, 0.0])\n",
    "xi = np.array([1.2, 0.1])\n",
    "xip1 = np.array([2.0, 1.0])\n",
    "xip2 = np.array([2.0, 2.0])\n",
    "\n",
    "loss_fun(xim2, xim1, xi, xip1, xip2)"
   ]
  },
  {
   "cell_type": "code",
   "execution_count": 109,
   "metadata": {},
   "outputs": [
    {
     "name": "stdout",
     "output_type": "stream",
     "text": [
      "grad first: [3.35410197 1.78885438]\n",
      "grad mid: [4.06461482 2.21784267]\n",
      "grad last: [-0.41236376  0.74025023]\n",
      "grad:  [7.00635303 4.74694727]\n",
      "[11.11721202 10.04390945]\n",
      "asf\n",
      "Loss: 0.435832 -> (0.063553 + 0.106990 + 0.265290)\n",
      "Angel: 20.536734 + 26.746019 + 42.717247\n"
     ]
    }
   ],
   "source": [
    "grad_first = gradient_first(xim2, xim1, xi)\n",
    "grad_mid = gradient_mid(xim1, xi, xip1)\n",
    "grad_last = gradient_last(xi, xip1, xip2)\n",
    "\n",
    "print('grad first:', grad_first)\n",
    "print('grad mid:', grad_mid)\n",
    "print('grad last:', grad_last)\n",
    "\n",
    "grad_all = grad_first + grad_mid + grad_last\n",
    "xi_tem = xi - grad_all / np.linalg.norm(grad_all, ord=2) * 0.1\n",
    "\n",
    "print('grad: ', grad_all)\n",
    "print(xi_tem)\n",
    "print('asf')\n",
    "loss_fun(xim2, xim1, xi_tem, xip1, xip2)"
   ]
  },
  {
   "cell_type": "code",
   "execution_count": 18,
   "metadata": {},
   "outputs": [],
   "source": [
    "xim2 = np.array([0., 0., 0.])\n",
    "xim1 = np.array([1., 0., 0.])\n",
    "xi = np.array([1.38, 0.186, 0.0])\n",
    "xip1 = np.array([2., 1., 0.])\n",
    "xip2 = np.array([2., 2., 0.])"
   ]
  },
  {
   "attachments": {},
   "cell_type": "markdown",
   "metadata": {},
   "source": [
    "### All loss check"
   ]
  },
  {
   "cell_type": "code",
   "execution_count": 8,
   "metadata": {},
   "outputs": [],
   "source": [
    "import matplotlib.pyplot as plt"
   ]
  },
  {
   "cell_type": "code",
   "execution_count": 72,
   "metadata": {},
   "outputs": [],
   "source": [
    "def cur_loss_fun(xim2, xim1, xi, xip1, xip2, debug=False):\n",
    "    vec0 = xim1 - xim2\n",
    "    vec1 = xi - xim1\n",
    "    vec2 = xip1 - xi\n",
    "    vec3 = xip2 - xip1\n",
    "\n",
    "    cosT0 = vec0.dot(vec1.T) / (np.linalg.norm(vec0, ord=2) * np.linalg.norm(vec1, ord=2))\n",
    "    loss0 = 1.0 - cosT0\n",
    "\n",
    "    cosT1 = vec1.dot(vec2.T) / (np.linalg.norm(vec1, ord=2) * np.linalg.norm(vec2, ord=2))\n",
    "    loss1 = 1.0 - cosT1\n",
    "\n",
    "    cosT2 = vec2.dot(vec3.T) / (np.linalg.norm(vec2, ord=2) * np.linalg.norm(vec3, ord=2))\n",
    "    loss2 = 1.0 - cosT2\n",
    "    loss = loss0 + loss1 + loss2\n",
    "\n",
    "    if debug:\n",
    "        print('Loss: %f -> (%f + %f + %f)' % (loss, loss0, loss1, loss2))\n",
    "        print('Angel: %f + %f + %f' % (\n",
    "            np.arccos(cosT0) / np.pi * 180.0,\n",
    "            np.arccos(cosT1) / np.pi * 180.0,\n",
    "            np.arccos(cosT2) / np.pi * 180.0\n",
    "        ))\n",
    "\n",
    "    return loss\n",
    "\n",
    "def smooth_loss_fun(xim1, xi, xip1):\n",
    "    loss = (np.power(xi - xim1, 2)).sum() + (np.power(xip1 - xi, 2)).sum()\n",
    "    return loss"
   ]
  },
  {
   "cell_type": "code",
   "execution_count": 110,
   "metadata": {},
   "outputs": [
    {
     "name": "stderr",
     "output_type": "stream",
     "text": [
      "/home/quan/.conda/envs/torch-env/lib/python3.7/site-packages/ipykernel_launcher.py:7: RuntimeWarning: invalid value encountered in double_scalars\n",
      "  import sys\n",
      "/home/quan/.conda/envs/torch-env/lib/python3.7/site-packages/ipykernel_launcher.py:10: RuntimeWarning: invalid value encountered in double_scalars\n",
      "  # Remove the CWD from sys.path while we load stuff.\n"
     ]
    }
   ],
   "source": [
    "xim2 = np.array([0.0, 0.0])\n",
    "xim1 = np.array([1.0, 0.0])\n",
    "xip1 = np.array([2.0, 1.0])\n",
    "xip2 = np.array([2.0, 2.0])\n",
    "\n",
    "xi_Xrange = np.arange(0.0, 2.0, 0.1)\n",
    "xi_Yrange = np.arange(0.0, 2.0, 0.1)\n",
    "xs, ys = np.meshgrid(xi_Xrange, xi_Yrange)\n",
    "xys_map = np.concatenate([xs[..., np.newaxis], ys[..., np.newaxis]], axis=-1)\n",
    "\n",
    "res = []\n",
    "# heat = np.zeros(xys_map.shape[:2])\n",
    "for i in range(xys_map.shape[0]):\n",
    "    for j in range(xys_map.shape[1]):\n",
    "        xi = xys_map[i][j]\n",
    "\n",
    "        smooth_loss = smooth_loss_fun(xim1, xi, xip1)\n",
    "        cur_loss = cur_loss_fun(xim2, xim1, xi, xip1, xip2)\n",
    "\n",
    "        # print(xi, smooth_loss, cur_loss)\n",
    "\n",
    "        loss = smooth_loss + cur_loss\n",
    "        # loss = smooth_loss\n",
    "        # loss = cur_loss\n",
    "\n",
    "        res.append([xi[0], xi[1], loss])\n",
    "\n",
    "res = np.array(res)"
   ]
  },
  {
   "cell_type": "code",
   "execution_count": 111,
   "metadata": {},
   "outputs": [],
   "source": [
    "res = res[~np.isnan(res[:, 2])]"
   ]
  },
  {
   "cell_type": "code",
   "execution_count": 112,
   "metadata": {},
   "outputs": [
    {
     "data": {
      "text/plain": [
       "array([1.6       , 0.4       , 1.45282249])"
      ]
     },
     "execution_count": 112,
     "metadata": {},
     "output_type": "execute_result"
    }
   ],
   "source": [
    "idx = np.argmin(res[:, 2])\n",
    "res[idx]"
   ]
  },
  {
   "cell_type": "code",
   "execution_count": 113,
   "metadata": {},
   "outputs": [
    {
     "name": "stdout",
     "output_type": "stream",
     "text": [
      "Loss: 0.405279 -> (0.105573 + 0.167950 + 0.131757)\n",
      "Angel: 26.565051 + 33.690068 + 29.744881\n"
     ]
    },
    {
     "data": {
      "image/png": "[encoded data removed]",
      "text/latex": [
       "$\\displaystyle 0.405279372537781$"
      ],
      "text/plain": [
       "0.4052793725377811"
      ]
     },
     "execution_count": 113,
     "metadata": {},
     "output_type": "execute_result"
    }
   ],
   "source": [
    "cur_loss_fun(xim2, xim1, np.array([1.6, 0.3]), xip1, xip2, True)"
   ]
  },
  {
   "cell_type": "code",
   "execution_count": 114,
   "metadata": {},
   "outputs": [
    {
     "data": {
      "text/plain": [
       "<matplotlib.colorbar.Colorbar at 0x7f166e7ce450>"
      ]
     },
     "execution_count": 114,
     "metadata": {},
     "output_type": "execute_result"
    },
    {
     "data": {
      "image/png": "[encoded data removed]",
      "text/plain": [
       "<Figure size 432x288 with 2 Axes>"
      ]
     },
     "metadata": {
      "needs_background": "light"
     },
     "output_type": "display_data"
    }
   ],
   "source": [
    "scatter = plt.scatter(\n",
    "    x = res[:, 0], \n",
    "    y = res[:, 1],\n",
    "    c = res[:, 2]\n",
    ")\n",
    "plt.colorbar(scatter)"
   ]
  },
  {
   "cell_type": "code",
   "execution_count": 58,
   "metadata": {},
   "outputs": [
    {
     "name": "stdout",
     "output_type": "stream",
     "text": [
      "1.163277600018 0.4088712203228402 1.5721488203408402\n"
     ]
    }
   ],
   "source": [
    "xi = np.array([1.4797, 0.214997])\n",
    "\n",
    "smooth_loss = smooth_loss_fun(xim1, xi, xip1)\n",
    "cur_loss = cur_loss_fun(xim2, xim1, xi, xip1, xip2)\n",
    "loss = smooth_loss + cur_loss\n",
    "print(smooth_loss, cur_loss, loss)"
   ]
  },
  {
   "attachments": {},
   "cell_type": "markdown",
   "metadata": {},
   "source": [
    "### other test"
   ]
  },
  {
   "attachments": {},
   "cell_type": "markdown",
   "metadata": {},
   "source": [
    "#### grdient mid"
   ]
  },
  {
   "cell_type": "code",
   "execution_count": 2,
   "metadata": {},
   "outputs": [],
   "source": [
    "def loss_fun0(xim1, xi, xip1):\n",
    "    vec1 = xi - xim1\n",
    "    vec2 = xip1 - xi\n",
    "\n",
    "    cosT1 = vec1.dot(vec2.T) / (np.linalg.norm(vec1, ord=2) * np.linalg.norm(vec2, ord=2))\n",
    "    loss1 = 1.0 - cosT1\n",
    "    \n",
    "    print('Loss: %f' % loss1)\n",
    "    print('Angel: %f' % (np.arccos(cosT1) / np.pi * 180.0))"
   ]
  },
  {
   "cell_type": "code",
   "execution_count": 3,
   "metadata": {},
   "outputs": [],
   "source": [
    "xim1, yim1 = symbols('xim1, yim1', is_real=True)\n",
    "x, y = symbols('x, y', is_real=True)\n",
    "xip1, yip1 = symbols('xip1, yip1', is_real=True)\n",
    "\n",
    "vecx2, vecy2 = x - xim1, y - yim1\n",
    "vecx3, vecy3 = xip1 - x, yip1 - y\n",
    "\n",
    "costheta1 = (vecx2 * vecx3 + vecy2 * vecy3)\n",
    "\n",
    "loss = 1.0 - costheta1"
   ]
  },
  {
   "cell_type": "code",
   "execution_count": 4,
   "metadata": {},
   "outputs": [
    {
     "name": "stdout",
     "output_type": "stream",
     "text": [
      "2*x - xim1 - xip1\n",
      "2*y - yim1 - yip1\n"
     ]
    }
   ],
   "source": [
    "print(sympy.diff(loss, x))\n",
    "print(sympy.diff(loss, y))"
   ]
  },
  {
   "cell_type": "code",
   "execution_count": 22,
   "metadata": {},
   "outputs": [],
   "source": [
    "def gradient0(xim1, xi, xip1):\n",
    "    vec1 = xi - xim1\n",
    "    vec2 = xip1 - xi\n",
    "    grad = vec1 - vec2\n",
    "    return grad"
   ]
  },
  {
   "cell_type": "code",
   "execution_count": 99,
   "metadata": {},
   "outputs": [
    {
     "name": "stdout",
     "output_type": "stream",
     "text": [
      "Loss: 0.071523\n",
      "Angel: 21.801409\n"
     ]
    }
   ],
   "source": [
    "xim2 = np.array([0.0, 0.0])\n",
    "xim1 = np.array([1.0, 0.0])\n",
    "\n",
    "xi = np.array([1.2, 0.1])\n",
    "# xi = np.array([2.0, 0.0])\n",
    "\n",
    "xip1 = np.array([2.0, 1.0])\n",
    "xip2 = np.array([2.0, 2.0])\n",
    "\n",
    "loss_fun0(xim1, xi, xip1)"
   ]
  },
  {
   "cell_type": "code",
   "execution_count": 101,
   "metadata": {},
   "outputs": [
    {
     "name": "stdout",
     "output_type": "stream",
     "text": [
      "[-0.6 -0.8]\n",
      "[1.206 0.108]\n",
      "Loss: 0.064309\n",
      "Angel: 20.659859\n"
     ]
    }
   ],
   "source": [
    "grad = gradient0(xim1, xi, xip1)\n",
    "xi_tem = xi - grad * 0.01\n",
    "\n",
    "print(grad)\n",
    "print(xi_tem)\n",
    "loss_fun0(xim1, xi_tem, xip1)"
   ]
  },
  {
   "cell_type": "code",
   "execution_count": 39,
   "metadata": {},
   "outputs": [],
   "source": [
    "xi = xi_tem"
   ]
  },
  {
   "attachments": {},
   "cell_type": "markdown",
   "metadata": {},
   "source": [
    "#### gradient first"
   ]
  },
  {
   "cell_type": "code",
   "execution_count": 103,
   "metadata": {},
   "outputs": [],
   "source": [
    "def loss_fun1(xim2, xim1, xi):\n",
    "    vec0 = xim1 - xim2\n",
    "    vec1 = xi - xim1\n",
    "\n",
    "    cosT0 = vec0.dot(vec1.T) / (np.linalg.norm(vec0, ord=2) * np.linalg.norm(vec1, ord=2))\n",
    "    loss0 = 1.0 - cosT0\n",
    "\n",
    "    print('Loss: %f' % (loss0))\n",
    "    print('Angel: %f' % (\n",
    "        np.arccos(cosT0) / np.pi * 180.0\n",
    "    ))"
   ]
  },
  {
   "cell_type": "code",
   "execution_count": 12,
   "metadata": {},
   "outputs": [],
   "source": [
    "xim2, yim2 = symbols('xim2, yim2', is_positive=True, is_real=True)\n",
    "xim1, yim1 = symbols('xim1, yim1', is_positive=True, is_real=True)\n",
    "x, y = symbols('x, y', is_positive=True, is_real=True)\n",
    "\n",
    "vecx1, vecy1 = xim1 - xim2, yim1 - yim2\n",
    "vecx2, vecy2 = x - xim1, y - yim1\n",
    "\n",
    "costheta0 = (vecx1 * vecx2 + vecy1 * vecy2)\n",
    "\n",
    "loss = 1.0 - costheta0"
   ]
  },
  {
   "cell_type": "code",
   "execution_count": 13,
   "metadata": {},
   "outputs": [
    {
     "name": "stdout",
     "output_type": "stream",
     "text": [
      "-xim1 + xim2\n",
      "-yim1 + yim2\n"
     ]
    }
   ],
   "source": [
    "print(sympy.diff(loss, x))\n",
    "print(sympy.diff(loss, y))"
   ]
  },
  {
   "cell_type": "code",
   "execution_count": 102,
   "metadata": {},
   "outputs": [],
   "source": [
    "def gradient1(xim2, xim1, xi):\n",
    "    vec0 = xim1 - xim2\n",
    "    grad = -vec0\n",
    "    return grad"
   ]
  },
  {
   "cell_type": "code",
   "execution_count": 104,
   "metadata": {},
   "outputs": [
    {
     "name": "stdout",
     "output_type": "stream",
     "text": [
      "Loss: 0.105573\n",
      "Angel: 26.565051\n"
     ]
    }
   ],
   "source": [
    "xim2 = np.array([0.0, 0.0])\n",
    "xim1 = np.array([1.0, 0.0])\n",
    "\n",
    "xi = np.array([1.2, 0.1])\n",
    "# xi = np.array([2.0, 1.0])\n",
    "\n",
    "xip1 = np.array([2.0, 1.0])\n",
    "xip2 = np.array([2.0, 2.0])\n",
    "\n",
    "loss_fun1(xim2, xim1, xi)"
   ]
  },
  {
   "cell_type": "code",
   "execution_count": 105,
   "metadata": {},
   "outputs": [
    {
     "name": "stdout",
     "output_type": "stream",
     "text": [
      "[-1. -0.]\n",
      "[1.3 0.1]\n",
      "Loss: 0.051317\n",
      "Angel: 18.434949\n"
     ]
    }
   ],
   "source": [
    "grad = gradient1(xim2, xim1, xi)\n",
    "xi_tem = xi - grad * 0.1\n",
    "\n",
    "print(grad)\n",
    "print(xi_tem)\n",
    "loss_fun1(xim2, xim1, xi_tem)"
   ]
  },
  {
   "cell_type": "code",
   "execution_count": 64,
   "metadata": {},
   "outputs": [],
   "source": [
    "xi = xi_tem"
   ]
  },
  {
   "attachments": {},
   "cell_type": "markdown",
   "metadata": {},
   "source": [
    "#### gradient last"
   ]
  },
  {
   "cell_type": "code",
   "execution_count": 106,
   "metadata": {},
   "outputs": [],
   "source": [
    "def loss_fun2(xi, xip1, xip2):\n",
    "    vec2 = xip1 - xi\n",
    "    vec3 = xip2 - xip1\n",
    "\n",
    "    cosT2 = vec2.dot(vec3.T) / (np.linalg.norm(vec2, ord=2) * np.linalg.norm(vec3, ord=2))\n",
    "    loss2 = 1.0 - cosT2\n",
    "\n",
    "    print('Loss: %f' % (loss2))\n",
    "    print('Angel: %f' % (np.arccos(cosT2) / np.pi * 180.0))"
   ]
  },
  {
   "cell_type": "code",
   "execution_count": 18,
   "metadata": {},
   "outputs": [],
   "source": [
    "x, y = symbols('x, y', is_positive=True, is_real=True)\n",
    "xip1, yip1 = symbols('xip1, yip1', is_positive=True, is_real=True)\n",
    "xip2, yip2 = symbols('xip2, yip2', is_positive=True, is_real=True)\n",
    "\n",
    "vecx3, vecy3 = xip1 - x, yip1 - y\n",
    "vecx4, vecy4 = xip2 - xip1, yip2 - yip1\n",
    "\n",
    "costheta2 = (vecx3 * vecx4 + vecy3 * vecy4)\n",
    "\n",
    "loss = 1.0 - costheta2"
   ]
  },
  {
   "cell_type": "code",
   "execution_count": 19,
   "metadata": {},
   "outputs": [
    {
     "name": "stdout",
     "output_type": "stream",
     "text": [
      "-xip1 + xip2\n",
      "-yip1 + yip2\n"
     ]
    }
   ],
   "source": [
    "print(sympy.diff(loss, x))\n",
    "print(sympy.diff(loss, y))"
   ]
  },
  {
   "cell_type": "code",
   "execution_count": 107,
   "metadata": {},
   "outputs": [],
   "source": [
    "def gradient2(xi, xip1, xip2):\n",
    "    vec3 = xip2 - xip1\n",
    "    grad = vec3\n",
    "    return grad"
   ]
  },
  {
   "cell_type": "code",
   "execution_count": 108,
   "metadata": {},
   "outputs": [
    {
     "name": "stdout",
     "output_type": "stream",
     "text": [
      "Loss: 0.252591\n",
      "Angel: 41.633539\n"
     ]
    }
   ],
   "source": [
    "xim2 = np.array([0.0, 0.0])\n",
    "xim1 = np.array([1.0, 0.0])\n",
    "\n",
    "xi = np.array([1.2, 0.1])\n",
    "# xi = np.array([1.0, 0.0])\n",
    "\n",
    "xip1 = np.array([2.0, 1.0])\n",
    "xip2 = np.array([2.0, 2.0])\n",
    "\n",
    "loss_fun2(xi, xip1, xip2)"
   ]
  },
  {
   "cell_type": "code",
   "execution_count": 118,
   "metadata": {},
   "outputs": [
    {
     "name": "stdout",
     "output_type": "stream",
     "text": [
      "[0. 1.]\n",
      "[ 1.29922779 -0.31240347]\n",
      "Loss: 0.117877\n",
      "Angel: 28.100476\n"
     ]
    }
   ],
   "source": [
    "grad = gradient2(xi, xip1, xip2)\n",
    "xi_tem = xi - grad * 0.1\n",
    "\n",
    "print(grad)\n",
    "print(xi_tem)\n",
    "loss_fun2(xi_tem, xip1, xip2)"
   ]
  },
  {
   "cell_type": "code",
   "execution_count": 117,
   "metadata": {},
   "outputs": [],
   "source": [
    "xi = xi_tem"
   ]
  },
  {
   "attachments": {},
   "cell_type": "markdown",
   "metadata": {},
   "source": [
    "#### test all"
   ]
  },
  {
   "cell_type": "code",
   "execution_count": 87,
   "metadata": {},
   "outputs": [],
   "source": [
    "def loss_fun(xim2, xim1, xi, xip1, xip2):\n",
    "    vec0 = xim1 - xim2\n",
    "    vec1 = xi - xim1\n",
    "    vec2 = xip1 - xi\n",
    "    vec3 = xip2 - xip1\n",
    "\n",
    "    cosT0 = vec0.dot(vec1.T) / (np.linalg.norm(vec0, ord=2) * np.linalg.norm(vec1, ord=2))\n",
    "    loss0 = 1.0 - cosT0\n",
    "\n",
    "    cosT1 = vec1.dot(vec2.T) / (np.linalg.norm(vec1, ord=2) * np.linalg.norm(vec2, ord=2))\n",
    "    loss1 = 1.0 - cosT1\n",
    "\n",
    "    cosT2 = vec2.dot(vec3.T) / (np.linalg.norm(vec2, ord=2) * np.linalg.norm(vec3, ord=2))\n",
    "    loss2 = 1.0 - cosT2\n",
    "    loss = loss0 + loss1 + loss2\n",
    "\n",
    "    print('Loss: %f -> (%f + %f + %f)' % (loss, loss0, loss1, loss2))\n",
    "    print('Angel: %f + %f + %f' % (\n",
    "        np.arccos(cosT0) / np.pi * 180.0,\n",
    "        np.arccos(cosT1) / np.pi * 180.0,\n",
    "        np.arccos(cosT2) / np.pi * 180.0\n",
    "    ))\n",
    "\n",
    "def gradient_mid(xim1, xi, xip1):\n",
    "    vec1 = xi - xim1\n",
    "    vec2 = xip1 - xi\n",
    "    grad = vec1 - vec2\n",
    "    return grad\n",
    "\n",
    "def gradient_first(xim2, xim1, xi):\n",
    "    vec0 = xim1 - xim2\n",
    "    grad = -vec0\n",
    "    return grad\n",
    "\n",
    "def gradient_last(xi, xip1, xip2):\n",
    "    vec3 = xip2 - xip1\n",
    "    grad = vec3\n",
    "    return grad"
   ]
  },
  {
   "cell_type": "code",
   "execution_count": 95,
   "metadata": {},
   "outputs": [
    {
     "name": "stdout",
     "output_type": "stream",
     "text": [
      "Loss: 0.429687 -> (0.105573 + 0.071523 + 0.252591)\n",
      "Angel: 26.565051 + 21.801409 + 41.633539\n"
     ]
    }
   ],
   "source": [
    "xim2 = np.array([0.0, 0.0])\n",
    "xim1 = np.array([1.0, 0.0])\n",
    "xi = np.array([1.2, 0.1])\n",
    "xip1 = np.array([2.0, 1.0])\n",
    "xip2 = np.array([2.0, 2.0])\n",
    "\n",
    "loss_fun(xim2, xim1, xi, xip1, xip2)"
   ]
  },
  {
   "cell_type": "code",
   "execution_count": 110,
   "metadata": {},
   "outputs": [
    {
     "name": "stdout",
     "output_type": "stream",
     "text": [
      "grad first: [-1. -0.]\n",
      "grad mid: [-0.6 -0.8]\n",
      "grad last: [0. 1.]\n",
      "grad:  [-1.6  0.2]\n",
      "[1.29922779 0.08759653]\n",
      "Loss: 0.439798 -> (0.040278 + 0.192596 + 0.206924)\n",
      "Angel: 16.316967 + 36.156939 + 37.526093\n"
     ]
    }
   ],
   "source": [
    "grad_first = gradient_first(xim2, xim1, xi)\n",
    "grad_mid = gradient_mid(xim1, xi, xip1)\n",
    "grad_last = gradient_last(xi, xip1, xip2)\n",
    "\n",
    "print('grad first:', grad_first)\n",
    "print('grad mid:', grad_mid)\n",
    "print('grad last:', grad_last)\n",
    "\n",
    "grad_all = grad_first + grad_mid + grad_last\n",
    "xi_tem = xi - grad_all / np.linalg.norm(grad_all, ord=2) * 0.1\n",
    "\n",
    "print('grad: ', grad_all)\n",
    "print(xi_tem)\n",
    "loss_fun(xim2, xim1, xi_tem, xip1, xip2)"
   ]
  },
  {
   "attachments": {},
   "cell_type": "markdown",
   "metadata": {},
   "source": [
    "### tttttt"
   ]
  },
  {
   "cell_type": "code",
   "execution_count": 3,
   "metadata": {},
   "outputs": [],
   "source": [
    "def loss_fun0(xim1, xi, xip1):\n",
    "    vec1 = xi - xim1\n",
    "    vec2 = xip1 - xi\n",
    "\n",
    "    cosT1 = vec1.dot(vec2.T) / (np.linalg.norm(vec1, ord=2) * np.linalg.norm(vec2, ord=2))\n",
    "    theta = np.arccos(cosT1)\n",
    "    curvature = theta / np.linalg.norm(vec2, ord=2)\n",
    "\n",
    "    loss1 = curvature\n",
    "    \n",
    "    print('Loss curvature: %f' % loss1)"
   ]
  },
  {
   "cell_type": "code",
   "execution_count": 157,
   "metadata": {},
   "outputs": [],
   "source": [
    "xim1, yim1 = symbols('xim1, yim1', is_real=True)\n",
    "x, y = symbols('x, y', is_real=True)\n",
    "xip1, yip1 = symbols('xip1, yip1', is_real=True)\n",
    "\n",
    "vecx2, vecy2 = x - xim1, y - yim1\n",
    "vecx3, vecy3 = xip1 - x, yip1 - y\n",
    "\n",
    "length2 = sympy.sqrt(sympy.Pow(vecx2, 2) + sympy.Pow(vecy2, 2))\n",
    "length3 = sympy.sqrt(sympy.Pow(vecx3, 2) + sympy.Pow(vecy3, 2))\n",
    "\n",
    "costheta1 = (vecx2 * vecx3 + vecy2 * vecy3) / (length2 * length3)\n",
    "theta = sympy.acos(costheta1)\n",
    "curvature = theta / length3\n",
    "\n",
    "loss = curvature"
   ]
  },
  {
   "cell_type": "code",
   "execution_count": 158,
   "metadata": {},
   "outputs": [
    {
     "data": {
      "image/png": "[encoded data removed]",
      "text/latex": [
       "$\\displaystyle \\frac{\\left(- x + xip_{1}\\right) \\operatorname{acos}{\\left(\\frac{\\left(- x + xip_{1}\\right) \\left(x - xim_{1}\\right) + \\left(- y + yip_{1}\\right) \\left(y - yim_{1}\\right)}{\\sqrt{\\left(- x + xip_{1}\\right)^{2} + \\left(- y + yip_{1}\\right)^{2}} \\sqrt{\\left(x - xim_{1}\\right)^{2} + \\left(y - yim_{1}\\right)^{2}}} \\right)}}{\\left(\\left(- x + xip_{1}\\right)^{2} + \\left(- y + yip_{1}\\right)^{2}\\right)^{\\frac{3}{2}}} - \\frac{\\frac{\\left(- x + xim_{1}\\right) \\left(\\left(- x + xip_{1}\\right) \\left(x - xim_{1}\\right) + \\left(- y + yip_{1}\\right) \\left(y - yim_{1}\\right)\\right)}{\\sqrt{\\left(- x + xip_{1}\\right)^{2} + \\left(- y + yip_{1}\\right)^{2}} \\left(\\left(x - xim_{1}\\right)^{2} + \\left(y - yim_{1}\\right)^{2}\\right)^{\\frac{3}{2}}} + \\frac{\\left(- x + xip_{1}\\right) \\left(\\left(- x + xip_{1}\\right) \\left(x - xim_{1}\\right) + \\left(- y + yip_{1}\\right) \\left(y - yim_{1}\\right)\\right)}{\\left(\\left(- x + xip_{1}\\right)^{2} + \\left(- y + yip_{1}\\right)^{2}\\right)^{\\frac{3}{2}} \\sqrt{\\left(x - xim_{1}\\right)^{2} + \\left(y - yim_{1}\\right)^{2}}} + \\frac{- 2 x + xim_{1} + xip_{1}}{\\sqrt{\\left(- x + xip_{1}\\right)^{2} + \\left(- y + yip_{1}\\right)^{2}} \\sqrt{\\left(x - xim_{1}\\right)^{2} + \\left(y - yim_{1}\\right)^{2}}}}{\\sqrt{- \\frac{\\left(\\left(- x + xip_{1}\\right) \\left(x - xim_{1}\\right) + \\left(- y + yip_{1}\\right) \\left(y - yim_{1}\\right)\\right)^{2}}{\\left(\\left(- x + xip_{1}\\right)^{2} + \\left(- y + yip_{1}\\right)^{2}\\right) \\left(\\left(x - xim_{1}\\right)^{2} + \\left(y - yim_{1}\\right)^{2}\\right)} + 1} \\sqrt{\\left(- x + xip_{1}\\right)^{2} + \\left(- y + yip_{1}\\right)^{2}}}$"
      ],
      "text/plain": [
       "                ⎛        (-x + xip₁)⋅(x - xim₁) + (-y + yip₁)⋅(y - yim₁)      \n",
       "(-x + xip₁)⋅acos⎜─────────────────────────────────────────────────────────────\n",
       "                ⎜   _____________________________    _________________________\n",
       "                ⎜  ╱            2              2    ╱           2             \n",
       "                ⎝╲╱  (-x + xip₁)  + (-y + yip₁)  ⋅╲╱  (x - xim₁)  + (y - yim₁)\n",
       "──────────────────────────────────────────────────────────────────────────────\n",
       "                                                      3/2                     \n",
       "                         ⎛           2              2⎞                        \n",
       "                         ⎝(-x + xip₁)  + (-y + yip₁) ⎠                        \n",
       "                                                                              \n",
       "                                                                              \n",
       "                                                                              \n",
       "\n",
       "  ⎞    (-x + xim₁)⋅((-x + xip₁)⋅(x - xim₁) + (-y + yip₁)⋅(y - yim₁))     (-x +\n",
       "──⎟   ─────────────────────────────────────────────────────────────── + ──────\n",
       "__⎟      _____________________________                            3/2         \n",
       "2 ⎟     ╱            2              2  ⎛          2             2⎞      ⎛     \n",
       "  ⎠   ╲╱  (-x + xip₁)  + (-y + yip₁)  ⋅⎝(x - xim₁)  + (y - yim₁) ⎠      ⎝(-x +\n",
       "─── - ────────────────────────────────────────────────────────────────────────\n",
       "                                                          ____________________\n",
       "                                                         ╱                    \n",
       "                                                        ╱        ((-x + xip₁)⋅\n",
       "                                                       ╱   - ─────────────────\n",
       "                                                      ╱      ⎛           2    \n",
       "                                                    ╲╱       ⎝(-x + xip₁)  + (\n",
       "\n",
       " xip₁)⋅((-x + xip₁)⋅(x - xim₁) + (-y + yip₁)⋅(y - yim₁))                      \n",
       "───────────────────────────────────────────────────────── + ──────────────────\n",
       "                       3/2    ___________________________      _______________\n",
       "      2              2⎞      ╱           2             2      ╱            2  \n",
       " xip₁)  + (-y + yip₁) ⎠   ⋅╲╱  (x - xim₁)  + (y - yim₁)     ╲╱  (-x + xip₁)  +\n",
       "──────────────────────────────────────────────────────────────────────────────\n",
       "_____________________________________________                                 \n",
       "                                    2            _____________________________\n",
       "(x - xim₁) + (-y + yip₁)⋅(y - yim₁))            ╱            2              2 \n",
       "──────────────────────────────────────── + 1 ⋅╲╱  (-x + xip₁)  + (-y + yip₁)  \n",
       "          2⎞ ⎛          2             2⎞                                      \n",
       "-y + yip₁) ⎠⋅⎝(x - xim₁)  + (y - yim₁) ⎠                                      \n",
       "\n",
       "     -2⋅x + xim₁ + xip₁                      \n",
       "─────────────────────────────────────────────\n",
       "______________    ___________________________\n",
       "            2    ╱           2             2 \n",
       " (-y + yip₁)  ⋅╲╱  (x - xim₁)  + (y - yim₁)  \n",
       "─────────────────────────────────────────────\n",
       "                                             \n",
       "                                             \n",
       "                                             \n",
       "                                             \n",
       "                                             \n",
       "                                             "
      ]
     },
     "execution_count": 158,
     "metadata": {},
     "output_type": "execute_result"
    }
   ],
   "source": [
    "sympy.diff(loss, x)"
   ]
  },
  {
   "cell_type": "code",
   "execution_count": 159,
   "metadata": {},
   "outputs": [
    {
     "data": {
      "image/png": "[encoded data removed]",
      "text/latex": [
       "$\\displaystyle \\frac{\\left(- y + yip_{1}\\right) \\operatorname{acos}{\\left(\\frac{\\left(- x + xip_{1}\\right) \\left(x - xim_{1}\\right) + \\left(- y + yip_{1}\\right) \\left(y - yim_{1}\\right)}{\\sqrt{\\left(- x + xip_{1}\\right)^{2} + \\left(- y + yip_{1}\\right)^{2}} \\sqrt{\\left(x - xim_{1}\\right)^{2} + \\left(y - yim_{1}\\right)^{2}}} \\right)}}{\\left(\\left(- x + xip_{1}\\right)^{2} + \\left(- y + yip_{1}\\right)^{2}\\right)^{\\frac{3}{2}}} - \\frac{\\frac{\\left(- y + yim_{1}\\right) \\left(\\left(- x + xip_{1}\\right) \\left(x - xim_{1}\\right) + \\left(- y + yip_{1}\\right) \\left(y - yim_{1}\\right)\\right)}{\\sqrt{\\left(- x + xip_{1}\\right)^{2} + \\left(- y + yip_{1}\\right)^{2}} \\left(\\left(x - xim_{1}\\right)^{2} + \\left(y - yim_{1}\\right)^{2}\\right)^{\\frac{3}{2}}} + \\frac{\\left(- y + yip_{1}\\right) \\left(\\left(- x + xip_{1}\\right) \\left(x - xim_{1}\\right) + \\left(- y + yip_{1}\\right) \\left(y - yim_{1}\\right)\\right)}{\\left(\\left(- x + xip_{1}\\right)^{2} + \\left(- y + yip_{1}\\right)^{2}\\right)^{\\frac{3}{2}} \\sqrt{\\left(x - xim_{1}\\right)^{2} + \\left(y - yim_{1}\\right)^{2}}} + \\frac{- 2 y + yim_{1} + yip_{1}}{\\sqrt{\\left(- x + xip_{1}\\right)^{2} + \\left(- y + yip_{1}\\right)^{2}} \\sqrt{\\left(x - xim_{1}\\right)^{2} + \\left(y - yim_{1}\\right)^{2}}}}{\\sqrt{- \\frac{\\left(\\left(- x + xip_{1}\\right) \\left(x - xim_{1}\\right) + \\left(- y + yip_{1}\\right) \\left(y - yim_{1}\\right)\\right)^{2}}{\\left(\\left(- x + xip_{1}\\right)^{2} + \\left(- y + yip_{1}\\right)^{2}\\right) \\left(\\left(x - xim_{1}\\right)^{2} + \\left(y - yim_{1}\\right)^{2}\\right)} + 1} \\sqrt{\\left(- x + xip_{1}\\right)^{2} + \\left(- y + yip_{1}\\right)^{2}}}$"
      ],
      "text/plain": [
       "                ⎛        (-x + xip₁)⋅(x - xim₁) + (-y + yip₁)⋅(y - yim₁)      \n",
       "(-y + yip₁)⋅acos⎜─────────────────────────────────────────────────────────────\n",
       "                ⎜   _____________________________    _________________________\n",
       "                ⎜  ╱            2              2    ╱           2             \n",
       "                ⎝╲╱  (-x + xip₁)  + (-y + yip₁)  ⋅╲╱  (x - xim₁)  + (y - yim₁)\n",
       "──────────────────────────────────────────────────────────────────────────────\n",
       "                                                      3/2                     \n",
       "                         ⎛           2              2⎞                        \n",
       "                         ⎝(-x + xip₁)  + (-y + yip₁) ⎠                        \n",
       "                                                                              \n",
       "                                                                              \n",
       "                                                                              \n",
       "\n",
       "  ⎞    (-y + yim₁)⋅((-x + xip₁)⋅(x - xim₁) + (-y + yip₁)⋅(y - yim₁))     (-y +\n",
       "──⎟   ─────────────────────────────────────────────────────────────── + ──────\n",
       "__⎟      _____________________________                            3/2         \n",
       "2 ⎟     ╱            2              2  ⎛          2             2⎞      ⎛     \n",
       "  ⎠   ╲╱  (-x + xip₁)  + (-y + yip₁)  ⋅⎝(x - xim₁)  + (y - yim₁) ⎠      ⎝(-x +\n",
       "─── - ────────────────────────────────────────────────────────────────────────\n",
       "                                                          ____________________\n",
       "                                                         ╱                    \n",
       "                                                        ╱        ((-x + xip₁)⋅\n",
       "                                                       ╱   - ─────────────────\n",
       "                                                      ╱      ⎛           2    \n",
       "                                                    ╲╱       ⎝(-x + xip₁)  + (\n",
       "\n",
       " yip₁)⋅((-x + xip₁)⋅(x - xim₁) + (-y + yip₁)⋅(y - yim₁))                      \n",
       "───────────────────────────────────────────────────────── + ──────────────────\n",
       "                       3/2    ___________________________      _______________\n",
       "      2              2⎞      ╱           2             2      ╱            2  \n",
       " xip₁)  + (-y + yip₁) ⎠   ⋅╲╱  (x - xim₁)  + (y - yim₁)     ╲╱  (-x + xip₁)  +\n",
       "──────────────────────────────────────────────────────────────────────────────\n",
       "_____________________________________________                                 \n",
       "                                    2            _____________________________\n",
       "(x - xim₁) + (-y + yip₁)⋅(y - yim₁))            ╱            2              2 \n",
       "──────────────────────────────────────── + 1 ⋅╲╱  (-x + xip₁)  + (-y + yip₁)  \n",
       "          2⎞ ⎛          2             2⎞                                      \n",
       "-y + yip₁) ⎠⋅⎝(x - xim₁)  + (y - yim₁) ⎠                                      \n",
       "\n",
       "     -2⋅y + yim₁ + yip₁                      \n",
       "─────────────────────────────────────────────\n",
       "______________    ___________________________\n",
       "            2    ╱           2             2 \n",
       " (-y + yip₁)  ⋅╲╱  (x - xim₁)  + (y - yim₁)  \n",
       "─────────────────────────────────────────────\n",
       "                                             \n",
       "                                             \n",
       "                                             \n",
       "                                             \n",
       "                                             \n",
       "                                             "
      ]
     },
     "execution_count": 159,
     "metadata": {},
     "output_type": "execute_result"
    }
   ],
   "source": [
    "sympy.diff(loss, y)"
   ]
  },
  {
   "cell_type": "code",
   "execution_count": 7,
   "metadata": {},
   "outputs": [],
   "source": [
    "def gradient0(xim1, xi, xip1):\n",
    "    vec1 = xi - xim1\n",
    "    vec2 = xip1 - xi\n",
    "\n",
    "    length1 = np.linalg.norm(vec1)\n",
    "    length2 = np.linalg.norm(vec2)\n",
    "\n",
    "    s1 = np.arccos(vec1.dot(vec2.T) / (length1 * length2))\n",
    "    s2 = np.power(length2, 3.0)\n",
    "    s3 = vec1.dot(vec2.T) / (length2 * np.power(length1, 3.0))\n",
    "    s4 = vec1.dot(vec2.T) / (length1 * np.power(length2, 3.))\n",
    "    s5 = length1 * length2\n",
    "    s6 = np.sqrt(1.0 - np.power(vec1.dot(vec2.T), 2.0) / (np.power(length1, 2.0) * np.power(length2, 2.0)))\n",
    "    \n",
    "    grad = vec2 * s1 / s2 - (vec1 * s3 + vec2 * s4 + (vec2 - vec1) / s5) / (s6 * length2)\n",
    "\n",
    "    return grad"
   ]
  },
  {
   "cell_type": "code",
   "execution_count": 49,
   "metadata": {},
   "outputs": [
    {
     "name": "stdout",
     "output_type": "stream",
     "text": [
      "Loss curvature: 0.315993\n"
     ]
    }
   ],
   "source": [
    "xim2 = np.array([0.0, 0.0])\n",
    "xim1 = np.array([1.0, 0.0])\n",
    "\n",
    "xi = np.array([1.2, 0.1])\n",
    "# xi = np.array([2.0, 0.0])\n",
    "\n",
    "xip1 = np.array([2.0, 1.0])\n",
    "xip2 = np.array([2.0, 2.0])\n",
    "\n",
    "loss_fun0(xim1, xi, xip1)"
   ]
  },
  {
   "cell_type": "code",
   "execution_count": 52,
   "metadata": {},
   "outputs": [
    {
     "name": "stdout",
     "output_type": "stream",
     "text": [
      "[-12.24546296 -11.33007594]\n",
      "[1.35020602 0.23195282]\n",
      "Loss curvature: 0.281909\n"
     ]
    }
   ],
   "source": [
    "grad = gradient0(xim1, xi, xip1)\n",
    "xi_tem = xi - grad / np.linalg.norm(grad) * 0.1\n",
    "\n",
    "print(grad)\n",
    "print(xi_tem)\n",
    "loss_fun0(xim1, xi_tem, xip1)"
   ]
  },
  {
   "cell_type": "code",
   "execution_count": 51,
   "metadata": {},
   "outputs": [],
   "source": [
    "xi = xi_tem"
   ]
  }
 ],
 "metadata": {
  "kernelspec": {
   "display_name": "torch-env",
   "language": "python",
   "name": "python3"
  },
  "language_info": {
   "codemirror_mode": {
    "name": "ipython",
    "version": 3
   },
   "file_extension": ".py",
   "mimetype": "text/x-python",
   "name": "python",
   "nbconvert_exporter": "python",
   "pygments_lexer": "ipython3",
   "version": "3.7.8"
  },
  "orig_nbformat": 4
 },
 "nbformat": 4,
 "nbformat_minor": 2
}
